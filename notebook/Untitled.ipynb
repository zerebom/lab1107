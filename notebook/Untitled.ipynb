{
 "cells": [
  {
   "cell_type": "code",
   "execution_count": 4,
   "metadata": {},
   "outputs": [],
   "source": [
    "import SimpleITK as sitk\n",
    "im=sitk.ReadImage('/home/kakeya/ssd/deeds_data/00002/SE2.nii.gz')\n"
   ]
  },
  {
   "cell_type": "code",
   "execution_count": 5,
   "metadata": {},
   "outputs": [],
   "source": [
    "img_array = sitk.GetArrayFromImage(im)"
   ]
  },
  {
   "cell_type": "code",
   "execution_count": 6,
   "metadata": {},
   "outputs": [
    {
     "data": {
      "text/plain": [
       "(512, 957, 512)"
      ]
     },
     "execution_count": 6,
     "metadata": {},
     "output_type": "execute_result"
    }
   ],
   "source": [
    "img_array.shape"
   ]
  },
  {
   "cell_type": "code",
   "execution_count": 10,
   "metadata": {},
   "outputs": [
    {
     "data": {
      "text/plain": [
       "array([[-1024, -1024, -1024, ..., -1024, -1024, -1024],\n",
       "       [-1024, -1024, -1024, ..., -1024, -1024, -1024],\n",
       "       [-1024, -1024, -1024, ..., -1024, -1024, -1024],\n",
       "       ...,\n",
       "       [-1024, -1024, -1024, ..., -1024, -1024, -1024],\n",
       "       [-1024, -1024, -1024, ..., -1024, -1024, -1024],\n",
       "       [-1024, -1024, -1024, ..., -1024, -1024, -1024]], dtype=int16)"
      ]
     },
     "execution_count": 10,
     "metadata": {},
     "output_type": "execute_result"
    }
   ],
   "source": [
    "img_array[:,0,:]"
   ]
  },
  {
   "cell_type": "code",
   "execution_count": 54,
   "metadata": {},
   "outputs": [
    {
     "name": "stdout",
     "output_type": "stream",
     "text": [
      "ordereddict([('DIR', ordereddict([('ROOT', '/home/kakeya/Desktop/higuchi/20191107'), ('DATA', '/home/kakeya/Desktop/higuchi/data'), ('OWN', '/home/kakeya/Desktop/higuchi/20191107/experiment/normal/fold1')])), ('CID', ordereddict([('TRAIN', ['001', '002', '003', '004', '005', '006', '007', '008', '009', '010', '011', '012', '013', '017', '018', '019', '025', '028', '029', '030', '031', '032', '039', '014', '015', '021', '022', '023', '024', '026', '033', '034', '035', '036', '037', '038', '040', '041', '044', '045', '046', '047', '051', '055', '057', '064', '065', '053', '058', '060', '061', '062', '063', '066', '067', '068', '069', '071', '072', '073', '074', '076', '077', '078', '079', '083', '086', '093', '094']), ('VAL', ['082', '088', '090', '095', '096', '097', '098', '101', '102', '103', '104', '105', '107', '109', '112', '113', '117', '118', '122', '123', '125', '130']), ('TEST', ['115', '119', '121', '124', '126', '127', '134', '135', '136', '138', '140', '142', '145', '146', '147', '149', '150', '151', '152', '154', '157', '159'])])), ('PATCH_DIR', ordereddict([('TRAIN', 'tumor_60x60x20'), ('VAL', 'tumor_48x48x16')])), ('PATCH_SHAPE', [48, 48, 16, 2]), ('BATCH_SIZE', 16), ('LOCAL_HE', False), ('STANDARD', False), ('GENERATOR', 'Generator'), ('FOLD', 1), ('PRED_WEIGHT', '/home/kakeya/Desktop/higuchi/20191107/experiment/KLD_inkid/fold1/2019-12-13_21-17/weights-e007.hdf5')])\n"
     ]
    }
   ],
   "source": [
    "from pathlib import Path\n",
    "from ruamel.yaml import YAML, add_constructor, resolver\n",
    "from collections import OrderedDict\n",
    "\n",
    "def ParseArgs():\n",
    "    parser=argparse.ArgumentParser()\n",
    "    parser.add_argument('yaml_path',type=str)\n",
    "    args = parser.parse_args()\n",
    "    return args\n",
    "\n",
    "args=ParseArgs()\n",
    "yml=args.yaml_path\n",
    "hdf5=str(sorted(list(Path(yml).parent.glob(\"**/*.hdf5\")))[-1])\n",
    "\n",
    "# 入力時に順序を保持する\n",
    "add_constructor(resolver.BaseResolver.DEFAULT_MAPPING_TAG,\n",
    "    lambda loader, node: OrderedDict(loader.construct_pairs(node)))\n",
    "\n",
    "yaml = YAML()\n",
    "yaml.default_flow_style = False\n",
    "\n",
    "# ファイルから入力\n",
    "with open(yml,'r') as file:\n",
    "    yml2=yaml.load(file)\n",
    "    yml2['PRED_WEIGHT']=hdf5\n",
    "    print(yml2)\n",
    "\n",
    "with open(yml,'w') as file:\n",
    "    yaml.dump(yml2, file)"
   ]
  },
  {
   "cell_type": "code",
   "execution_count": null,
   "metadata": {},
   "outputs": [],
   "source": []
  }
 ],
 "metadata": {
  "kernelspec": {
   "display_name": "Python 3",
   "language": "python",
   "name": "python3"
  },
  "language_info": {
   "codemirror_mode": {
    "name": "ipython",
    "version": 3
   },
   "file_extension": ".py",
   "mimetype": "text/x-python",
   "name": "python",
   "nbconvert_exporter": "python",
   "pygments_lexer": "ipython3",
   "version": "3.6.8"
  }
 },
 "nbformat": 4,
 "nbformat_minor": 4
}
