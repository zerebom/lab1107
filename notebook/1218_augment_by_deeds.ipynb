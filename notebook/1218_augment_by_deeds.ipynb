{
 "cells": [
  {
   "cell_type": "markdown",
   "metadata": {},
   "source": [
    "Deedsで変形するために色々データを眺める。  \n",
    "正常ガンに投影するためには、どの患者の左右どちらに正常ガンがあるかを調べる必要がある。  \n",
    "\n",
    "また、各ユーザに対するスペーシング幅やOriginも揃える必要がある。  "
   ]
  },
  {
   "cell_type": "code",
   "execution_count": 2,
   "metadata": {},
   "outputs": [],
   "source": [
    "import SimpleITK as sitk\n",
    "from pathlib import Path\n",
    "import numpy as np\n",
    "import pandas as pd\n",
    "import matplotlib.pyplot as plt\n",
    "import seaborn as sns\n",
    "pd.set_option('display.max_columns', 100)\n",
    "from pyobb.obb import OBB"
   ]
  },
  {
   "cell_type": "code",
   "execution_count": 127,
   "metadata": {},
   "outputs": [],
   "source": [
    "import warnings\n",
    "warnings.filterwarnings('ignore')"
   ]
  },
  {
   "cell_type": "code",
   "execution_count": 3,
   "metadata": {},
   "outputs": [],
   "source": [
    "statistics_path='/home/kakeya/Desktop/higuchi/20191021/output/statistics.csv'\n",
    "st_df=pd.read_csv(statistics_path,index_col=0)\n",
    "cols=['count','count_CCR','count_cys','lumi_mean']\n",
    "mini_df=st_df[cols].reset_index().fillna(0)\n",
    "mini_df.head()"
   ]
  },
  {
   "cell_type": "code",
   "execution_count": 117,
   "metadata": {},
   "outputs": [],
   "source": [
    "#mini_ccr_df=mini_df.query('0<count_CCR<10000')\n",
    "mini_ccr_df=mini_df.query('0<count_CCR')"
   ]
  },
  {
   "cell_type": "code",
   "execution_count": 118,
   "metadata": {},
   "outputs": [],
   "source": [
    "ccr_cids=mini_ccr_df['index'].values"
   ]
  },
  {
   "cell_type": "code",
   "execution_count": 119,
   "metadata": {},
   "outputs": [],
   "source": [
    "## linearBCV -F /home/kakeya/Desktop/higuchi/data/00127/SE2.nii.gz -M /home/kakeya/Desktop/higuchi/data/00015/SE2.nii.gz -O ./affine"
   ]
  },
  {
   "cell_type": "code",
   "execution_count": 120,
   "metadata": {},
   "outputs": [],
   "source": [
    "#deedsBCV -F /home/kakeya/Desktop/higuchi/data/00127/SE2.nii.gz -M /home/kakeya/Desktop/higuchi/data/00015/SE2.nii.gz -O ./BCVs -A ./affine_matrix.txt"
   ]
  },
  {
   "cell_type": "code",
   "execution_count": 121,
   "metadata": {},
   "outputs": [
    {
     "data": {
      "text/plain": [
       "(101, 512, 512)"
      ]
     },
     "execution_count": 121,
     "metadata": {},
     "output_type": "execute_result"
    }
   ],
   "source": [
    "ccrcc.shape"
   ]
  },
  {
   "cell_type": "code",
   "execution_count": 159,
   "metadata": {},
   "outputs": [],
   "source": [
    "path=f'/home/kakeya/Desktop/higuchi/data/{str(cid).zfill(5)}/CCRCC.nii.gz'\n",
    "\n",
    "ccrcc=sitk.GetArrayFromImage(sitk.ReadImage(path))\n"
   ]
  },
  {
   "cell_type": "code",
   "execution_count": 166,
   "metadata": {},
   "outputs": [
    {
     "data": {
      "text/plain": [
       "(271, 512, 512)"
      ]
     },
     "execution_count": 166,
     "metadata": {},
     "output_type": "execute_result"
    }
   ],
   "source": [
    "ccrcc.shape"
   ]
  },
  {
   "cell_type": "code",
   "execution_count": 173,
   "metadata": {
    "collapsed": true,
    "jupyter": {
     "outputs_hidden": true
    }
   },
   "outputs": [
    {
     "data": {
      "text/plain": [
       "array([[[0, 0, 0, ..., 0, 0, 0],\n",
       "        [0, 0, 0, ..., 0, 0, 0],\n",
       "        [0, 0, 0, ..., 0, 0, 0],\n",
       "        ...,\n",
       "        [0, 0, 0, ..., 0, 0, 0],\n",
       "        [0, 0, 0, ..., 0, 0, 0],\n",
       "        [0, 0, 0, ..., 0, 0, 0]],\n",
       "\n",
       "       [[0, 0, 0, ..., 0, 0, 0],\n",
       "        [0, 0, 0, ..., 0, 0, 0],\n",
       "        [0, 0, 0, ..., 0, 0, 0],\n",
       "        ...,\n",
       "        [0, 0, 0, ..., 0, 0, 0],\n",
       "        [0, 0, 0, ..., 0, 0, 0],\n",
       "        [0, 0, 0, ..., 0, 0, 0]],\n",
       "\n",
       "       [[0, 0, 0, ..., 0, 0, 0],\n",
       "        [0, 0, 0, ..., 0, 0, 0],\n",
       "        [0, 0, 0, ..., 0, 0, 0],\n",
       "        ...,\n",
       "        [0, 0, 0, ..., 0, 0, 0],\n",
       "        [0, 0, 0, ..., 0, 0, 0],\n",
       "        [0, 0, 0, ..., 0, 0, 0]],\n",
       "\n",
       "       ...,\n",
       "\n",
       "       [[0, 0, 0, ..., 0, 0, 0],\n",
       "        [0, 0, 0, ..., 0, 0, 0],\n",
       "        [0, 0, 0, ..., 0, 0, 0],\n",
       "        ...,\n",
       "        [0, 0, 0, ..., 0, 0, 0],\n",
       "        [0, 0, 0, ..., 0, 0, 0],\n",
       "        [0, 0, 0, ..., 0, 0, 0]],\n",
       "\n",
       "       [[0, 0, 0, ..., 0, 0, 0],\n",
       "        [0, 0, 0, ..., 0, 0, 0],\n",
       "        [0, 0, 0, ..., 0, 0, 0],\n",
       "        ...,\n",
       "        [0, 0, 0, ..., 0, 0, 0],\n",
       "        [0, 0, 0, ..., 0, 0, 0],\n",
       "        [0, 0, 0, ..., 0, 0, 0]],\n",
       "\n",
       "       [[0, 0, 0, ..., 0, 0, 0],\n",
       "        [0, 0, 0, ..., 0, 0, 0],\n",
       "        [0, 0, 0, ..., 0, 0, 0],\n",
       "        ...,\n",
       "        [0, 0, 0, ..., 0, 0, 0],\n",
       "        [0, 0, 0, ..., 0, 0, 0],\n",
       "        [0, 0, 0, ..., 0, 0, 0]]], dtype=uint8)"
      ]
     },
     "execution_count": 173,
     "metadata": {},
     "output_type": "execute_result"
    }
   ],
   "source": [
    "ccrcc"
   ]
  },
  {
   "cell_type": "code",
   "execution_count": 180,
   "metadata": {
    "jupyter": {
     "source_hidden": true
    }
   },
   "outputs": [],
   "source": [
    "ccrcc2=ccrcc.reshape(ccrcc.shape[0],-1)\n",
    "boolccr=np.all(ccrcc2==0,axis=1)\n",
    "st=np.where(boolccr.astype(int)==0)[0][0]\n",
    "en=np.where(boolccr.astype(int)==0)[0][-1]"
   ]
  },
  {
   "cell_type": "code",
   "execution_count": 189,
   "metadata": {},
   "outputs": [
    {
     "data": {
      "text/plain": [
       "180"
      ]
     },
     "execution_count": 189,
     "metadata": {},
     "output_type": "execute_result"
    }
   ],
   "source": []
  },
  {
   "cell_type": "code",
   "execution_count": 123,
   "metadata": {},
   "outputs": [
    {
     "data": {
      "text/plain": [
       "0.7020000219345093"
      ]
     },
     "execution_count": 123,
     "metadata": {},
     "output_type": "execute_result"
    }
   ],
   "source": [
    "raw_ccrcc.GetSpacing()[0]"
   ]
  },
  {
   "cell_type": "code",
   "execution_count": 130,
   "metadata": {},
   "outputs": [],
   "source": [
    "cids=mini_ccr_df['index'].values"
   ]
  },
  {
   "cell_type": "code",
   "execution_count": 149,
   "metadata": {},
   "outputs": [],
   "source": [
    "mini_ccr_df['right']=0\n",
    "mini_ccr_df['left']=0\n",
    "mini_ccr_df['slices']=0\n",
    "mini_ccr_df['spacing_xy']=0.0\n",
    "mini_ccr_df['spacing_z']=0.0\n",
    "for i in range(3):\n",
    "    mini_ccr_df[f'origin_{i}']=0.0\n",
    "\n",
    "\n",
    "mini_ccr_df.reset_index(drop=True,inplace=True)\n",
    "for i,cid in enumerate(cids):\n",
    "    path=f'/home/kakeya/Desktop/higuchi/data/{str(cid).zfill(5)}/SE2.nii.gz'cc\n",
    "    raw_ccrcc=sitk.ReadImage(path)\n",
    "    raw_ccrcc.SetSpacing((0.7,0.7,2.0))\n",
    "    ccrcc=sitk.GetArrayFromImage(raw_ccrcc)\n",
    "    if raw_ccrcc.GetSpacing()[0]!=raw_ccrcc.GetSpacing()[1]:\n",
    "        raise ValueError('x spacing and y one are not same.')\n",
    "    mini_ccr_df.at[i,'spacing_xy']=raw_ccrcc.GetSpacing()[0]\n",
    "    mini_ccr_df.at[i,'spacing_z']=raw_ccrcc.GetSpacing()[2]\n",
    "    for j in range(3):\n",
    "        mini_ccr_df.at[i,f'origin_{j}']=raw_ccrcc.GetOrigin()[j]\n",
    "    \n",
    "    right=ccrcc[:,:,256:]\n",
    "    left=ccrcc[:,:,:256]\n",
    "    mini_ccr_df.at[i,'slices']=ccrcc.shape[0]\n",
    "    mini_ccr_df.at[i,'right']=1 if right.sum()>0 else 0\n",
    "    mini_ccr_df.at[i,'left']=1 if left.sum()>0 else 0    "
   ]
  },
  {
   "cell_type": "code",
   "execution_count": 153,
   "metadata": {},
   "outputs": [
    {
     "data": {
      "text/html": [
       "<div>\n",
       "<style scoped>\n",
       "    .dataframe tbody tr th:only-of-type {\n",
       "        vertical-align: middle;\n",
       "    }\n",
       "\n",
       "    .dataframe tbody tr th {\n",
       "        vertical-align: top;\n",
       "    }\n",
       "\n",
       "    .dataframe thead th {\n",
       "        text-align: right;\n",
       "    }\n",
       "</style>\n",
       "<table border=\"1\" class=\"dataframe\">\n",
       "  <thead>\n",
       "    <tr style=\"text-align: right;\">\n",
       "      <th></th>\n",
       "      <th>index</th>\n",
       "      <th>count</th>\n",
       "      <th>count_CCR</th>\n",
       "      <th>count_cys</th>\n",
       "      <th>lumi_mean</th>\n",
       "      <th>right</th>\n",
       "      <th>left</th>\n",
       "      <th>slices</th>\n",
       "      <th>spacing_xy</th>\n",
       "      <th>spacing_z</th>\n",
       "      <th>origin</th>\n",
       "      <th>size</th>\n",
       "      <th>origin_0</th>\n",
       "      <th>origin_1</th>\n",
       "      <th>origin_2</th>\n",
       "    </tr>\n",
       "  </thead>\n",
       "  <tbody>\n",
       "    <tr>\n",
       "      <th>88</th>\n",
       "      <td>126</td>\n",
       "      <td>581488</td>\n",
       "      <td>6639.0</td>\n",
       "      <td>0.0</td>\n",
       "      <td>129.052146</td>\n",
       "      <td>0</td>\n",
       "      <td>0</td>\n",
       "      <td>71</td>\n",
       "      <td>0.7</td>\n",
       "      <td>2.0</td>\n",
       "      <td>-134.1_-118.5_1582.5</td>\n",
       "      <td></td>\n",
       "      <td>-134.102005</td>\n",
       "      <td>-118.476997</td>\n",
       "      <td>1582.500000</td>\n",
       "    </tr>\n",
       "    <tr>\n",
       "      <th>95</th>\n",
       "      <td>140</td>\n",
       "      <td>609010</td>\n",
       "      <td>10260.0</td>\n",
       "      <td>0.0</td>\n",
       "      <td>144.732817</td>\n",
       "      <td>0</td>\n",
       "      <td>0</td>\n",
       "      <td>73</td>\n",
       "      <td>0.7</td>\n",
       "      <td>2.0</td>\n",
       "      <td>-87.2_-124.0_1630.5</td>\n",
       "      <td></td>\n",
       "      <td>-87.246696</td>\n",
       "      <td>-123.964996</td>\n",
       "      <td>1630.500000</td>\n",
       "    </tr>\n",
       "    <tr>\n",
       "      <th>30</th>\n",
       "      <td>40</td>\n",
       "      <td>503748</td>\n",
       "      <td>119081.0</td>\n",
       "      <td>236.0</td>\n",
       "      <td>77.606960</td>\n",
       "      <td>0</td>\n",
       "      <td>0</td>\n",
       "      <td>82</td>\n",
       "      <td>0.7</td>\n",
       "      <td>2.0</td>\n",
       "      <td>-174.7_-319.7_-266.9</td>\n",
       "      <td></td>\n",
       "      <td>-174.658005</td>\n",
       "      <td>-319.657990</td>\n",
       "      <td>-266.899994</td>\n",
       "    </tr>\n",
       "    <tr>\n",
       "      <th>101</th>\n",
       "      <td>150</td>\n",
       "      <td>690376</td>\n",
       "      <td>4979.0</td>\n",
       "      <td>0.0</td>\n",
       "      <td>148.489942</td>\n",
       "      <td>0</td>\n",
       "      <td>0</td>\n",
       "      <td>85</td>\n",
       "      <td>0.7</td>\n",
       "      <td>2.0</td>\n",
       "      <td>-146.6_-141.9_1534.0</td>\n",
       "      <td></td>\n",
       "      <td>-146.582001</td>\n",
       "      <td>-141.895004</td>\n",
       "      <td>1534.000000</td>\n",
       "    </tr>\n",
       "    <tr>\n",
       "      <th>46</th>\n",
       "      <td>65</td>\n",
       "      <td>406813</td>\n",
       "      <td>24064.0</td>\n",
       "      <td>24628.0</td>\n",
       "      <td>105.880599</td>\n",
       "      <td>0</td>\n",
       "      <td>0</td>\n",
       "      <td>87</td>\n",
       "      <td>0.7</td>\n",
       "      <td>2.0</td>\n",
       "      <td>-164.7_-279.7_1250.1</td>\n",
       "      <td></td>\n",
       "      <td>-164.688004</td>\n",
       "      <td>-279.687988</td>\n",
       "      <td>1250.099976</td>\n",
       "    </tr>\n",
       "    <tr>\n",
       "      <th>7</th>\n",
       "      <td>10</td>\n",
       "      <td>523632</td>\n",
       "      <td>8602.0</td>\n",
       "      <td>73798.0</td>\n",
       "      <td>113.629730</td>\n",
       "      <td>0</td>\n",
       "      <td>0</td>\n",
       "      <td>91</td>\n",
       "      <td>0.7</td>\n",
       "      <td>2.0</td>\n",
       "      <td>-182.1_-49.6_80.0</td>\n",
       "      <td></td>\n",
       "      <td>-182.052994</td>\n",
       "      <td>-49.631599</td>\n",
       "      <td>80.000000</td>\n",
       "    </tr>\n",
       "    <tr>\n",
       "      <th>11</th>\n",
       "      <td>14</td>\n",
       "      <td>449899</td>\n",
       "      <td>8859.0</td>\n",
       "      <td>69930.0</td>\n",
       "      <td>79.036582</td>\n",
       "      <td>0</td>\n",
       "      <td>0</td>\n",
       "      <td>91</td>\n",
       "      <td>0.7</td>\n",
       "      <td>2.0</td>\n",
       "      <td>-200.0_-75.0_-10.0</td>\n",
       "      <td></td>\n",
       "      <td>-200.000000</td>\n",
       "      <td>-75.000000</td>\n",
       "      <td>-10.000000</td>\n",
       "    </tr>\n",
       "    <tr>\n",
       "      <th>35</th>\n",
       "      <td>47</td>\n",
       "      <td>547062</td>\n",
       "      <td>177968.0</td>\n",
       "      <td>58689.0</td>\n",
       "      <td>89.556973</td>\n",
       "      <td>0</td>\n",
       "      <td>0</td>\n",
       "      <td>93</td>\n",
       "      <td>0.7</td>\n",
       "      <td>2.0</td>\n",
       "      <td>-185.6_-319.6_-346.7</td>\n",
       "      <td></td>\n",
       "      <td>-185.647995</td>\n",
       "      <td>-319.648010</td>\n",
       "      <td>-346.700012</td>\n",
       "    </tr>\n",
       "    <tr>\n",
       "      <th>84</th>\n",
       "      <td>122</td>\n",
       "      <td>679953</td>\n",
       "      <td>7791.0</td>\n",
       "      <td>214.0</td>\n",
       "      <td>133.123704</td>\n",
       "      <td>0</td>\n",
       "      <td>0</td>\n",
       "      <td>93</td>\n",
       "      <td>0.7</td>\n",
       "      <td>2.0</td>\n",
       "      <td>-137.2_-100.5_1685.0</td>\n",
       "      <td></td>\n",
       "      <td>-137.227005</td>\n",
       "      <td>-100.508003</td>\n",
       "      <td>1685.000000</td>\n",
       "    </tr>\n",
       "    <tr>\n",
       "      <th>50</th>\n",
       "      <td>69</td>\n",
       "      <td>382154</td>\n",
       "      <td>4125.0</td>\n",
       "      <td>35.0</td>\n",
       "      <td>179.086175</td>\n",
       "      <td>0</td>\n",
       "      <td>0</td>\n",
       "      <td>95</td>\n",
       "      <td>0.7</td>\n",
       "      <td>2.0</td>\n",
       "      <td>-177.0_-25.0_503.8</td>\n",
       "      <td></td>\n",
       "      <td>-177.000000</td>\n",
       "      <td>-25.000000</td>\n",
       "      <td>503.799988</td>\n",
       "    </tr>\n",
       "    <tr>\n",
       "      <th>20</th>\n",
       "      <td>28</td>\n",
       "      <td>347469</td>\n",
       "      <td>17345.0</td>\n",
       "      <td>0.0</td>\n",
       "      <td>104.442972</td>\n",
       "      <td>0</td>\n",
       "      <td>0</td>\n",
       "      <td>98</td>\n",
       "      <td>0.7</td>\n",
       "      <td>2.0</td>\n",
       "      <td>-163.7_-303.7_-348.0</td>\n",
       "      <td></td>\n",
       "      <td>-163.667999</td>\n",
       "      <td>-303.667999</td>\n",
       "      <td>-348.000000</td>\n",
       "    </tr>\n",
       "    <tr>\n",
       "      <th>15</th>\n",
       "      <td>18</td>\n",
       "      <td>286346</td>\n",
       "      <td>8626.0</td>\n",
       "      <td>68.0</td>\n",
       "      <td>109.524156</td>\n",
       "      <td>0</td>\n",
       "      <td>0</td>\n",
       "      <td>100</td>\n",
       "      <td>0.7</td>\n",
       "      <td>2.0</td>\n",
       "      <td>-152.7_-287.7_-436.4</td>\n",
       "      <td></td>\n",
       "      <td>-152.697006</td>\n",
       "      <td>-287.696991</td>\n",
       "      <td>-436.399994</td>\n",
       "    </tr>\n",
       "    <tr>\n",
       "      <th>19</th>\n",
       "      <td>25</td>\n",
       "      <td>491407</td>\n",
       "      <td>84357.0</td>\n",
       "      <td>0.0</td>\n",
       "      <td>92.113480</td>\n",
       "      <td>0</td>\n",
       "      <td>0</td>\n",
       "      <td>100</td>\n",
       "      <td>0.7</td>\n",
       "      <td>2.0</td>\n",
       "      <td>-190.6_-320.6_-409.4</td>\n",
       "      <td></td>\n",
       "      <td>-190.639008</td>\n",
       "      <td>-320.639008</td>\n",
       "      <td>-409.399994</td>\n",
       "    </tr>\n",
       "    <tr>\n",
       "      <th>45</th>\n",
       "      <td>64</td>\n",
       "      <td>879917</td>\n",
       "      <td>547839.0</td>\n",
       "      <td>297.0</td>\n",
       "      <td>84.088477</td>\n",
       "      <td>0</td>\n",
       "      <td>0</td>\n",
       "      <td>100</td>\n",
       "      <td>0.7</td>\n",
       "      <td>2.0</td>\n",
       "      <td>-165.7_-329.7_-340.3</td>\n",
       "      <td></td>\n",
       "      <td>-165.667999</td>\n",
       "      <td>-329.667999</td>\n",
       "      <td>-340.299988</td>\n",
       "    </tr>\n",
       "    <tr>\n",
       "      <th>104</th>\n",
       "      <td>154</td>\n",
       "      <td>245366</td>\n",
       "      <td>1762.0</td>\n",
       "      <td>1077.0</td>\n",
       "      <td>147.857389</td>\n",
       "      <td>0</td>\n",
       "      <td>0</td>\n",
       "      <td>101</td>\n",
       "      <td>0.7</td>\n",
       "      <td>2.0</td>\n",
       "      <td>-184.2_-179.3_1839.0</td>\n",
       "      <td></td>\n",
       "      <td>-184.218994</td>\n",
       "      <td>-179.337006</td>\n",
       "      <td>1839.000000</td>\n",
       "    </tr>\n",
       "    <tr>\n",
       "      <th>21</th>\n",
       "      <td>29</td>\n",
       "      <td>436753</td>\n",
       "      <td>40828.0</td>\n",
       "      <td>0.0</td>\n",
       "      <td>102.429080</td>\n",
       "      <td>0</td>\n",
       "      <td>0</td>\n",
       "      <td>101</td>\n",
       "      <td>0.7</td>\n",
       "      <td>2.0</td>\n",
       "      <td>-167.7_-305.7_-419.8</td>\n",
       "      <td></td>\n",
       "      <td>-167.667999</td>\n",
       "      <td>-305.667999</td>\n",
       "      <td>-419.799988</td>\n",
       "    </tr>\n",
       "    <tr>\n",
       "      <th>94</th>\n",
       "      <td>138</td>\n",
       "      <td>315781</td>\n",
       "      <td>114739.0</td>\n",
       "      <td>225.0</td>\n",
       "      <td>130.388573</td>\n",
       "      <td>0</td>\n",
       "      <td>0</td>\n",
       "      <td>101</td>\n",
       "      <td>0.7</td>\n",
       "      <td>2.0</td>\n",
       "      <td>-171.0_7.0_481.1</td>\n",
       "      <td></td>\n",
       "      <td>-171.000000</td>\n",
       "      <td>7.000000</td>\n",
       "      <td>481.100006</td>\n",
       "    </tr>\n",
       "    <tr>\n",
       "      <th>40</th>\n",
       "      <td>58</td>\n",
       "      <td>498811</td>\n",
       "      <td>177274.0</td>\n",
       "      <td>0.0</td>\n",
       "      <td>144.889425</td>\n",
       "      <td>0</td>\n",
       "      <td>0</td>\n",
       "      <td>101</td>\n",
       "      <td>0.7</td>\n",
       "      <td>2.0</td>\n",
       "      <td>-175.0_-13.0_429.1</td>\n",
       "      <td></td>\n",
       "      <td>-175.000000</td>\n",
       "      <td>-13.000000</td>\n",
       "      <td>429.100006</td>\n",
       "    </tr>\n",
       "    <tr>\n",
       "      <th>2</th>\n",
       "      <td>4</td>\n",
       "      <td>308553</td>\n",
       "      <td>31025.0</td>\n",
       "      <td>3197.0</td>\n",
       "      <td>98.561761</td>\n",
       "      <td>0</td>\n",
       "      <td>0</td>\n",
       "      <td>101</td>\n",
       "      <td>0.7</td>\n",
       "      <td>2.0</td>\n",
       "      <td>-190.0_-29.0_-160.0</td>\n",
       "      <td></td>\n",
       "      <td>-190.000000</td>\n",
       "      <td>-29.000000</td>\n",
       "      <td>-160.000000</td>\n",
       "    </tr>\n",
       "    <tr>\n",
       "      <th>64</th>\n",
       "      <td>93</td>\n",
       "      <td>337724</td>\n",
       "      <td>17292.0</td>\n",
       "      <td>343.0</td>\n",
       "      <td>158.938539</td>\n",
       "      <td>0</td>\n",
       "      <td>0</td>\n",
       "      <td>101</td>\n",
       "      <td>0.7</td>\n",
       "      <td>2.0</td>\n",
       "      <td>-170.0_-31.0_-45.0</td>\n",
       "      <td></td>\n",
       "      <td>-170.000000</td>\n",
       "      <td>-31.000000</td>\n",
       "      <td>-45.000000</td>\n",
       "    </tr>\n",
       "  </tbody>\n",
       "</table>\n",
       "</div>"
      ],
      "text/plain": [
       "     index   count  count_CCR  count_cys   lumi_mean  right  left  slices  \\\n",
       "88     126  581488     6639.0        0.0  129.052146      0     0      71   \n",
       "95     140  609010    10260.0        0.0  144.732817      0     0      73   \n",
       "30      40  503748   119081.0      236.0   77.606960      0     0      82   \n",
       "101    150  690376     4979.0        0.0  148.489942      0     0      85   \n",
       "46      65  406813    24064.0    24628.0  105.880599      0     0      87   \n",
       "7       10  523632     8602.0    73798.0  113.629730      0     0      91   \n",
       "11      14  449899     8859.0    69930.0   79.036582      0     0      91   \n",
       "35      47  547062   177968.0    58689.0   89.556973      0     0      93   \n",
       "84     122  679953     7791.0      214.0  133.123704      0     0      93   \n",
       "50      69  382154     4125.0       35.0  179.086175      0     0      95   \n",
       "20      28  347469    17345.0        0.0  104.442972      0     0      98   \n",
       "15      18  286346     8626.0       68.0  109.524156      0     0     100   \n",
       "19      25  491407    84357.0        0.0   92.113480      0     0     100   \n",
       "45      64  879917   547839.0      297.0   84.088477      0     0     100   \n",
       "104    154  245366     1762.0     1077.0  147.857389      0     0     101   \n",
       "21      29  436753    40828.0        0.0  102.429080      0     0     101   \n",
       "94     138  315781   114739.0      225.0  130.388573      0     0     101   \n",
       "40      58  498811   177274.0        0.0  144.889425      0     0     101   \n",
       "2        4  308553    31025.0     3197.0   98.561761      0     0     101   \n",
       "64      93  337724    17292.0      343.0  158.938539      0     0     101   \n",
       "\n",
       "     spacing_xy  spacing_z                origin size    origin_0    origin_1  \\\n",
       "88          0.7        2.0  -134.1_-118.5_1582.5      -134.102005 -118.476997   \n",
       "95          0.7        2.0   -87.2_-124.0_1630.5       -87.246696 -123.964996   \n",
       "30          0.7        2.0  -174.7_-319.7_-266.9      -174.658005 -319.657990   \n",
       "101         0.7        2.0  -146.6_-141.9_1534.0      -146.582001 -141.895004   \n",
       "46          0.7        2.0  -164.7_-279.7_1250.1      -164.688004 -279.687988   \n",
       "7           0.7        2.0     -182.1_-49.6_80.0      -182.052994  -49.631599   \n",
       "11          0.7        2.0    -200.0_-75.0_-10.0      -200.000000  -75.000000   \n",
       "35          0.7        2.0  -185.6_-319.6_-346.7      -185.647995 -319.648010   \n",
       "84          0.7        2.0  -137.2_-100.5_1685.0      -137.227005 -100.508003   \n",
       "50          0.7        2.0    -177.0_-25.0_503.8      -177.000000  -25.000000   \n",
       "20          0.7        2.0  -163.7_-303.7_-348.0      -163.667999 -303.667999   \n",
       "15          0.7        2.0  -152.7_-287.7_-436.4      -152.697006 -287.696991   \n",
       "19          0.7        2.0  -190.6_-320.6_-409.4      -190.639008 -320.639008   \n",
       "45          0.7        2.0  -165.7_-329.7_-340.3      -165.667999 -329.667999   \n",
       "104         0.7        2.0  -184.2_-179.3_1839.0      -184.218994 -179.337006   \n",
       "21          0.7        2.0  -167.7_-305.7_-419.8      -167.667999 -305.667999   \n",
       "94          0.7        2.0      -171.0_7.0_481.1      -171.000000    7.000000   \n",
       "40          0.7        2.0    -175.0_-13.0_429.1      -175.000000  -13.000000   \n",
       "2           0.7        2.0   -190.0_-29.0_-160.0      -190.000000  -29.000000   \n",
       "64          0.7        2.0    -170.0_-31.0_-45.0      -170.000000  -31.000000   \n",
       "\n",
       "        origin_2  \n",
       "88   1582.500000  \n",
       "95   1630.500000  \n",
       "30   -266.899994  \n",
       "101  1534.000000  \n",
       "46   1250.099976  \n",
       "7      80.000000  \n",
       "11    -10.000000  \n",
       "35   -346.700012  \n",
       "84   1685.000000  \n",
       "50    503.799988  \n",
       "20   -348.000000  \n",
       "15   -436.399994  \n",
       "19   -409.399994  \n",
       "45   -340.299988  \n",
       "104  1839.000000  \n",
       "21   -419.799988  \n",
       "94    481.100006  \n",
       "40    429.100006  \n",
       "2    -160.000000  \n",
       "64    -45.000000  "
      ]
     },
     "execution_count": 153,
     "metadata": {},
     "output_type": "execute_result"
    }
   ],
   "source": [
    "mini_ccr_df.sort_values('slices').head(20)"
   ]
  },
  {
   "cell_type": "code",
   "execution_count": 154,
   "metadata": {},
   "outputs": [
    {
     "data": {
      "text/html": [
       "<div>\n",
       "<style scoped>\n",
       "    .dataframe tbody tr th:only-of-type {\n",
       "        vertical-align: middle;\n",
       "    }\n",
       "\n",
       "    .dataframe tbody tr th {\n",
       "        vertical-align: top;\n",
       "    }\n",
       "\n",
       "    .dataframe thead th {\n",
       "        text-align: right;\n",
       "    }\n",
       "</style>\n",
       "<table border=\"1\" class=\"dataframe\">\n",
       "  <thead>\n",
       "    <tr style=\"text-align: right;\">\n",
       "      <th></th>\n",
       "      <th>index</th>\n",
       "      <th>count</th>\n",
       "      <th>count_CCR</th>\n",
       "      <th>count_cys</th>\n",
       "      <th>lumi_mean</th>\n",
       "      <th>right</th>\n",
       "      <th>left</th>\n",
       "      <th>slices</th>\n",
       "      <th>spacing_xy</th>\n",
       "      <th>spacing_z</th>\n",
       "      <th>origin</th>\n",
       "      <th>size</th>\n",
       "      <th>origin_0</th>\n",
       "      <th>origin_1</th>\n",
       "      <th>origin_2</th>\n",
       "    </tr>\n",
       "  </thead>\n",
       "  <tbody>\n",
       "    <tr>\n",
       "      <th>77</th>\n",
       "      <td>112</td>\n",
       "      <td>457739</td>\n",
       "      <td>44579.0</td>\n",
       "      <td>0.0</td>\n",
       "      <td>127.505528</td>\n",
       "      <td>0</td>\n",
       "      <td>0</td>\n",
       "      <td>151</td>\n",
       "      <td>0.7</td>\n",
       "      <td>2.0</td>\n",
       "      <td>-194.9_-89.4_-30.0</td>\n",
       "      <td></td>\n",
       "      <td>-194.940002</td>\n",
       "      <td>-89.400002</td>\n",
       "      <td>-30.000000</td>\n",
       "    </tr>\n",
       "    <tr>\n",
       "      <th>102</th>\n",
       "      <td>151</td>\n",
       "      <td>431353</td>\n",
       "      <td>35706.0</td>\n",
       "      <td>55320.0</td>\n",
       "      <td>80.827438</td>\n",
       "      <td>0</td>\n",
       "      <td>0</td>\n",
       "      <td>151</td>\n",
       "      <td>0.7</td>\n",
       "      <td>2.0</td>\n",
       "      <td>-199.8_-186.2_1776.5</td>\n",
       "      <td></td>\n",
       "      <td>-199.830994</td>\n",
       "      <td>-186.158997</td>\n",
       "      <td>1776.500000</td>\n",
       "    </tr>\n",
       "    <tr>\n",
       "      <th>91</th>\n",
       "      <td>134</td>\n",
       "      <td>441912</td>\n",
       "      <td>46960.0</td>\n",
       "      <td>0.0</td>\n",
       "      <td>146.642447</td>\n",
       "      <td>0</td>\n",
       "      <td>0</td>\n",
       "      <td>152</td>\n",
       "      <td>0.7</td>\n",
       "      <td>2.0</td>\n",
       "      <td>-175.0_-23.0_624.2</td>\n",
       "      <td></td>\n",
       "      <td>-175.000000</td>\n",
       "      <td>-23.000000</td>\n",
       "      <td>624.200012</td>\n",
       "    </tr>\n",
       "    <tr>\n",
       "      <th>3</th>\n",
       "      <td>5</td>\n",
       "      <td>395548</td>\n",
       "      <td>1847.0</td>\n",
       "      <td>955.0</td>\n",
       "      <td>112.893234</td>\n",
       "      <td>0</td>\n",
       "      <td>0</td>\n",
       "      <td>153</td>\n",
       "      <td>0.7</td>\n",
       "      <td>2.0</td>\n",
       "      <td>-195.0_-61.0_-15.0</td>\n",
       "      <td></td>\n",
       "      <td>-195.000000</td>\n",
       "      <td>-61.000000</td>\n",
       "      <td>-15.000000</td>\n",
       "    </tr>\n",
       "    <tr>\n",
       "      <th>34</th>\n",
       "      <td>46</td>\n",
       "      <td>425192</td>\n",
       "      <td>48616.0</td>\n",
       "      <td>0.0</td>\n",
       "      <td>124.846726</td>\n",
       "      <td>0</td>\n",
       "      <td>0</td>\n",
       "      <td>155</td>\n",
       "      <td>0.7</td>\n",
       "      <td>2.0</td>\n",
       "      <td>-181.6_-326.6_-345.3</td>\n",
       "      <td></td>\n",
       "      <td>-181.647995</td>\n",
       "      <td>-326.648010</td>\n",
       "      <td>-345.299988</td>\n",
       "    </tr>\n",
       "    <tr>\n",
       "      <th>31</th>\n",
       "      <td>41</td>\n",
       "      <td>457291</td>\n",
       "      <td>91198.0</td>\n",
       "      <td>0.0</td>\n",
       "      <td>74.784043</td>\n",
       "      <td>0</td>\n",
       "      <td>0</td>\n",
       "      <td>163</td>\n",
       "      <td>0.7</td>\n",
       "      <td>2.0</td>\n",
       "      <td>-187.6_-325.6_-358.9</td>\n",
       "      <td></td>\n",
       "      <td>-187.628998</td>\n",
       "      <td>-325.628998</td>\n",
       "      <td>-358.899994</td>\n",
       "    </tr>\n",
       "    <tr>\n",
       "      <th>26</th>\n",
       "      <td>34</td>\n",
       "      <td>1039880</td>\n",
       "      <td>247135.0</td>\n",
       "      <td>0.0</td>\n",
       "      <td>90.690433</td>\n",
       "      <td>0</td>\n",
       "      <td>0</td>\n",
       "      <td>163</td>\n",
       "      <td>0.7</td>\n",
       "      <td>2.0</td>\n",
       "      <td>-185.6_-305.6_-298.6</td>\n",
       "      <td></td>\n",
       "      <td>-185.647995</td>\n",
       "      <td>-305.648010</td>\n",
       "      <td>-298.600006</td>\n",
       "    </tr>\n",
       "    <tr>\n",
       "      <th>36</th>\n",
       "      <td>51</td>\n",
       "      <td>387969</td>\n",
       "      <td>73960.0</td>\n",
       "      <td>0.0</td>\n",
       "      <td>128.587913</td>\n",
       "      <td>0</td>\n",
       "      <td>0</td>\n",
       "      <td>172</td>\n",
       "      <td>0.7</td>\n",
       "      <td>2.0</td>\n",
       "      <td>-189.6_-316.6_-419.5</td>\n",
       "      <td></td>\n",
       "      <td>-189.639008</td>\n",
       "      <td>-316.639008</td>\n",
       "      <td>-419.500000</td>\n",
       "    </tr>\n",
       "    <tr>\n",
       "      <th>99</th>\n",
       "      <td>147</td>\n",
       "      <td>316556</td>\n",
       "      <td>53594.0</td>\n",
       "      <td>163.0</td>\n",
       "      <td>135.747451</td>\n",
       "      <td>0</td>\n",
       "      <td>0</td>\n",
       "      <td>176</td>\n",
       "      <td>0.7</td>\n",
       "      <td>2.0</td>\n",
       "      <td>-247.6_-246.6_1948.5</td>\n",
       "      <td></td>\n",
       "      <td>-247.563995</td>\n",
       "      <td>-246.587997</td>\n",
       "      <td>1948.500000</td>\n",
       "    </tr>\n",
       "    <tr>\n",
       "      <th>70</th>\n",
       "      <td>101</td>\n",
       "      <td>282613</td>\n",
       "      <td>61172.0</td>\n",
       "      <td>14593.0</td>\n",
       "      <td>112.206526</td>\n",
       "      <td>0</td>\n",
       "      <td>0</td>\n",
       "      <td>202</td>\n",
       "      <td>0.7</td>\n",
       "      <td>2.0</td>\n",
       "      <td>-170.0_-19.0_586.6</td>\n",
       "      <td></td>\n",
       "      <td>-170.000000</td>\n",
       "      <td>-19.000000</td>\n",
       "      <td>586.599976</td>\n",
       "    </tr>\n",
       "    <tr>\n",
       "      <th>76</th>\n",
       "      <td>109</td>\n",
       "      <td>247334</td>\n",
       "      <td>29038.0</td>\n",
       "      <td>0.0</td>\n",
       "      <td>87.687605</td>\n",
       "      <td>0</td>\n",
       "      <td>0</td>\n",
       "      <td>218</td>\n",
       "      <td>0.7</td>\n",
       "      <td>2.0</td>\n",
       "      <td>-220.0_-75.0_-10.0</td>\n",
       "      <td></td>\n",
       "      <td>-220.000000</td>\n",
       "      <td>-75.000000</td>\n",
       "      <td>-10.000000</td>\n",
       "    </tr>\n",
       "    <tr>\n",
       "      <th>74</th>\n",
       "      <td>105</td>\n",
       "      <td>383850</td>\n",
       "      <td>46398.0</td>\n",
       "      <td>0.0</td>\n",
       "      <td>146.299940</td>\n",
       "      <td>0</td>\n",
       "      <td>0</td>\n",
       "      <td>228</td>\n",
       "      <td>0.7</td>\n",
       "      <td>2.0</td>\n",
       "      <td>-175.0_-25.0_-105.0</td>\n",
       "      <td></td>\n",
       "      <td>-175.000000</td>\n",
       "      <td>-25.000000</td>\n",
       "      <td>-105.000000</td>\n",
       "    </tr>\n",
       "    <tr>\n",
       "      <th>98</th>\n",
       "      <td>146</td>\n",
       "      <td>609813</td>\n",
       "      <td>16116.0</td>\n",
       "      <td>261.0</td>\n",
       "      <td>84.894640</td>\n",
       "      <td>0</td>\n",
       "      <td>0</td>\n",
       "      <td>231</td>\n",
       "      <td>0.7</td>\n",
       "      <td>2.0</td>\n",
       "      <td>-180.3_-180.3_1823.0</td>\n",
       "      <td></td>\n",
       "      <td>-180.311005</td>\n",
       "      <td>-180.311005</td>\n",
       "      <td>1823.000000</td>\n",
       "    </tr>\n",
       "    <tr>\n",
       "      <th>0</th>\n",
       "      <td>2</td>\n",
       "      <td>336744</td>\n",
       "      <td>8872.0</td>\n",
       "      <td>4181.0</td>\n",
       "      <td>187.855472</td>\n",
       "      <td>0</td>\n",
       "      <td>0</td>\n",
       "      <td>246</td>\n",
       "      <td>0.7</td>\n",
       "      <td>2.0</td>\n",
       "      <td>-168.0_-15.0_-40.0</td>\n",
       "      <td></td>\n",
       "      <td>-168.000000</td>\n",
       "      <td>-15.000000</td>\n",
       "      <td>-40.000000</td>\n",
       "    </tr>\n",
       "    <tr>\n",
       "      <th>48</th>\n",
       "      <td>67</td>\n",
       "      <td>464738</td>\n",
       "      <td>27584.0</td>\n",
       "      <td>10813.0</td>\n",
       "      <td>100.821131</td>\n",
       "      <td>0</td>\n",
       "      <td>0</td>\n",
       "      <td>246</td>\n",
       "      <td>0.7</td>\n",
       "      <td>2.0</td>\n",
       "      <td>-173.0_-35.0_-15.0</td>\n",
       "      <td></td>\n",
       "      <td>-173.000000</td>\n",
       "      <td>-35.000000</td>\n",
       "      <td>-15.000000</td>\n",
       "    </tr>\n",
       "    <tr>\n",
       "      <th>103</th>\n",
       "      <td>152</td>\n",
       "      <td>350154</td>\n",
       "      <td>128052.0</td>\n",
       "      <td>228.0</td>\n",
       "      <td>67.653078</td>\n",
       "      <td>0</td>\n",
       "      <td>0</td>\n",
       "      <td>248</td>\n",
       "      <td>0.7</td>\n",
       "      <td>2.0</td>\n",
       "      <td>-179.0_-17.0_-110.0</td>\n",
       "      <td></td>\n",
       "      <td>-179.000000</td>\n",
       "      <td>-17.000000</td>\n",
       "      <td>-110.000000</td>\n",
       "    </tr>\n",
       "    <tr>\n",
       "      <th>105</th>\n",
       "      <td>157</td>\n",
       "      <td>947520</td>\n",
       "      <td>10720.0</td>\n",
       "      <td>141995.0</td>\n",
       "      <td>133.893274</td>\n",
       "      <td>0</td>\n",
       "      <td>0</td>\n",
       "      <td>271</td>\n",
       "      <td>0.7</td>\n",
       "      <td>2.0</td>\n",
       "      <td>-198.8_-190.1_1901.0</td>\n",
       "      <td></td>\n",
       "      <td>-198.847000</td>\n",
       "      <td>-190.057999</td>\n",
       "      <td>1901.000000</td>\n",
       "    </tr>\n",
       "    <tr>\n",
       "      <th>13</th>\n",
       "      <td>16</td>\n",
       "      <td>538923</td>\n",
       "      <td>8671.0</td>\n",
       "      <td>0.0</td>\n",
       "      <td>99.611232</td>\n",
       "      <td>0</td>\n",
       "      <td>0</td>\n",
       "      <td>291</td>\n",
       "      <td>0.7</td>\n",
       "      <td>2.0</td>\n",
       "      <td>-219.0_-92.0_50.0</td>\n",
       "      <td></td>\n",
       "      <td>-219.000000</td>\n",
       "      <td>-92.000000</td>\n",
       "      <td>50.000000</td>\n",
       "    </tr>\n",
       "    <tr>\n",
       "      <th>61</th>\n",
       "      <td>86</td>\n",
       "      <td>637494</td>\n",
       "      <td>195566.0</td>\n",
       "      <td>0.0</td>\n",
       "      <td>77.871498</td>\n",
       "      <td>0</td>\n",
       "      <td>0</td>\n",
       "      <td>302</td>\n",
       "      <td>0.7</td>\n",
       "      <td>2.0</td>\n",
       "      <td>-169.0_-20.0_-20.3</td>\n",
       "      <td></td>\n",
       "      <td>-169.000000</td>\n",
       "      <td>-20.000000</td>\n",
       "      <td>-20.299999</td>\n",
       "    </tr>\n",
       "    <tr>\n",
       "      <th>38</th>\n",
       "      <td>55</td>\n",
       "      <td>411066</td>\n",
       "      <td>7711.0</td>\n",
       "      <td>3975.0</td>\n",
       "      <td>182.779150</td>\n",
       "      <td>0</td>\n",
       "      <td>0</td>\n",
       "      <td>511</td>\n",
       "      <td>0.7</td>\n",
       "      <td>2.0</td>\n",
       "      <td>-188.0_-30.0_290.0</td>\n",
       "      <td></td>\n",
       "      <td>-188.000000</td>\n",
       "      <td>-30.000000</td>\n",
       "      <td>290.000000</td>\n",
       "    </tr>\n",
       "  </tbody>\n",
       "</table>\n",
       "</div>"
      ],
      "text/plain": [
       "     index    count  count_CCR  count_cys   lumi_mean  right  left  slices  \\\n",
       "77     112   457739    44579.0        0.0  127.505528      0     0     151   \n",
       "102    151   431353    35706.0    55320.0   80.827438      0     0     151   \n",
       "91     134   441912    46960.0        0.0  146.642447      0     0     152   \n",
       "3        5   395548     1847.0      955.0  112.893234      0     0     153   \n",
       "34      46   425192    48616.0        0.0  124.846726      0     0     155   \n",
       "31      41   457291    91198.0        0.0   74.784043      0     0     163   \n",
       "26      34  1039880   247135.0        0.0   90.690433      0     0     163   \n",
       "36      51   387969    73960.0        0.0  128.587913      0     0     172   \n",
       "99     147   316556    53594.0      163.0  135.747451      0     0     176   \n",
       "70     101   282613    61172.0    14593.0  112.206526      0     0     202   \n",
       "76     109   247334    29038.0        0.0   87.687605      0     0     218   \n",
       "74     105   383850    46398.0        0.0  146.299940      0     0     228   \n",
       "98     146   609813    16116.0      261.0   84.894640      0     0     231   \n",
       "0        2   336744     8872.0     4181.0  187.855472      0     0     246   \n",
       "48      67   464738    27584.0    10813.0  100.821131      0     0     246   \n",
       "103    152   350154   128052.0      228.0   67.653078      0     0     248   \n",
       "105    157   947520    10720.0   141995.0  133.893274      0     0     271   \n",
       "13      16   538923     8671.0        0.0   99.611232      0     0     291   \n",
       "61      86   637494   195566.0        0.0   77.871498      0     0     302   \n",
       "38      55   411066     7711.0     3975.0  182.779150      0     0     511   \n",
       "\n",
       "     spacing_xy  spacing_z                origin size    origin_0    origin_1  \\\n",
       "77          0.7        2.0    -194.9_-89.4_-30.0      -194.940002  -89.400002   \n",
       "102         0.7        2.0  -199.8_-186.2_1776.5      -199.830994 -186.158997   \n",
       "91          0.7        2.0    -175.0_-23.0_624.2      -175.000000  -23.000000   \n",
       "3           0.7        2.0    -195.0_-61.0_-15.0      -195.000000  -61.000000   \n",
       "34          0.7        2.0  -181.6_-326.6_-345.3      -181.647995 -326.648010   \n",
       "31          0.7        2.0  -187.6_-325.6_-358.9      -187.628998 -325.628998   \n",
       "26          0.7        2.0  -185.6_-305.6_-298.6      -185.647995 -305.648010   \n",
       "36          0.7        2.0  -189.6_-316.6_-419.5      -189.639008 -316.639008   \n",
       "99          0.7        2.0  -247.6_-246.6_1948.5      -247.563995 -246.587997   \n",
       "70          0.7        2.0    -170.0_-19.0_586.6      -170.000000  -19.000000   \n",
       "76          0.7        2.0    -220.0_-75.0_-10.0      -220.000000  -75.000000   \n",
       "74          0.7        2.0   -175.0_-25.0_-105.0      -175.000000  -25.000000   \n",
       "98          0.7        2.0  -180.3_-180.3_1823.0      -180.311005 -180.311005   \n",
       "0           0.7        2.0    -168.0_-15.0_-40.0      -168.000000  -15.000000   \n",
       "48          0.7        2.0    -173.0_-35.0_-15.0      -173.000000  -35.000000   \n",
       "103         0.7        2.0   -179.0_-17.0_-110.0      -179.000000  -17.000000   \n",
       "105         0.7        2.0  -198.8_-190.1_1901.0      -198.847000 -190.057999   \n",
       "13          0.7        2.0     -219.0_-92.0_50.0      -219.000000  -92.000000   \n",
       "61          0.7        2.0    -169.0_-20.0_-20.3      -169.000000  -20.000000   \n",
       "38          0.7        2.0    -188.0_-30.0_290.0      -188.000000  -30.000000   \n",
       "\n",
       "        origin_2  \n",
       "77    -30.000000  \n",
       "102  1776.500000  \n",
       "91    624.200012  \n",
       "3     -15.000000  \n",
       "34   -345.299988  \n",
       "31   -358.899994  \n",
       "26   -298.600006  \n",
       "36   -419.500000  \n",
       "99   1948.500000  \n",
       "70    586.599976  \n",
       "76    -10.000000  \n",
       "74   -105.000000  \n",
       "98   1823.000000  \n",
       "0     -40.000000  \n",
       "48    -15.000000  \n",
       "103  -110.000000  \n",
       "105  1901.000000  \n",
       "13     50.000000  \n",
       "61    -20.299999  \n",
       "38    290.000000  "
      ]
     },
     "execution_count": 154,
     "metadata": {},
     "output_type": "execute_result"
    }
   ],
   "source": [
    "mini_ccr_df.sort_values('slices').tail(20)"
   ]
  },
  {
   "cell_type": "markdown",
   "metadata": {},
   "source": [
    "## size of ccrcc"
   ]
  },
  {
   "cell_type": "code",
   "execution_count": 15,
   "metadata": {},
   "outputs": [
    {
     "data": {
      "text/plain": [
       "<matplotlib.axes._subplots.AxesSubplot at 0x7fc7adec1ba8>"
      ]
     },
     "execution_count": 15,
     "metadata": {},
     "output_type": "execute_result"
    },
    {
     "data": {
      "image/png": "[encoded data removed]",
      "text/plain": [
       "<Figure size 432x288 with 1 Axes>"
      ]
     },
     "metadata": {
      "needs_background": "light"
     },
     "output_type": "display_data"
    }
   ],
   "source": [
    "mini_df[mini_df['count_CCR']<100000]['count_CCR'].plot.hist(bins=10)"
   ]
  },
  {
   "cell_type": "markdown",
   "metadata": {},
   "source": [
    "### lumi_mean"
   ]
  },
  {
   "cell_type": "code",
   "execution_count": 10,
   "metadata": {},
   "outputs": [
    {
     "data": {
      "text/plain": [
       "<matplotlib.axes._subplots.AxesSubplot at 0x7fafca490470>"
      ]
     },
     "execution_count": 10,
     "metadata": {},
     "output_type": "execute_result"
    },
    {
     "data": {
      "image/png": "[encoded data removed]",
      "text/plain": [
       "<Figure size 432x288 with 1 Axes>"
      ]
     },
     "metadata": {
      "needs_background": "light"
     },
     "output_type": "display_data"
    }
   ],
   "source": [
    "mini_df.sort_values('lumi_mean')['lumi_mean'].plot.hist()"
   ]
  },
  {
   "cell_type": "code",
   "execution_count": 24,
   "metadata": {},
   "outputs": [
    {
     "data": {
      "application/vnd.plotly.v1+json": {
       "config": {
        "plotlyServerURL": "https://plot.ly"
       },
       "data": [
        {
         "hoverlabel": {
          "namelength": 0
         },
         "hovertemplate": "lumi_mean=%{x}<br>count=%{y}<br>size=%{marker.size}<br>index=%{text}",
         "legendgroup": "",
         "marker": {
          "color": "#636efa",
          "size": [
           10,
           10,
           10,
           10,
           10,
           10,
           10,
           10,
           10,
           10,
           10,
           10,
           10,
           10,
           10,
           10,
           10,
           10,
           10,
           10,
           10,
           10,
           10,
           10,
           10,
           10,
           10,
           10,
           10,
           10,
           10,
           10,
           10,
           10,
           10,
           10,
           10,
           10,
           10,
           10,
           10,
           10,
           10,
           10,
           10,
           10,
           10,
           10,
           10,
           10,
           10,
           10,
           10,
           10,
           10,
           10,
           10,
           10,
           10,
           10,
           10,
           10,
           10,
           10,
           10,
           10,
           10,
           10,
           10,
           10,
           10,
           10,
           10,
           10,
           10,
           10,
           10,
           10,
           10,
           10,
           10,
           10,
           10,
           10,
           10,
           10,
           10,
           10,
           10,
           10,
           10,
           10,
           10,
           10,
           10,
           10,
           10,
           10,
           10,
           10,
           10,
           10,
           10,
           10,
           10,
           10,
           10,
           10,
           10,
           10,
           10,
           10,
           10,
           10
          ],
          "sizemode": "area",
          "sizeref": 0.03460207612456748,
          "symbol": "circle"
         },
         "mode": "markers+text",
         "name": "",
         "showlegend": false,
         "text": [
          1,
          2,
          3,
          4,
          5,
          6,
          7,
          8,
          9,
          10,
          11,
          12,
          13,
          14,
          15,
          16,
          17,
          18,
          19,
          21,
          22,
          23,
          24,
          25,
          26,
          28,
          29,
          30,
          31,
          32,
          33,
          34,
          35,
          36,
          37,
          38,
          39,
          40,
          41,
          44,
          45,
          46,
          47,
          51,
          53,
          55,
          57,
          58,
          60,
          61,
          62,
          63,
          64,
          65,
          66,
          67,
          68,
          69,
          71,
          72,
          73,
          74,
          76,
          77,
          78,
          79,
          82,
          83,
          86,
          88,
          90,
          93,
          94,
          95,
          96,
          97,
          98,
          101,
          102,
          103,
          104,
          105,
          107,
          109,
          112,
          113,
          115,
          117,
          118,
          119,
          121,
          122,
          123,
          124,
          125,
          126,
          127,
          130,
          134,
          135,
          136,
          138,
          140,
          142,
          145,
          146,
          147,
          149,
          150,
          151,
          152,
          154,
          157,
          159
         ],
         "type": "scatter",
         "x": [
          166.59816088719063,
          187.8554718124154,
          150.4933785952683,
          98.561760864422,
          112.89323419660823,
          100.08308739204399,
          168.71991872223796,
          133.06138994784794,
          87.58986265224868,
          113.62973042136463,
          106.64426617060032,
          114.99173353377195,
          118.56377118255207,
          79.03658154385762,
          116.85918371744397,
          99.61123203129203,
          94.06236109676868,
          109.52415609088304,
          134.97558078874053,
          140.29187590635348,
          68.79447235710744,
          128.6550543762124,
          129.92310519228198,
          92.11348027195379,
          79.40930747418382,
          104.44297189101765,
          102.42908005211183,
          76.72929958990953,
          60.87202456291046,
          119.23361374851248,
          101.82845567661064,
          90.69043254990959,
          106.93234501042328,
          145.80602952929303,
          101.0875694089407,
          112.13174806545472,
          128.39829648364952,
          77.6069602261448,
          74.78404342092891,
          159.07068858003487,
          177.13897762273186,
          124.84672571450076,
          89.55697343262739,
          128.587912951808,
          156.3215683794988,
          182.77914982022358,
          103.12602753962068,
          144.8894250527755,
          113.26723638611959,
          63.67501831857727,
          134.64997533653124,
          103.48668093795477,
          84.08847652676332,
          105.880598702598,
          97.05710868861937,
          100.82113147622962,
          157.9452177122107,
          179.08617468350457,
          85.38751580703313,
          112.41761947363764,
          112.32105955699907,
          33.79919882478569,
          83.36897525044614,
          93.15823369974682,
          80.1644609365357,
          105.56787056462557,
          141.30510064612326,
          132.13282051186258,
          77.87149839841629,
          143.24844762731087,
          141.83181523103337,
          158.93853856995653,
          98.78718854298864,
          148.9175189746216,
          133.31009622034958,
          171.79846723769575,
          94.03485118801173,
          112.20652623906193,
          175.6711165016051,
          148.13622522929933,
          136.0426956276975,
          146.29994008076068,
          188.36581185049354,
          87.68760461562097,
          127.50552825955404,
          149.16800206080842,
          123.579677658101,
          72.03814999746314,
          97.67982075600278,
          102.18732112020962,
          117.01541388637804,
          133.12370413837428,
          150.02707992849497,
          158.45036291403073,
          129.4759659854559,
          129.0521455300883,
          114.90911006100686,
          123.98667259827164,
          146.64244691250747,
          138.6894951061698,
          66.74006252334117,
          130.388573093378,
          144.73281719511994,
          160.97231517173338,
          130.98876192979404,
          84.89463983221086,
          135.74745068802991,
          139.02258890874302,
          148.48994171292162,
          80.82743831618188,
          67.6530783598074,
          147.8573885542414,
          133.89327402060115,
          27.59788002717453
         ],
         "xaxis": "x",
         "y": [
          369526,
          336744,
          297822,
          308553,
          395548,
          735948,
          529050,
          370647,
          424470,
          523632,
          258030,
          614652,
          381387,
          449899,
          324863,
          538923,
          445454,
          286346,
          270279,
          315826,
          427524,
          836671,
          389116,
          491407,
          329735,
          347469,
          436753,
          589626,
          703174,
          510077,
          346307,
          1039880,
          529584,
          342846,
          365767,
          492493,
          434513,
          503748,
          457291,
          473075,
          489604,
          425192,
          547062,
          387969,
          363764,
          411066,
          384900,
          498811,
          716493,
          741051,
          279766,
          344281,
          879917,
          406813,
          550214,
          464738,
          438974,
          382154,
          557505,
          305151,
          684739,
          169501,
          562596,
          537553,
          510413,
          504777,
          321920,
          535339,
          637494,
          367663,
          346595,
          337724,
          442838,
          413974,
          180731,
          357133,
          398523,
          282613,
          373497,
          431205,
          426320,
          383850,
          326113,
          247334,
          457739,
          411489,
          1082267,
          1340236,
          601638,
          417529,
          590766,
          679953,
          365289,
          257499,
          391362,
          581488,
          341765,
          481039,
          441912,
          353302,
          1855627,
          315781,
          609010,
          393284,
          563086,
          609813,
          316556,
          379434,
          690376,
          431353,
          350154,
          245366,
          947520,
          222267
         ],
         "yaxis": "y"
        }
       ],
       "layout": {
        "autosize": true,
        "legend": {
         "itemsizing": "constant",
         "tracegroupgap": 0
        },
        "margin": {
         "t": 60
        },
        "template": {
         "data": {
          "bar": [
           {
            "error_x": {
             "color": "#2a3f5f"
            },
            "error_y": {
             "color": "#2a3f5f"
            },
            "marker": {
             "line": {
              "color": "#E5ECF6",
              "width": 0.5
             }
            },
            "type": "bar"
           }
          ],
          "barpolar": [
           {
            "marker": {
             "line": {
              "color": "#E5ECF6",
              "width": 0.5
             }
            },
            "type": "barpolar"
           }
          ],
          "carpet": [
           {
            "aaxis": {
             "endlinecolor": "#2a3f5f",
             "gridcolor": "white",
             "linecolor": "white",
             "minorgridcolor": "white",
             "startlinecolor": "#2a3f5f"
            },
            "baxis": {
             "endlinecolor": "#2a3f5f",
             "gridcolor": "white",
             "linecolor": "white",
             "minorgridcolor": "white",
             "startlinecolor": "#2a3f5f"
            },
            "type": "carpet"
           }
          ],
          "choropleth": [
           {
            "colorbar": {
             "outlinewidth": 0,
             "ticks": ""
            },
            "type": "choropleth"
           }
          ],
          "contour": [
           {
            "colorbar": {
             "outlinewidth": 0,
             "ticks": ""
            },
            "colorscale": [
             [
              0,
              "#0d0887"
             ],
             [
              0.1111111111111111,
              "#46039f"
             ],
             [
              0.2222222222222222,
              "#7201a8"
             ],
             [
              0.3333333333333333,
              "#9c179e"
             ],
             [
              0.4444444444444444,
              "#bd3786"
             ],
             [
              0.5555555555555556,
              "#d8576b"
             ],
             [
              0.6666666666666666,
              "#ed7953"
             ],
             [
              0.7777777777777778,
              "#fb9f3a"
             ],
             [
              0.8888888888888888,
              "#fdca26"
             ],
             [
              1,
              "#f0f921"
             ]
            ],
            "type": "contour"
           }
          ],
          "contourcarpet": [
           {
            "colorbar": {
             "outlinewidth": 0,
             "ticks": ""
            },
            "type": "contourcarpet"
           }
          ],
          "heatmap": [
           {
            "colorbar": {
             "outlinewidth": 0,
             "ticks": ""
            },
            "colorscale": [
             [
              0,
              "#0d0887"
             ],
             [
              0.1111111111111111,
              "#46039f"
             ],
             [
              0.2222222222222222,
              "#7201a8"
             ],
             [
              0.3333333333333333,
              "#9c179e"
             ],
             [
              0.4444444444444444,
              "#bd3786"
             ],
             [
              0.5555555555555556,
              "#d8576b"
             ],
             [
              0.6666666666666666,
              "#ed7953"
             ],
             [
              0.7777777777777778,
              "#fb9f3a"
             ],
             [
              0.8888888888888888,
              "#fdca26"
             ],
             [
              1,
              "#f0f921"
             ]
            ],
            "type": "heatmap"
           }
          ],
          "heatmapgl": [
           {
            "colorbar": {
             "outlinewidth": 0,
             "ticks": ""
            },
            "colorscale": [
             [
              0,
              "#0d0887"
             ],
             [
              0.1111111111111111,
              "#46039f"
             ],
             [
              0.2222222222222222,
              "#7201a8"
             ],
             [
              0.3333333333333333,
              "#9c179e"
             ],
             [
              0.4444444444444444,
              "#bd3786"
             ],
             [
              0.5555555555555556,
              "#d8576b"
             ],
             [
              0.6666666666666666,
              "#ed7953"
             ],
             [
              0.7777777777777778,
              "#fb9f3a"
             ],
             [
              0.8888888888888888,
              "#fdca26"
             ],
             [
              1,
              "#f0f921"
             ]
            ],
            "type": "heatmapgl"
           }
          ],
          "histogram": [
           {
            "marker": {
             "colorbar": {
              "outlinewidth": 0,
              "ticks": ""
             }
            },
            "type": "histogram"
           }
          ],
          "histogram2d": [
           {
            "colorbar": {
             "outlinewidth": 0,
             "ticks": ""
            },
            "colorscale": [
             [
              0,
              "#0d0887"
             ],
             [
              0.1111111111111111,
              "#46039f"
             ],
             [
              0.2222222222222222,
              "#7201a8"
             ],
             [
              0.3333333333333333,
              "#9c179e"
             ],
             [
              0.4444444444444444,
              "#bd3786"
             ],
             [
              0.5555555555555556,
              "#d8576b"
             ],
             [
              0.6666666666666666,
              "#ed7953"
             ],
             [
              0.7777777777777778,
              "#fb9f3a"
             ],
             [
              0.8888888888888888,
              "#fdca26"
             ],
             [
              1,
              "#f0f921"
             ]
            ],
            "type": "histogram2d"
           }
          ],
          "histogram2dcontour": [
           {
            "colorbar": {
             "outlinewidth": 0,
             "ticks": ""
            },
            "colorscale": [
             [
              0,
              "#0d0887"
             ],
             [
              0.1111111111111111,
              "#46039f"
             ],
             [
              0.2222222222222222,
              "#7201a8"
             ],
             [
              0.3333333333333333,
              "#9c179e"
             ],
             [
              0.4444444444444444,
              "#bd3786"
             ],
             [
              0.5555555555555556,
              "#d8576b"
             ],
             [
              0.6666666666666666,
              "#ed7953"
             ],
             [
              0.7777777777777778,
              "#fb9f3a"
             ],
             [
              0.8888888888888888,
              "#fdca26"
             ],
             [
              1,
              "#f0f921"
             ]
            ],
            "type": "histogram2dcontour"
           }
          ],
          "mesh3d": [
           {
            "colorbar": {
             "outlinewidth": 0,
             "ticks": ""
            },
            "type": "mesh3d"
           }
          ],
          "parcoords": [
           {
            "line": {
             "colorbar": {
              "outlinewidth": 0,
              "ticks": ""
             }
            },
            "type": "parcoords"
           }
          ],
          "scatter": [
           {
            "marker": {
             "colorbar": {
              "outlinewidth": 0,
              "ticks": ""
             }
            },
            "type": "scatter"
           }
          ],
          "scatter3d": [
           {
            "line": {
             "colorbar": {
              "outlinewidth": 0,
              "ticks": ""
             }
            },
            "marker": {
             "colorbar": {
              "outlinewidth": 0,
              "ticks": ""
             }
            },
            "type": "scatter3d"
           }
          ],
          "scattercarpet": [
           {
            "marker": {
             "colorbar": {
              "outlinewidth": 0,
              "ticks": ""
             }
            },
            "type": "scattercarpet"
           }
          ],
          "scattergeo": [
           {
            "marker": {
             "colorbar": {
              "outlinewidth": 0,
              "ticks": ""
             }
            },
            "type": "scattergeo"
           }
          ],
          "scattergl": [
           {
            "marker": {
             "colorbar": {
              "outlinewidth": 0,
              "ticks": ""
             }
            },
            "type": "scattergl"
           }
          ],
          "scattermapbox": [
           {
            "marker": {
             "colorbar": {
              "outlinewidth": 0,
              "ticks": ""
             }
            },
            "type": "scattermapbox"
           }
          ],
          "scatterpolar": [
           {
            "marker": {
             "colorbar": {
              "outlinewidth": 0,
              "ticks": ""
             }
            },
            "type": "scatterpolar"
           }
          ],
          "scatterpolargl": [
           {
            "marker": {
             "colorbar": {
              "outlinewidth": 0,
              "ticks": ""
             }
            },
            "type": "scatterpolargl"
           }
          ],
          "scatterternary": [
           {
            "marker": {
             "colorbar": {
              "outlinewidth": 0,
              "ticks": ""
             }
            },
            "type": "scatterternary"
           }
          ],
          "surface": [
           {
            "colorbar": {
             "outlinewidth": 0,
             "ticks": ""
            },
            "colorscale": [
             [
              0,
              "#0d0887"
             ],
             [
              0.1111111111111111,
              "#46039f"
             ],
             [
              0.2222222222222222,
              "#7201a8"
             ],
             [
              0.3333333333333333,
              "#9c179e"
             ],
             [
              0.4444444444444444,
              "#bd3786"
             ],
             [
              0.5555555555555556,
              "#d8576b"
             ],
             [
              0.6666666666666666,
              "#ed7953"
             ],
             [
              0.7777777777777778,
              "#fb9f3a"
             ],
             [
              0.8888888888888888,
              "#fdca26"
             ],
             [
              1,
              "#f0f921"
             ]
            ],
            "type": "surface"
           }
          ],
          "table": [
           {
            "cells": {
             "fill": {
              "color": "#EBF0F8"
             },
             "line": {
              "color": "white"
             }
            },
            "header": {
             "fill": {
              "color": "#C8D4E3"
             },
             "line": {
              "color": "white"
             }
            },
            "type": "table"
           }
          ]
         },
         "layout": {
          "annotationdefaults": {
           "arrowcolor": "#2a3f5f",
           "arrowhead": 0,
           "arrowwidth": 1
          },
          "colorscale": {
           "diverging": [
            [
             0,
             "#8e0152"
            ],
            [
             0.1,
             "#c51b7d"
            ],
            [
             0.2,
             "#de77ae"
            ],
            [
             0.3,
             "#f1b6da"
            ],
            [
             0.4,
             "#fde0ef"
            ],
            [
             0.5,
             "#f7f7f7"
            ],
            [
             0.6,
             "#e6f5d0"
            ],
            [
             0.7,
             "#b8e186"
            ],
            [
             0.8,
             "#7fbc41"
            ],
            [
             0.9,
             "#4d9221"
            ],
            [
             1,
             "#276419"
            ]
           ],
           "sequential": [
            [
             0,
             "#0d0887"
            ],
            [
             0.1111111111111111,
             "#46039f"
            ],
            [
             0.2222222222222222,
             "#7201a8"
            ],
            [
             0.3333333333333333,
             "#9c179e"
            ],
            [
             0.4444444444444444,
             "#bd3786"
            ],
            [
             0.5555555555555556,
             "#d8576b"
            ],
            [
             0.6666666666666666,
             "#ed7953"
            ],
            [
             0.7777777777777778,
             "#fb9f3a"
            ],
            [
             0.8888888888888888,
             "#fdca26"
            ],
            [
             1,
             "#f0f921"
            ]
           ],
           "sequentialminus": [
            [
             0,
             "#0d0887"
            ],
            [
             0.1111111111111111,
             "#46039f"
            ],
            [
             0.2222222222222222,
             "#7201a8"
            ],
            [
             0.3333333333333333,
             "#9c179e"
            ],
            [
             0.4444444444444444,
             "#bd3786"
            ],
            [
             0.5555555555555556,
             "#d8576b"
            ],
            [
             0.6666666666666666,
             "#ed7953"
            ],
            [
             0.7777777777777778,
             "#fb9f3a"
            ],
            [
             0.8888888888888888,
             "#fdca26"
            ],
            [
             1,
             "#f0f921"
            ]
           ]
          },
          "colorway": [
           "#636efa",
           "#EF553B",
           "#00cc96",
           "#ab63fa",
           "#FFA15A",
           "#19d3f3",
           "#FF6692",
           "#B6E880",
           "#FF97FF",
           "#FECB52"
          ],
          "font": {
           "color": "#2a3f5f"
          },
          "geo": {
           "bgcolor": "white",
           "lakecolor": "white",
           "landcolor": "#E5ECF6",
           "showlakes": true,
           "showland": true,
           "subunitcolor": "white"
          },
          "hoverlabel": {
           "align": "left"
          },
          "hovermode": "closest",
          "mapbox": {
           "style": "light"
          },
          "paper_bgcolor": "white",
          "plot_bgcolor": "#E5ECF6",
          "polar": {
           "angularaxis": {
            "gridcolor": "white",
            "linecolor": "white",
            "ticks": ""
           },
           "bgcolor": "#E5ECF6",
           "radialaxis": {
            "gridcolor": "white",
            "linecolor": "white",
            "ticks": ""
           }
          },
          "scene": {
           "xaxis": {
            "backgroundcolor": "#E5ECF6",
            "gridcolor": "white",
            "gridwidth": 2,
            "linecolor": "white",
            "showbackground": true,
            "ticks": "",
            "zerolinecolor": "white"
           },
           "yaxis": {
            "backgroundcolor": "#E5ECF6",
            "gridcolor": "white",
            "gridwidth": 2,
            "linecolor": "white",
            "showbackground": true,
            "ticks": "",
            "zerolinecolor": "white"
           },
           "zaxis": {
            "backgroundcolor": "#E5ECF6",
            "gridcolor": "white",
            "gridwidth": 2,
            "linecolor": "white",
            "showbackground": true,
            "ticks": "",
            "zerolinecolor": "white"
           }
          },
          "shapedefaults": {
           "line": {
            "color": "#2a3f5f"
           }
          },
          "ternary": {
           "aaxis": {
            "gridcolor": "white",
            "linecolor": "white",
            "ticks": ""
           },
           "baxis": {
            "gridcolor": "white",
            "linecolor": "white",
            "ticks": ""
           },
           "bgcolor": "#E5ECF6",
           "caxis": {
            "gridcolor": "white",
            "linecolor": "white",
            "ticks": ""
           }
          },
          "title": {
           "x": 0.05
          },
          "xaxis": {
           "automargin": true,
           "gridcolor": "white",
           "linecolor": "white",
           "ticks": "",
           "zerolinecolor": "white",
           "zerolinewidth": 2
          },
          "yaxis": {
           "automargin": true,
           "gridcolor": "white",
           "linecolor": "white",
           "ticks": "",
           "zerolinecolor": "white",
           "zerolinewidth": 2
          }
         }
        },
        "xaxis": {
         "anchor": "y",
         "autorange": true,
         "domain": [
          0,
          0.98
         ],
         "range": [
          14.507688230486352,
          201.45600364718172
         ],
         "title": {
          "text": "lumi_mean"
         },
         "type": "linear"
        },
        "yaxis": {
         "anchor": "x",
         "autorange": true,
         "domain": [
          0,
          1
         ],
         "range": [
          -24041.05587924164,
          2049169.0558792416
         ],
         "title": {
          "text": "count"
         },
         "type": "linear"
        }
       }
      },
      "image/png": "[encoded data removed]",
      "text/html": [
       "<div>\n",
       "        \n",
       "        \n",
       "            <div id=\"f0f457c5-35b2-414c-b8c9-e6bf602fd955\" class=\"plotly-graph-div\" style=\"height:600px; width:100%;\"></div>\n",
       "            <script type=\"text/javascript\">\n",
       "                require([\"plotly\"], function(Plotly) {\n",
       "                    window.PLOTLYENV=window.PLOTLYENV || {};\n",
       "                    \n",
       "                if (document.getElementById(\"f0f457c5-35b2-414c-b8c9-e6bf602fd955\")) {\n",
       "                    Plotly.newPlot(\n",
       "                        'f0f457c5-35b2-414c-b8c9-e6bf602fd955',\n",
       "                        [{\"hoverlabel\": {\"namelength\": 0}, \"hovertemplate\": \"lumi_mean=%{x}<br>count=%{y}<br>size=%{marker.size}<br>index=%{text}\", \"legendgroup\": \"\", \"marker\": {\"color\": \"#636efa\", \"size\": [10, 10, 10, 10, 10, 10, 10, 10, 10, 10, 10, 10, 10, 10, 10, 10, 10, 10, 10, 10, 10, 10, 10, 10, 10, 10, 10, 10, 10, 10, 10, 10, 10, 10, 10, 10, 10, 10, 10, 10, 10, 10, 10, 10, 10, 10, 10, 10, 10, 10, 10, 10, 10, 10, 10, 10, 10, 10, 10, 10, 10, 10, 10, 10, 10, 10, 10, 10, 10, 10, 10, 10, 10, 10, 10, 10, 10, 10, 10, 10, 10, 10, 10, 10, 10, 10, 10, 10, 10, 10, 10, 10, 10, 10, 10, 10, 10, 10, 10, 10, 10, 10, 10, 10, 10, 10, 10, 10, 10, 10, 10, 10, 10, 10], \"sizemode\": \"area\", \"sizeref\": 0.03460207612456748, \"symbol\": \"circle\"}, \"mode\": \"markers+text\", \"name\": \"\", \"showlegend\": false, \"text\": [1.0, 2.0, 3.0, 4.0, 5.0, 6.0, 7.0, 8.0, 9.0, 10.0, 11.0, 12.0, 13.0, 14.0, 15.0, 16.0, 17.0, 18.0, 19.0, 21.0, 22.0, 23.0, 24.0, 25.0, 26.0, 28.0, 29.0, 30.0, 31.0, 32.0, 33.0, 34.0, 35.0, 36.0, 37.0, 38.0, 39.0, 40.0, 41.0, 44.0, 45.0, 46.0, 47.0, 51.0, 53.0, 55.0, 57.0, 58.0, 60.0, 61.0, 62.0, 63.0, 64.0, 65.0, 66.0, 67.0, 68.0, 69.0, 71.0, 72.0, 73.0, 74.0, 76.0, 77.0, 78.0, 79.0, 82.0, 83.0, 86.0, 88.0, 90.0, 93.0, 94.0, 95.0, 96.0, 97.0, 98.0, 101.0, 102.0, 103.0, 104.0, 105.0, 107.0, 109.0, 112.0, 113.0, 115.0, 117.0, 118.0, 119.0, 121.0, 122.0, 123.0, 124.0, 125.0, 126.0, 127.0, 130.0, 134.0, 135.0, 136.0, 138.0, 140.0, 142.0, 145.0, 146.0, 147.0, 149.0, 150.0, 151.0, 152.0, 154.0, 157.0, 159.0], \"type\": \"scatter\", \"x\": [166.59816088719063, 187.8554718124154, 150.4933785952683, 98.561760864422, 112.89323419660823, 100.08308739204399, 168.71991872223796, 133.06138994784794, 87.58986265224868, 113.62973042136463, 106.64426617060032, 114.99173353377195, 118.56377118255207, 79.03658154385762, 116.85918371744397, 99.61123203129203, 94.06236109676868, 109.52415609088304, 134.97558078874053, 140.29187590635348, 68.79447235710744, 128.6550543762124, 129.92310519228198, 92.11348027195379, 79.40930747418382, 104.44297189101765, 102.42908005211183, 76.72929958990953, 60.87202456291046, 119.23361374851248, 101.82845567661064, 90.69043254990959, 106.93234501042328, 145.80602952929303, 101.0875694089407, 112.13174806545472, 128.39829648364952, 77.6069602261448, 74.78404342092891, 159.07068858003487, 177.13897762273186, 124.84672571450076, 89.55697343262739, 128.587912951808, 156.3215683794988, 182.77914982022358, 103.12602753962068, 144.8894250527755, 113.26723638611959, 63.67501831857727, 134.64997533653124, 103.48668093795477, 84.08847652676332, 105.880598702598, 97.05710868861937, 100.82113147622962, 157.9452177122107, 179.08617468350457, 85.38751580703313, 112.41761947363764, 112.32105955699907, 33.79919882478569, 83.36897525044614, 93.15823369974682, 80.1644609365357, 105.56787056462557, 141.30510064612326, 132.13282051186258, 77.87149839841629, 143.24844762731087, 141.83181523103337, 158.93853856995653, 98.78718854298864, 148.9175189746216, 133.31009622034958, 171.79846723769575, 94.03485118801173, 112.20652623906193, 175.6711165016051, 148.13622522929933, 136.0426956276975, 146.29994008076068, 188.36581185049354, 87.68760461562097, 127.50552825955404, 149.16800206080842, 123.579677658101, 72.03814999746314, 97.67982075600278, 102.18732112020962, 117.01541388637804, 133.12370413837428, 150.02707992849497, 158.45036291403073, 129.4759659854559, 129.0521455300883, 114.90911006100686, 123.98667259827164, 146.64244691250747, 138.6894951061698, 66.74006252334117, 130.388573093378, 144.73281719511994, 160.97231517173338, 130.98876192979404, 84.89463983221086, 135.74745068802991, 139.02258890874302, 148.48994171292162, 80.82743831618188, 67.6530783598074, 147.8573885542414, 133.89327402060115, 27.59788002717453], \"xaxis\": \"x\", \"y\": [369526, 336744, 297822, 308553, 395548, 735948, 529050, 370647, 424470, 523632, 258030, 614652, 381387, 449899, 324863, 538923, 445454, 286346, 270279, 315826, 427524, 836671, 389116, 491407, 329735, 347469, 436753, 589626, 703174, 510077, 346307, 1039880, 529584, 342846, 365767, 492493, 434513, 503748, 457291, 473075, 489604, 425192, 547062, 387969, 363764, 411066, 384900, 498811, 716493, 741051, 279766, 344281, 879917, 406813, 550214, 464738, 438974, 382154, 557505, 305151, 684739, 169501, 562596, 537553, 510413, 504777, 321920, 535339, 637494, 367663, 346595, 337724, 442838, 413974, 180731, 357133, 398523, 282613, 373497, 431205, 426320, 383850, 326113, 247334, 457739, 411489, 1082267, 1340236, 601638, 417529, 590766, 679953, 365289, 257499, 391362, 581488, 341765, 481039, 441912, 353302, 1855627, 315781, 609010, 393284, 563086, 609813, 316556, 379434, 690376, 431353, 350154, 245366, 947520, 222267], \"yaxis\": \"y\"}],\n",
       "                        {\"height\": 600, \"legend\": {\"itemsizing\": \"constant\", \"tracegroupgap\": 0}, \"margin\": {\"t\": 60}, \"template\": {\"data\": {\"bar\": [{\"error_x\": {\"color\": \"#2a3f5f\"}, \"error_y\": {\"color\": \"#2a3f5f\"}, \"marker\": {\"line\": {\"color\": \"#E5ECF6\", \"width\": 0.5}}, \"type\": \"bar\"}], \"barpolar\": [{\"marker\": {\"line\": {\"color\": \"#E5ECF6\", \"width\": 0.5}}, \"type\": \"barpolar\"}], \"carpet\": [{\"aaxis\": {\"endlinecolor\": \"#2a3f5f\", \"gridcolor\": \"white\", \"linecolor\": \"white\", \"minorgridcolor\": \"white\", \"startlinecolor\": \"#2a3f5f\"}, \"baxis\": {\"endlinecolor\": \"#2a3f5f\", \"gridcolor\": \"white\", \"linecolor\": \"white\", \"minorgridcolor\": \"white\", \"startlinecolor\": \"#2a3f5f\"}, \"type\": \"carpet\"}], \"choropleth\": [{\"colorbar\": {\"outlinewidth\": 0, \"ticks\": \"\"}, \"type\": \"choropleth\"}], \"contour\": [{\"colorbar\": {\"outlinewidth\": 0, \"ticks\": \"\"}, \"colorscale\": [[0.0, \"#0d0887\"], [0.1111111111111111, \"#46039f\"], [0.2222222222222222, \"#7201a8\"], [0.3333333333333333, \"#9c179e\"], [0.4444444444444444, \"#bd3786\"], [0.5555555555555556, \"#d8576b\"], [0.6666666666666666, \"#ed7953\"], [0.7777777777777778, \"#fb9f3a\"], [0.8888888888888888, \"#fdca26\"], [1.0, \"#f0f921\"]], \"type\": \"contour\"}], \"contourcarpet\": [{\"colorbar\": {\"outlinewidth\": 0, \"ticks\": \"\"}, \"type\": \"contourcarpet\"}], \"heatmap\": [{\"colorbar\": {\"outlinewidth\": 0, \"ticks\": \"\"}, \"colorscale\": [[0.0, \"#0d0887\"], [0.1111111111111111, \"#46039f\"], [0.2222222222222222, \"#7201a8\"], [0.3333333333333333, \"#9c179e\"], [0.4444444444444444, \"#bd3786\"], [0.5555555555555556, \"#d8576b\"], [0.6666666666666666, \"#ed7953\"], [0.7777777777777778, \"#fb9f3a\"], [0.8888888888888888, \"#fdca26\"], [1.0, \"#f0f921\"]], \"type\": \"heatmap\"}], \"heatmapgl\": [{\"colorbar\": {\"outlinewidth\": 0, \"ticks\": \"\"}, \"colorscale\": [[0.0, \"#0d0887\"], [0.1111111111111111, \"#46039f\"], [0.2222222222222222, \"#7201a8\"], [0.3333333333333333, \"#9c179e\"], [0.4444444444444444, \"#bd3786\"], [0.5555555555555556, \"#d8576b\"], [0.6666666666666666, \"#ed7953\"], [0.7777777777777778, \"#fb9f3a\"], [0.8888888888888888, \"#fdca26\"], [1.0, \"#f0f921\"]], \"type\": \"heatmapgl\"}], \"histogram\": [{\"marker\": {\"colorbar\": {\"outlinewidth\": 0, \"ticks\": \"\"}}, \"type\": \"histogram\"}], \"histogram2d\": [{\"colorbar\": {\"outlinewidth\": 0, \"ticks\": \"\"}, \"colorscale\": [[0.0, \"#0d0887\"], [0.1111111111111111, \"#46039f\"], [0.2222222222222222, \"#7201a8\"], [0.3333333333333333, \"#9c179e\"], [0.4444444444444444, \"#bd3786\"], [0.5555555555555556, \"#d8576b\"], [0.6666666666666666, \"#ed7953\"], [0.7777777777777778, \"#fb9f3a\"], [0.8888888888888888, \"#fdca26\"], [1.0, \"#f0f921\"]], \"type\": \"histogram2d\"}], \"histogram2dcontour\": [{\"colorbar\": {\"outlinewidth\": 0, \"ticks\": \"\"}, \"colorscale\": [[0.0, \"#0d0887\"], [0.1111111111111111, \"#46039f\"], [0.2222222222222222, \"#7201a8\"], [0.3333333333333333, \"#9c179e\"], [0.4444444444444444, \"#bd3786\"], [0.5555555555555556, \"#d8576b\"], [0.6666666666666666, \"#ed7953\"], [0.7777777777777778, \"#fb9f3a\"], [0.8888888888888888, \"#fdca26\"], [1.0, \"#f0f921\"]], \"type\": \"histogram2dcontour\"}], \"mesh3d\": [{\"colorbar\": {\"outlinewidth\": 0, \"ticks\": \"\"}, \"type\": \"mesh3d\"}], \"parcoords\": [{\"line\": {\"colorbar\": {\"outlinewidth\": 0, \"ticks\": \"\"}}, \"type\": \"parcoords\"}], \"scatter\": [{\"marker\": {\"colorbar\": {\"outlinewidth\": 0, \"ticks\": \"\"}}, \"type\": \"scatter\"}], \"scatter3d\": [{\"line\": {\"colorbar\": {\"outlinewidth\": 0, \"ticks\": \"\"}}, \"marker\": {\"colorbar\": {\"outlinewidth\": 0, \"ticks\": \"\"}}, \"type\": \"scatter3d\"}], \"scattercarpet\": [{\"marker\": {\"colorbar\": {\"outlinewidth\": 0, \"ticks\": \"\"}}, \"type\": \"scattercarpet\"}], \"scattergeo\": [{\"marker\": {\"colorbar\": {\"outlinewidth\": 0, \"ticks\": \"\"}}, \"type\": \"scattergeo\"}], \"scattergl\": [{\"marker\": {\"colorbar\": {\"outlinewidth\": 0, \"ticks\": \"\"}}, \"type\": \"scattergl\"}], \"scattermapbox\": [{\"marker\": {\"colorbar\": {\"outlinewidth\": 0, \"ticks\": \"\"}}, \"type\": \"scattermapbox\"}], \"scatterpolar\": [{\"marker\": {\"colorbar\": {\"outlinewidth\": 0, \"ticks\": \"\"}}, \"type\": \"scatterpolar\"}], \"scatterpolargl\": [{\"marker\": {\"colorbar\": {\"outlinewidth\": 0, \"ticks\": \"\"}}, \"type\": \"scatterpolargl\"}], \"scatterternary\": [{\"marker\": {\"colorbar\": {\"outlinewidth\": 0, \"ticks\": \"\"}}, \"type\": \"scatterternary\"}], \"surface\": [{\"colorbar\": {\"outlinewidth\": 0, \"ticks\": \"\"}, \"colorscale\": [[0.0, \"#0d0887\"], [0.1111111111111111, \"#46039f\"], [0.2222222222222222, \"#7201a8\"], [0.3333333333333333, \"#9c179e\"], [0.4444444444444444, \"#bd3786\"], [0.5555555555555556, \"#d8576b\"], [0.6666666666666666, \"#ed7953\"], [0.7777777777777778, \"#fb9f3a\"], [0.8888888888888888, \"#fdca26\"], [1.0, \"#f0f921\"]], \"type\": \"surface\"}], \"table\": [{\"cells\": {\"fill\": {\"color\": \"#EBF0F8\"}, \"line\": {\"color\": \"white\"}}, \"header\": {\"fill\": {\"color\": \"#C8D4E3\"}, \"line\": {\"color\": \"white\"}}, \"type\": \"table\"}]}, \"layout\": {\"annotationdefaults\": {\"arrowcolor\": \"#2a3f5f\", \"arrowhead\": 0, \"arrowwidth\": 1}, \"colorscale\": {\"diverging\": [[0, \"#8e0152\"], [0.1, \"#c51b7d\"], [0.2, \"#de77ae\"], [0.3, \"#f1b6da\"], [0.4, \"#fde0ef\"], [0.5, \"#f7f7f7\"], [0.6, \"#e6f5d0\"], [0.7, \"#b8e186\"], [0.8, \"#7fbc41\"], [0.9, \"#4d9221\"], [1, \"#276419\"]], \"sequential\": [[0.0, \"#0d0887\"], [0.1111111111111111, \"#46039f\"], [0.2222222222222222, \"#7201a8\"], [0.3333333333333333, \"#9c179e\"], [0.4444444444444444, \"#bd3786\"], [0.5555555555555556, \"#d8576b\"], [0.6666666666666666, \"#ed7953\"], [0.7777777777777778, \"#fb9f3a\"], [0.8888888888888888, \"#fdca26\"], [1.0, \"#f0f921\"]], \"sequentialminus\": [[0.0, \"#0d0887\"], [0.1111111111111111, \"#46039f\"], [0.2222222222222222, \"#7201a8\"], [0.3333333333333333, \"#9c179e\"], [0.4444444444444444, \"#bd3786\"], [0.5555555555555556, \"#d8576b\"], [0.6666666666666666, \"#ed7953\"], [0.7777777777777778, \"#fb9f3a\"], [0.8888888888888888, \"#fdca26\"], [1.0, \"#f0f921\"]]}, \"colorway\": [\"#636efa\", \"#EF553B\", \"#00cc96\", \"#ab63fa\", \"#FFA15A\", \"#19d3f3\", \"#FF6692\", \"#B6E880\", \"#FF97FF\", \"#FECB52\"], \"font\": {\"color\": \"#2a3f5f\"}, \"geo\": {\"bgcolor\": \"white\", \"lakecolor\": \"white\", \"landcolor\": \"#E5ECF6\", \"showlakes\": true, \"showland\": true, \"subunitcolor\": \"white\"}, \"hoverlabel\": {\"align\": \"left\"}, \"hovermode\": \"closest\", \"mapbox\": {\"style\": \"light\"}, \"paper_bgcolor\": \"white\", \"plot_bgcolor\": \"#E5ECF6\", \"polar\": {\"angularaxis\": {\"gridcolor\": \"white\", \"linecolor\": \"white\", \"ticks\": \"\"}, \"bgcolor\": \"#E5ECF6\", \"radialaxis\": {\"gridcolor\": \"white\", \"linecolor\": \"white\", \"ticks\": \"\"}}, \"scene\": {\"xaxis\": {\"backgroundcolor\": \"#E5ECF6\", \"gridcolor\": \"white\", \"gridwidth\": 2, \"linecolor\": \"white\", \"showbackground\": true, \"ticks\": \"\", \"zerolinecolor\": \"white\"}, \"yaxis\": {\"backgroundcolor\": \"#E5ECF6\", \"gridcolor\": \"white\", \"gridwidth\": 2, \"linecolor\": \"white\", \"showbackground\": true, \"ticks\": \"\", \"zerolinecolor\": \"white\"}, \"zaxis\": {\"backgroundcolor\": \"#E5ECF6\", \"gridcolor\": \"white\", \"gridwidth\": 2, \"linecolor\": \"white\", \"showbackground\": true, \"ticks\": \"\", \"zerolinecolor\": \"white\"}}, \"shapedefaults\": {\"line\": {\"color\": \"#2a3f5f\"}}, \"ternary\": {\"aaxis\": {\"gridcolor\": \"white\", \"linecolor\": \"white\", \"ticks\": \"\"}, \"baxis\": {\"gridcolor\": \"white\", \"linecolor\": \"white\", \"ticks\": \"\"}, \"bgcolor\": \"#E5ECF6\", \"caxis\": {\"gridcolor\": \"white\", \"linecolor\": \"white\", \"ticks\": \"\"}}, \"title\": {\"x\": 0.05}, \"xaxis\": {\"automargin\": true, \"gridcolor\": \"white\", \"linecolor\": \"white\", \"ticks\": \"\", \"zerolinecolor\": \"white\", \"zerolinewidth\": 2}, \"yaxis\": {\"automargin\": true, \"gridcolor\": \"white\", \"linecolor\": \"white\", \"ticks\": \"\", \"zerolinecolor\": \"white\", \"zerolinewidth\": 2}}}, \"xaxis\": {\"anchor\": \"y\", \"domain\": [0.0, 0.98], \"title\": {\"text\": \"lumi_mean\"}}, \"yaxis\": {\"anchor\": \"x\", \"domain\": [0.0, 1.0], \"title\": {\"text\": \"count\"}}},\n",
       "                        {\"responsive\": true}\n",
       "                    ).then(function(){\n",
       "                            \n",
       "var gd = document.getElementById('f0f457c5-35b2-414c-b8c9-e6bf602fd955');\n",
       "var x = new MutationObserver(function (mutations, observer) {{\n",
       "        var display = window.getComputedStyle(gd).display;\n",
       "        if (!display || display === 'none') {{\n",
       "            console.log([gd, 'removed!']);\n",
       "            Plotly.purge(gd);\n",
       "            observer.disconnect();\n",
       "        }}\n",
       "}});\n",
       "\n",
       "// Listen for the removal of the full notebook cells\n",
       "var notebookContainer = gd.closest('#notebook-container');\n",
       "if (notebookContainer) {{\n",
       "    x.observe(notebookContainer, {childList: true});\n",
       "}}\n",
       "\n",
       "// Listen for the clearing of the current output cell\n",
       "var outputEl = gd.closest('.output');\n",
       "if (outputEl) {{\n",
       "    x.observe(outputEl, {childList: true});\n",
       "}}\n",
       "\n",
       "                        })\n",
       "                };\n",
       "                });\n",
       "            </script>\n",
       "        </div>"
      ]
     },
     "metadata": {},
     "output_type": "display_data"
    }
   ],
   "source": [
    "import plotly.express as px \n",
    "mini_df['size']=10\n",
    "fig=px.scatter(mini_df,x='lumi_mean',y='count',text='index',size='size',size_max=17)\n",
    "fig.show()"
   ]
  },
  {
   "cell_type": "code",
   "execution_count": 266,
   "metadata": {},
   "outputs": [],
   "source": [
    "import numpy as np\n",
    "from pathlib import Path\n",
    "import SimpleITK as sitk\n",
    "import pandas as pd\n",
    "\n",
    "\n",
    "class DeedsPreprocessor(object):\n",
    "    '''\n",
    "    Deedsを使うときの前処理を行うクラス。\n",
    "    - スペーシング幅を調整したあとに解像度をpadding/cropで調整する。\n",
    "    - マスクがある場所の周辺のみをスライスに使用する。どのスライスを採用するかは、DataFrameに保存する\n",
    "    - ↑の調整をしたデータを新たにディレクトリを作って保存する。\n",
    "    '''\n",
    "\n",
    "    def __init__(self, data_dir, save_dir, st_path, kidney='kidney.nii.gz',\n",
    "                 ccrcc='CCRCC.nii.gz', cyst='cyst.nii.gz', SEs=['SE2.nii.gz', 'SE3.nii.gz']):\n",
    "        self.data_dir = data_dir\n",
    "        self.save_dir = save_dir\n",
    "        self.kidney = kidney\n",
    "        self.ccrcc = ccrcc\n",
    "        self.cyst = cyst\n",
    "        self.SEs = SEs\n",
    "        self.st_df = pd.read_csv(st_path)\n",
    "        self.spacing = (0.7, 0.7, 2.0)\n",
    "        self.df_path = './deeds_statistics.csv'\n",
    "        cols = ['count', 'count_CCR', 'count_cys', 'lumi_mean']\n",
    "        self.mini_df = self.st_df[cols].reset_index().fillna(0)\n",
    "\n",
    "    @staticmethod\n",
    "    def CropCenter(img: np.array, croped_size=512):\n",
    "        \"\"\"\n",
    "        zyxに並んでいる必要がある。\n",
    "        Spacing幅を変えたときにxyをcrop\n",
    "        \"\"\"\n",
    "        if img.shape[0] == img.shape[1]:\n",
    "            raise ValueError('this img is not square.')\n",
    "        _, y, x = img.shape\n",
    "        startx = x // 2 - (croped_size // 2)\n",
    "        return img[:, startx:startx + croped_size, startx:startx + croped_size]\n",
    "\n",
    "    @staticmethod\n",
    "    def PadCenter(img: np.array, padded_size=512):\n",
    "        \"\"\"\n",
    "        zyxに並んでいる必要がある。\n",
    "        Spacing幅を変えたときにxyをpadding\n",
    "        \"\"\"\n",
    "        if img.shape[0] == img.shape[1]:\n",
    "            raise ValueError('this img is not square.')\n",
    "\n",
    "        pad_size = padded_size - img.shape[0]\n",
    "        rpad=pad_size//2\n",
    "        lpad=int(np.ceil(pad_size/2))\n",
    "        return np.pad(img, ((rpad,lpad), (rpad,lpad), (0,0)), 'minimum')\n",
    "\n",
    "    def get_data(self,path: str):\n",
    "        \"\"\"pathからスペーシング幅を決めて画像とarrayを返す\"\"\"\n",
    "        if Path(path).is_file():\n",
    "            img = sitk.ReadImage(str(path))\n",
    "            img.SetSpacing(self.spacing)\n",
    "            img_array = sitk.GetArrayFromImage(img)\n",
    "            return True, img_array\n",
    "        else:\n",
    "            print(f'{path} is not exist.')\n",
    "            return False, np.zeros((100, 100, 100))\n",
    "\n",
    "    def save_niigz(self,save_path: str, array: np.array):\n",
    "        array=array.astype(np.int16)\n",
    "        save_image = sitk.GetImageFromArray(array)\n",
    "        save_image.SetSpacing(self.spacing)\n",
    "        if not save_path.parent.is_dir():\n",
    "            save_path.parent.mkdir()\n",
    "            print(save_path)\n",
    "        sitk.WriteImage(save_image, str(save_path), True)\n",
    "\n",
    "    @staticmethod\n",
    "    def check_slice_edge(label: np.array):\n",
    "        \"\"\"3次元ラベル二値画像。でどのスライスからデータが存在しているかidxの始点終点を返す\"\"\"\n",
    "        label = label.reshape(label.shape[0], -1)\n",
    "        boollabel = np.all(label == 0, axis=1)\n",
    "        st = np.where(boollabel.astype(int) == 0)[0][0]\n",
    "        en = np.where(boollabel.astype(int) == 0)[0][-1]\n",
    "        return st, en\n",
    "\n",
    "    def main(self):\n",
    "        '''DOING:存在しないときの処理'''\n",
    "        df = self.mini_df.copy()\n",
    "        df['right'] = 0\n",
    "        df['left'] = 0\n",
    "        df['slices'] = 0\n",
    "        df['spacing_xy'] = 0.0\n",
    "        df['spacing_z'] = 0.0\n",
    "        df['up_kid_slice'] = 0\n",
    "        df['down_kid_slice'] = 0\n",
    "        df['st'] = 0\n",
    "        df['en'] = 0\n",
    "\n",
    "        for i in range(3):\n",
    "            df[f'origin_{i}'] = 0.0\n",
    "\n",
    "        cids = df['index'].values\n",
    "        df.reset_index(drop=True, inplace=True)\n",
    "        for i, cid in enumerate(cids):\n",
    "\n",
    "            load_dir = Path(f'{self.data_dir}/{str(cid).zfill(5)}')\n",
    "            save_dir = Path(f'{self.save_dir}/{str(cid).zfill(5)}')\n",
    "\n",
    "            load_paths = [load_dir / p for p in [self.SEs[0], self.SEs[1], self.kidney, self.ccrcc, self.cyst]]\n",
    "            save_paths = [save_dir / p for p in [self.SEs[0], self.SEs[1], self.kidney, self.ccrcc, self.cyst]]\n",
    "            # パスがあるかどうかのboolとarrayのリスト\n",
    "            load_datas = [self.get_data(path) for path in load_paths]\n",
    "            print(load_datas[0][0])\n",
    "\n",
    "            se2 = load_datas[0][0]\n",
    "            se3 = load_datas[1][0]\n",
    "            ccr_arr = load_datas[3][1]\n",
    "            kid_arr = load_datas[2][1]\n",
    "            label_datas=load_datas[2:]\n",
    "            \n",
    "\n",
    "            if not (se2 and se3):\n",
    "                print(f'{cid} is not exist SEs.')\n",
    "                continue\n",
    "\n",
    "            whole_label_arr = np.copy(kid_arr)\n",
    "            for exist, array in label_datas:\n",
    "                if not exist:\n",
    "                    continue\n",
    "                else:\n",
    "                    whole_label_arr = np.logical_or(whole_label_arr, array)\n",
    "                    \n",
    "            # ラベルの始点・終点を調べている\n",
    "            st, en = self.check_slice_edge(whole_label_arr)\n",
    "            df.at[i, ['st', 'en']] = st, en\n",
    "\n",
    "            for (exist, array), save_path in zip(load_datas, save_paths):\n",
    "                if exist==False:\n",
    "                    print('this array is not exist.')\n",
    "                    continue\n",
    "                print(st,en)\n",
    "                imst=max(st,st-10)\n",
    "                imen=en+10\n",
    "                \n",
    "                array = array[imst:imen, :, :]\n",
    "                print(array.shape)\n",
    "                if array.shape[2] > 512:\n",
    "                    array = self.CropCenter(array)\n",
    "                else:\n",
    "                    array = self.PadCenter(array)\n",
    "                self.save_niigz(save_path,array)\n",
    "\n",
    "            # ガンがどっちにあるかを調べている。\n",
    "            right = ccr_arr[:, :, 256:]\n",
    "            left = ccr_arr[:, :, :256]\n",
    "            df.at[i, 'slices'] = ccr_arr.shape[0]\n",
    "            df.at[i, 'right'] = 1 if right.sum() > 0 else 0\n",
    "            df.at[i, 'left'] = 1 if left.sum() > 0 else 0\n",
    "\n",
    "        df.to_csv(self.df_path)\n"
   ]
  },
  {
   "cell_type": "code",
   "execution_count": 267,
   "metadata": {},
   "outputs": [
    {
     "name": "stdout",
     "output_type": "stream",
     "text": [
      "/home/kakeya/Desktop/higuchi/data/00000/SE2.nii.gz is not exist.\n",
      "/home/kakeya/Desktop/higuchi/data/00000/SE3.nii.gz is not exist.\n",
      "/home/kakeya/Desktop/higuchi/data/00000/kidney.nii.gz is not exist.\n",
      "/home/kakeya/Desktop/higuchi/data/00000/CCRCC.nii.gz is not exist.\n",
      "/home/kakeya/Desktop/higuchi/data/00000/cyst.nii.gz is not exist.\n",
      "False\n",
      "0 is not exist SEs.\n",
      "/home/kakeya/Desktop/higuchi/data/00001/CCRCC.nii.gz is not exist.\n",
      "True\n",
      "40 111\n",
      "(81, 512, 512)\n",
      "40 111\n",
      "(81, 512, 512)\n",
      "40 111\n",
      "(81, 512, 512)\n",
      "this array is not exist.\n",
      "40 111\n",
      "(81, 512, 512)\n",
      "True\n",
      "53 110\n",
      "(67, 512, 512)\n",
      "53 110\n",
      "(67, 512, 512)\n",
      "53 110\n",
      "(67, 512, 512)\n",
      "53 110\n",
      "(67, 512, 512)\n",
      "53 110\n",
      "(67, 512, 512)\n",
      "/home/kakeya/Desktop/higuchi/data/00003/cyst.nii.gz is not exist.\n",
      "True\n",
      "63 118\n",
      "(65, 512, 512)\n",
      "/home/kakeya/ssd/deeds_data/00003/SE2.nii.gz\n",
      "63 118\n",
      "(65, 512, 512)\n",
      "63 118\n",
      "(65, 512, 512)\n",
      "63 118\n",
      "(65, 512, 512)\n",
      "this array is not exist.\n",
      "True\n",
      "4 99\n",
      "(97, 512, 512)\n",
      "/home/kakeya/ssd/deeds_data/00004/SE2.nii.gz\n",
      "4 99\n",
      "(97, 512, 512)\n",
      "4 99\n",
      "(97, 512, 512)\n",
      "4 99\n",
      "(97, 512, 512)\n",
      "4 99\n",
      "(97, 512, 512)\n",
      "True\n",
      "66 141\n",
      "(85, 512, 512)\n",
      "/home/kakeya/ssd/deeds_data/00005/SE2.nii.gz\n",
      "66 141\n",
      "(85, 512, 512)\n",
      "66 141\n",
      "(85, 512, 512)\n",
      "66 141\n",
      "(85, 512, 512)\n",
      "66 141\n",
      "(85, 512, 512)\n",
      "True\n",
      "40 126\n",
      "(96, 512, 512)\n",
      "/home/kakeya/ssd/deeds_data/00006/SE2.nii.gz\n",
      "40 126\n",
      "(96, 512, 512)\n",
      "40 126\n",
      "(96, 512, 512)\n",
      "40 126\n",
      "(96, 512, 512)\n",
      "40 126\n",
      "(96, 512, 512)\n",
      "/home/kakeya/Desktop/higuchi/data/00007/CCRCC.nii.gz is not exist.\n",
      "True\n",
      "52 111\n",
      "(69, 512, 512)\n",
      "/home/kakeya/ssd/deeds_data/00007/SE2.nii.gz\n",
      "52 111\n",
      "(69, 512, 512)\n",
      "52 111\n",
      "(69, 512, 512)\n",
      "this array is not exist.\n",
      "52 111\n",
      "(69, 512, 512)\n",
      "/home/kakeya/Desktop/higuchi/data/00008/cyst.nii.gz is not exist.\n",
      "True\n",
      "51 114\n",
      "(73, 512, 512)\n",
      "/home/kakeya/ssd/deeds_data/00008/SE2.nii.gz\n",
      "51 114\n",
      "(73, 512, 512)\n",
      "51 114\n",
      "(73, 512, 512)\n",
      "51 114\n",
      "(73, 512, 512)\n",
      "this array is not exist.\n",
      "True\n",
      "25 80\n",
      "(65, 512, 512)\n",
      "/home/kakeya/ssd/deeds_data/00009/SE2.nii.gz\n",
      "25 80\n",
      "(65, 512, 512)\n",
      "25 80\n",
      "(65, 512, 512)\n",
      "25 80\n",
      "(65, 512, 512)\n",
      "25 80\n",
      "(65, 512, 512)\n",
      "True\n",
      "8 78\n",
      "(80, 512, 512)\n",
      "/home/kakeya/ssd/deeds_data/00010/SE2.nii.gz\n",
      "8 78\n",
      "(80, 512, 512)\n",
      "8 78\n",
      "(80, 512, 512)\n",
      "8 78\n",
      "(80, 512, 512)\n",
      "8 78\n",
      "(80, 512, 512)\n",
      "True\n",
      "79 135\n",
      "(66, 512, 512)\n",
      "/home/kakeya/ssd/deeds_data/00011/SE2.nii.gz\n",
      "79 135\n",
      "(66, 512, 512)\n",
      "79 135\n",
      "(66, 512, 512)\n",
      "79 135\n",
      "(66, 512, 512)\n",
      "79 135\n",
      "(66, 512, 512)\n",
      "True\n",
      "39 121\n",
      "(92, 512, 512)\n",
      "/home/kakeya/ssd/deeds_data/00012/SE2.nii.gz\n",
      "39 121\n",
      "(92, 512, 512)\n",
      "39 121\n",
      "(92, 512, 512)\n",
      "39 121\n",
      "(92, 512, 512)\n",
      "39 121\n",
      "(92, 512, 512)\n",
      "True\n",
      "34 87\n",
      "(63, 512, 512)\n",
      "/home/kakeya/ssd/deeds_data/00013/SE2.nii.gz\n",
      "34 87\n",
      "(63, 512, 512)\n"
     ]
    },
    {
     "ename": "KeyboardInterrupt",
     "evalue": "",
     "output_type": "error",
     "traceback": [
      "\u001b[0;31m---------------------------------------------------------------------------\u001b[0m",
      "\u001b[0;31mKeyboardInterrupt\u001b[0m                         Traceback (most recent call last)",
      "\u001b[0;32m<ipython-input-267-0f435c712af7>\u001b[0m in \u001b[0;36m<module>\u001b[0;34m\u001b[0m\n\u001b[1;32m      3\u001b[0m \u001b[0mst_path\u001b[0m\u001b[0;34m=\u001b[0m\u001b[0;34m'/home/kakeya/Desktop/higuchi/20191021/output/statistics.csv'\u001b[0m\u001b[0;34m\u001b[0m\u001b[0;34m\u001b[0m\u001b[0m\n\u001b[1;32m      4\u001b[0m \u001b[0mdp\u001b[0m\u001b[0;34m=\u001b[0m\u001b[0mDeedsPreprocessor\u001b[0m\u001b[0;34m(\u001b[0m\u001b[0mdata_dir\u001b[0m\u001b[0;34m,\u001b[0m\u001b[0msave_dir\u001b[0m\u001b[0;34m,\u001b[0m\u001b[0mst_path\u001b[0m\u001b[0;34m)\u001b[0m\u001b[0;34m\u001b[0m\u001b[0;34m\u001b[0m\u001b[0m\n\u001b[0;32m----> 5\u001b[0;31m \u001b[0mdp\u001b[0m\u001b[0;34m.\u001b[0m\u001b[0mmain\u001b[0m\u001b[0;34m(\u001b[0m\u001b[0;34m)\u001b[0m\u001b[0;34m\u001b[0m\u001b[0;34m\u001b[0m\u001b[0m\n\u001b[0m",
      "\u001b[0;32m<ipython-input-266-e6f0f2e09170>\u001b[0m in \u001b[0;36mmain\u001b[0;34m(self)\u001b[0m\n\u001b[1;32m    147\u001b[0m                 \u001b[0;32melse\u001b[0m\u001b[0;34m:\u001b[0m\u001b[0;34m\u001b[0m\u001b[0;34m\u001b[0m\u001b[0m\n\u001b[1;32m    148\u001b[0m                     \u001b[0marray\u001b[0m \u001b[0;34m=\u001b[0m \u001b[0mself\u001b[0m\u001b[0;34m.\u001b[0m\u001b[0mPadCenter\u001b[0m\u001b[0;34m(\u001b[0m\u001b[0marray\u001b[0m\u001b[0;34m)\u001b[0m\u001b[0;34m\u001b[0m\u001b[0;34m\u001b[0m\u001b[0m\n\u001b[0;32m--> 149\u001b[0;31m                 \u001b[0mself\u001b[0m\u001b[0;34m.\u001b[0m\u001b[0msave_niigz\u001b[0m\u001b[0;34m(\u001b[0m\u001b[0msave_path\u001b[0m\u001b[0;34m,\u001b[0m\u001b[0marray\u001b[0m\u001b[0;34m)\u001b[0m\u001b[0;34m\u001b[0m\u001b[0;34m\u001b[0m\u001b[0m\n\u001b[0m\u001b[1;32m    150\u001b[0m \u001b[0;34m\u001b[0m\u001b[0m\n\u001b[1;32m    151\u001b[0m             \u001b[0;31m# ガンがどっちにあるかを調べている。\u001b[0m\u001b[0;34m\u001b[0m\u001b[0;34m\u001b[0m\u001b[0;34m\u001b[0m\u001b[0m\n",
      "\u001b[0;32m<ipython-input-266-e6f0f2e09170>\u001b[0m in \u001b[0;36msave_niigz\u001b[0;34m(self, save_path, array)\u001b[0m\n\u001b[1;32m     71\u001b[0m             \u001b[0msave_path\u001b[0m\u001b[0;34m.\u001b[0m\u001b[0mparent\u001b[0m\u001b[0;34m.\u001b[0m\u001b[0mmkdir\u001b[0m\u001b[0;34m(\u001b[0m\u001b[0;34m)\u001b[0m\u001b[0;34m\u001b[0m\u001b[0;34m\u001b[0m\u001b[0m\n\u001b[1;32m     72\u001b[0m             \u001b[0mprint\u001b[0m\u001b[0;34m(\u001b[0m\u001b[0msave_path\u001b[0m\u001b[0;34m)\u001b[0m\u001b[0;34m\u001b[0m\u001b[0;34m\u001b[0m\u001b[0m\n\u001b[0;32m---> 73\u001b[0;31m         \u001b[0msitk\u001b[0m\u001b[0;34m.\u001b[0m\u001b[0mWriteImage\u001b[0m\u001b[0;34m(\u001b[0m\u001b[0msave_image\u001b[0m\u001b[0;34m,\u001b[0m \u001b[0mstr\u001b[0m\u001b[0;34m(\u001b[0m\u001b[0msave_path\u001b[0m\u001b[0;34m)\u001b[0m\u001b[0;34m,\u001b[0m \u001b[0;32mTrue\u001b[0m\u001b[0;34m)\u001b[0m\u001b[0;34m\u001b[0m\u001b[0;34m\u001b[0m\u001b[0m\n\u001b[0m\u001b[1;32m     74\u001b[0m \u001b[0;34m\u001b[0m\u001b[0m\n\u001b[1;32m     75\u001b[0m     \u001b[0;34m@\u001b[0m\u001b[0mstaticmethod\u001b[0m\u001b[0;34m\u001b[0m\u001b[0;34m\u001b[0m\u001b[0m\n",
      "\u001b[0;32m~/.local/lib/python3.6/site-packages/SimpleITK/SimpleITK.py\u001b[0m in \u001b[0;36mWriteImage\u001b[0;34m(*args)\u001b[0m\n\u001b[1;32m   8205\u001b[0m \u001b[0;34m\u001b[0m\u001b[0m\n\u001b[1;32m   8206\u001b[0m     \"\"\"\n\u001b[0;32m-> 8207\u001b[0;31m     \u001b[0;32mreturn\u001b[0m \u001b[0m_SimpleITK\u001b[0m\u001b[0;34m.\u001b[0m\u001b[0mWriteImage\u001b[0m\u001b[0;34m(\u001b[0m\u001b[0;34m*\u001b[0m\u001b[0margs\u001b[0m\u001b[0;34m)\u001b[0m\u001b[0;34m\u001b[0m\u001b[0;34m\u001b[0m\u001b[0m\n\u001b[0m\u001b[1;32m   8208\u001b[0m \u001b[0;32mclass\u001b[0m \u001b[0mImageReaderBase\u001b[0m\u001b[0;34m(\u001b[0m\u001b[0mProcessObject\u001b[0m\u001b[0;34m)\u001b[0m\u001b[0;34m:\u001b[0m\u001b[0;34m\u001b[0m\u001b[0;34m\u001b[0m\u001b[0m\n\u001b[1;32m   8209\u001b[0m     \"\"\"\n",
      "\u001b[0;31mKeyboardInterrupt\u001b[0m: "
     ]
    }
   ],
   "source": [
    "data_dir='/home/kakeya/Desktop/higuchi/data/'\n",
    "save_dir='/home/kakeya/ssd/deeds_data'\n",
    "st_path='/home/kakeya/Desktop/higuchi/20191021/output/statistics.csv'\n",
    "dp=DeedsPreprocessor(data_dir,save_dir,st_path)\n",
    "dp.main()"
   ]
  },
  {
   "cell_type": "code",
   "execution_count": null,
   "metadata": {},
   "outputs": [],
   "source": []
  }
 ],
 "metadata": {
  "kernelspec": {
   "display_name": "Python 3",
   "language": "python",
   "name": "python3"
  },
  "language_info": {
   "codemirror_mode": {
    "name": "ipython",
    "version": 3
   },
   "file_extension": ".py",
   "mimetype": "text/x-python",
   "name": "python",
   "nbconvert_exporter": "python",
   "pygments_lexer": "ipython3",
   "version": "3.6.8"
  }
 },
 "nbformat": 4,
 "nbformat_minor": 4
}
