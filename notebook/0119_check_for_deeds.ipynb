{
 "cells": [
  {
   "cell_type": "code",
   "execution_count": null,
   "metadata": {},
   "outputs": [],
   "source": []
  },
  {
   "cell_type": "code",
   "execution_count": 1,
   "metadata": {},
   "outputs": [],
   "source": [
    "import numpy as np\n",
    "from pathlib import Path\n",
    "import SimpleITK as sitk\n",
    "import pandas as pd\n",
    "from glob import glob\n",
    "from tqdm import tqdm"
   ]
  },
  {
   "cell_type": "code",
   "execution_count": 5,
   "metadata": {},
   "outputs": [],
   "source": [
    "pathA='/home/kakeya/ssd/deeds_data_130/00005/SE2.nii.gz'\n",
    "pathB='/home/kakeya/ssd/deeds_data_130/00022/SE2.nii.gz'\n",
    "imA=sitk.ReadImage(pathA)\n",
    "imB=sitk.ReadImage(pathB)\n",
    "\n",
    "pathC='/home/kakeya/ssd/deeds_data_130/00005/SE3.nii.gz'\n",
    "pathD='/home/kakeya/ssd/deeds_data_130/00022/SE3.nii.gz'\n",
    "imC=sitk.ReadImage(pathC)\n",
    "imD=sitk.ReadImage(pathD)\n"
   ]
  },
  {
   "cell_type": "code",
   "execution_count": 7,
   "metadata": {},
   "outputs": [
    {
     "name": "stdout",
     "output_type": "stream",
     "text": [
      "spacing: (0.699999988079071, 0.699999988079071, 2.0)\n",
      "direction: (1.0, 0.0, 0.0, 0.0, 1.0, 0.0, 0.0, 0.0, -1.0)\n",
      "origin: (0.0, 0.0, 0.0)\n",
      "spacing: (0.699999988079071, 0.699999988079071, 2.0)\n",
      "direction: (1.0, 0.0, 0.0, 0.0, 1.0, 0.0, 0.0, 0.0, -1.0)\n",
      "origin: (0.0, 0.0, 0.0)\n",
      "spacing: (0.699999988079071, 0.699999988079071, 2.0)\n",
      "direction: (1.0, 0.0, 0.0, 0.0, 1.0, 0.0, 0.0, 0.0, -1.0)\n",
      "origin: (0.0, 0.0, 0.0)\n",
      "spacing: (0.699999988079071, 0.699999988079071, 2.0)\n",
      "direction: (1.0, 0.0, 0.0, 0.0, 1.0, 0.0, 0.0, 0.0, -1.0)\n",
      "origin: (0.0, 0.0, 0.0)\n"
     ]
    }
   ],
   "source": [
    "\n",
    "data=[imA,imB,imC,imD]\n",
    "for im in data:\n",
    "    print('spacing:',im.GetSpacing())\n",
    "    print('direction:',im.GetDirection())    \n",
    "    print('origin:',im.GetOrigin())    "
   ]
  },
  {
   "cell_type": "code",
   "execution_count": 8,
   "metadata": {},
   "outputs": [
    {
     "name": "stdout",
     "output_type": "stream",
     "text": [
      "spacing: (0.6835939884185791, 0.6835939884185791, 2.0)\n",
      "direction: (1.0, 0.0, 0.0, 0.0, 1.0, 0.0, 0.0, 0.0, -1.0)\n",
      "origin: (-166.6580047607422, -325.6579895019531, -404.1000061035156)\n"
     ]
    }
   ],
   "source": [
    "pathS='/home/kakeya/Desktop/deedsBCV/BCVs_deformed.nii.gz'\n",
    "imS=sitk.ReadImage(pathS)\n",
    "print('spacing:',imS.GetSpacing())\n",
    "print('direction:',imS.GetDirection())    \n",
    "print('origin:',imS.GetOrigin()) "
   ]
  },
  {
   "cell_type": "code",
   "execution_count": 16,
   "metadata": {},
   "outputs": [
    {
     "name": "stdout",
     "output_type": "stream",
     "text": [
      "spacing: (0.6835939884185791, 0.6835939884185791, 2.0)\n",
      "direction: (1.0, 0.0, 0.0, 0.0, 1.0, 0.0, 0.0, 0.0, -1.0)\n",
      "origin: (-166.6580047607422, -325.6579895019531, -404.1000061035156)\n",
      "spacing: (0.6640629768371582, 0.6640629768371582, 2.0)\n",
      "direction: (1.0, 0.0, 0.0, 0.0, 1.0, 0.0, 0.0, 0.0, -1.0)\n",
      "origin: (-170.0, -37.0, -155.0)\n"
     ]
    }
   ],
   "source": [
    "path1='/home/kakeya/Desktop/higuchi/data/00015/SE2.nii.gz'\n",
    "path2='/home/kakeya/Desktop/higuchi/data/00127/SE2.nii.gz'\n",
    "# im1=sitk.ReadImage(path1)\n",
    "def func(path,re=False):\n",
    "    im=sitk.ReadImage(path)\n",
    "\n",
    "    print('spacing:',im.GetSpacing())\n",
    "    print('direction:',im.GetDirection())    \n",
    "    print('origin:',im.GetOrigin()) \n",
    "    if re:\n",
    "        return im\n",
    "\n",
    "func(path1)\n",
    "func(path2)"
   ]
  },
  {
   "cell_type": "code",
   "execution_count": 18,
   "metadata": {
    "collapsed": true,
    "jupyter": {
     "outputs_hidden": true
    }
   },
   "outputs": [
    {
     "name": "stdout",
     "output_type": "stream",
     "text": [
      "spacing: (0.699999988079071, 0.699999988079071, 2.0)\n",
      "direction: (1.0, 0.0, 0.0, 0.0, 1.0, 0.0, 0.0, 0.0, -1.0)\n",
      "origin: (0.0, 0.0, 0.0)\n"
     ]
    },
    {
     "data": {
      "text/plain": [
       "array([[[-525576.25,        nan,        nan, ...,        nan,\n",
       "                nan,        nan],\n",
       "        [       nan,        nan,        nan, ...,        nan,\n",
       "                nan,        nan],\n",
       "        [       nan,        nan,        nan, ...,        nan,\n",
       "                nan,        nan],\n",
       "        ...,\n",
       "        [       nan,        nan,        nan, ...,        nan,\n",
       "                nan,        nan],\n",
       "        [       nan,        nan,        nan, ...,        nan,\n",
       "                nan,        nan],\n",
       "        [       nan,        nan,        nan, ...,        nan,\n",
       "                nan,        nan]],\n",
       "\n",
       "       [[      -inf,        nan,        nan, ...,        nan,\n",
       "                nan,        nan],\n",
       "        [       nan,        nan,        nan, ...,        nan,\n",
       "                nan,        nan],\n",
       "        [       nan,        nan,        nan, ...,        nan,\n",
       "                nan,        nan],\n",
       "        ...,\n",
       "        [       nan,        nan,        nan, ...,        nan,\n",
       "                nan,        nan],\n",
       "        [       nan,        nan,        nan, ...,        nan,\n",
       "                nan,        nan],\n",
       "        [       nan,        nan,        nan, ...,        nan,\n",
       "                nan,        nan]],\n",
       "\n",
       "       [[      -inf,        nan,        nan, ...,        nan,\n",
       "                nan,        nan],\n",
       "        [       nan,        nan,        nan, ...,        nan,\n",
       "                nan,        nan],\n",
       "        [       nan,        nan,        nan, ...,        nan,\n",
       "                nan,        nan],\n",
       "        ...,\n",
       "        [       nan,        nan,        nan, ...,        nan,\n",
       "                nan,        nan],\n",
       "        [       nan,        nan,        nan, ...,        nan,\n",
       "                nan,        nan],\n",
       "        [       nan,        nan,        nan, ...,        nan,\n",
       "                nan,        nan]],\n",
       "\n",
       "       ...,\n",
       "\n",
       "       [[      -inf,        nan,        nan, ...,        nan,\n",
       "                nan,        nan],\n",
       "        [       nan,        nan,        nan, ...,        nan,\n",
       "                nan,        nan],\n",
       "        [       nan,        nan,        nan, ...,        nan,\n",
       "                nan,        nan],\n",
       "        ...,\n",
       "        [       nan,        nan,        nan, ...,        nan,\n",
       "                nan,        nan],\n",
       "        [       nan,        nan,        nan, ...,        nan,\n",
       "                nan,        nan],\n",
       "        [       nan,        nan,        nan, ...,        nan,\n",
       "                nan,        nan]],\n",
       "\n",
       "       [[      -inf,        nan,        nan, ...,        nan,\n",
       "                nan,        nan],\n",
       "        [       nan,        nan,        nan, ...,        nan,\n",
       "                nan,        nan],\n",
       "        [       nan,        nan,        nan, ...,        nan,\n",
       "                nan,        nan],\n",
       "        ...,\n",
       "        [       nan,        nan,        nan, ...,        nan,\n",
       "                nan,        nan],\n",
       "        [       nan,        nan,        nan, ...,        nan,\n",
       "                nan,        nan],\n",
       "        [       nan,        nan,        nan, ...,        nan,\n",
       "                nan,        nan]],\n",
       "\n",
       "       [[      -inf,        nan,        nan, ...,        nan,\n",
       "                nan,        nan],\n",
       "        [       nan,        nan,        nan, ...,        nan,\n",
       "                nan,        nan],\n",
       "        [       nan,        nan,        nan, ...,        nan,\n",
       "                nan,        nan],\n",
       "        ...,\n",
       "        [       nan,        nan,        nan, ...,        nan,\n",
       "                nan,        nan],\n",
       "        [       nan,        nan,        nan, ...,        nan,\n",
       "                nan,        nan],\n",
       "        [       nan,        nan,        nan, ...,        nan,\n",
       "                nan,        nan]]], dtype=float32)"
      ]
     },
     "execution_count": 18,
     "metadata": {},
     "output_type": "execute_result"
    }
   ],
   "source": [
    "path3='/home/kakeya/ssd/deeds_data_130/deformed/00015_00096/SE2.nii.gz_deformed.nii.gz'\n",
    "im3=func(path3,True)\n",
    "arr3=sitk.GetArrayFromImage(im3)\n"
   ]
  },
  {
   "cell_type": "code",
   "execution_count": 24,
   "metadata": {},
   "outputs": [
    {
     "data": {
      "text/plain": [
       "nan"
      ]
     },
     "execution_count": 24,
     "metadata": {},
     "output_type": "execute_result"
    }
   ],
   "source": []
  },
  {
   "cell_type": "code",
   "execution_count": 12,
   "metadata": {},
   "outputs": [
    {
     "data": {
      "text/plain": [
       "(512, 512, 130)"
      ]
     },
     "execution_count": 12,
     "metadata": {},
     "output_type": "execute_result"
    }
   ],
   "source": [
    "im.GetSize()"
   ]
  },
  {
   "cell_type": "code",
   "execution_count": null,
   "metadata": {},
   "outputs": [],
   "source": []
  }
 ],
 "metadata": {
  "kernelspec": {
   "display_name": "Python 3",
   "language": "python",
   "name": "python3"
  },
  "language_info": {
   "codemirror_mode": {
    "name": "ipython",
    "version": 3
   },
   "file_extension": ".py",
   "mimetype": "text/x-python",
   "name": "python",
   "nbconvert_exporter": "python",
   "pygments_lexer": "ipython3",
   "version": "3.6.8"
  }
 },
 "nbformat": 4,
 "nbformat_minor": 4
}
