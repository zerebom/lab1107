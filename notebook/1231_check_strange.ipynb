{
 "cells": [
  {
   "cell_type": "code",
   "execution_count": 12,
   "metadata": {},
   "outputs": [],
   "source": [
    "import numpy as np\n",
    "from pathlib import Path\n",
    "import SimpleITK as sitk\n",
    "import pandas as pd\n",
    "from glob import glob\n",
    "from tqdm import tqdm"
   ]
  },
  {
   "cell_type": "code",
   "execution_count": 7,
   "metadata": {},
   "outputs": [],
   "source": [
    "paths=sorted(glob(f'/home/kakeya/ssd/strange/*/SE2.nii.gz'))"
   ]
  },
  {
   "cell_type": "code",
   "execution_count": 9,
   "metadata": {},
   "outputs": [
    {
     "name": "stdout",
     "output_type": "stream",
     "text": [
      "/home/kakeya/ssd/strange/00021/SE2.nii.gz (59, 512, 512)\n",
      "/home/kakeya/ssd/strange/00074/SE2.nii.gz (58, 512, 512)\n",
      "/home/kakeya/ssd/strange/00140/SE2.nii.gz (58, 512, 512)\n",
      "/home/kakeya/ssd/strange/00154/SE2.nii.gz (57, 512, 512)\n",
      "/home/kakeya/ssd/strange/00159/SE2.nii.gz (58, 512, 512)\n"
     ]
    }
   ],
   "source": [
    "for path in paths:\n",
    "    img = sitk.ReadImage(str(path))\n",
    "    # boolを渡して、interpolatorを変更している\n",
    "    img_array = sitk.GetArrayFromImage(img)\n",
    "    print(path,img_array.shape)"
   ]
  },
  {
   "cell_type": "code",
   "execution_count": 25,
   "metadata": {},
   "outputs": [],
   "source": [
    "def PadCenter(img: np.array, padded_size=(60,512,512)):\n",
    "    \"\"\"\n",
    "    zyxに並んでいる必要がある。\n",
    "    Spacing幅を変えたときにxyをpadding\n",
    "    \"\"\"\n",
    "    if img.shape[1] > padded_size[1]:\n",
    "        raise ValueError('this img is lager than padded_size')\n",
    "    if img.shape[0] > padded_size[0]:\n",
    "        raise ValueError('this img is lager than padded_size')\n",
    "    if img.shape[1] != img.shape[2]:\n",
    "        raise ValueError('this img is not square.')\n",
    "\n",
    "    hw_pad_size = padded_size[1] - img.shape[1]\n",
    "    d_pad_size = padded_size[0] - img.shape[0]\n",
    "    print(hw_pad_size,d_pad_size)\n",
    "\n",
    "    r_hw_pad = hw_pad_size // 2\n",
    "    l_hw_pad = int(np.ceil(hw_pad_size / 2))\n",
    "    t_d_pad = d_pad_size // 2\n",
    "    u_d_pad = int(np.ceil(d_pad_size / 2))\n",
    "\n",
    "    return np.pad(img, ((t_d_pad, u_d_pad), (r_hw_pad, l_hw_pad), (r_hw_pad, l_hw_pad)), 'minimum')\n",
    "              \n",
    "def save_niigz(save_path: str, array: np.array):\n",
    "    # (z,x,y)の方向になるようにする。\n",
    "    DIRECTION = (1.0, 0.0, 0.0, 0.0, 1.0, 0.0, 0.0, 0.0, -1.0)\n",
    "    array = array.astype(np.int16)\n",
    "    save_image = sitk.GetImageFromArray(array)\n",
    "    save_image.SetSpacing((0.7, 0.7, 2.0))\n",
    "    save_image.SetDirection(DIRECTION)\n",
    "    if not save_path.parent.is_dir():\n",
    "        save_path.parent.mkdir()\n",
    "        print(save_path)\n",
    "    sitk.WriteImage(save_image, str(save_path), True)"
   ]
  },
  {
   "cell_type": "code",
   "execution_count": 31,
   "metadata": {},
   "outputs": [
    {
     "name": "stdout",
     "output_type": "stream",
     "text": [
      "/home/kakeya/ssd/strange/00021/CCRCC.nii.gz (59, 512, 512)\n",
      "0 1\n",
      "(60, 512, 512)\n",
      "/home/kakeya/ssd/strange/00021/SE2.nii.gz (59, 512, 512)\n",
      "0 1\n",
      "(60, 512, 512)\n",
      "/home/kakeya/ssd/strange/00021/SE3.nii.gz (59, 512, 512)\n",
      "0 1\n",
      "(60, 512, 512)\n",
      "/home/kakeya/ssd/strange/00021/kidney.nii.gz (59, 512, 512)\n",
      "0 1\n",
      "(60, 512, 512)\n",
      "/home/kakeya/ssd/strange/00074/CCRCC.nii.gz (58, 512, 512)\n",
      "0 2\n",
      "(60, 512, 512)\n",
      "/home/kakeya/ssd/strange/00074/SE2.nii.gz (58, 512, 512)\n",
      "0 2\n",
      "(60, 512, 512)\n",
      "/home/kakeya/ssd/strange/00074/SE3.nii.gz (58, 512, 512)\n",
      "0 2\n",
      "(60, 512, 512)\n",
      "/home/kakeya/ssd/strange/00074/cyst.nii.gz (58, 512, 512)\n",
      "0 2\n",
      "(60, 512, 512)\n",
      "/home/kakeya/ssd/strange/00074/kidney.nii.gz (58, 512, 512)\n",
      "0 2\n",
      "(60, 512, 512)\n",
      "/home/kakeya/ssd/strange/00140/CCRCC.nii.gz (58, 512, 512)\n",
      "0 2\n",
      "(60, 512, 512)\n",
      "/home/kakeya/ssd/strange/00140/SE2.nii.gz (58, 512, 512)\n",
      "0 2\n",
      "(60, 512, 512)\n",
      "/home/kakeya/ssd/strange/00140/SE3.nii.gz (58, 512, 512)\n",
      "0 2\n",
      "(60, 512, 512)\n",
      "/home/kakeya/ssd/strange/00140/kidney.nii.gz (58, 512, 512)\n",
      "0 2\n",
      "(60, 512, 512)\n",
      "/home/kakeya/ssd/strange/00154/CCRCC.nii.gz (57, 512, 512)\n",
      "0 3\n",
      "(60, 512, 512)\n",
      "/home/kakeya/ssd/strange/00154/SE2.nii.gz (57, 512, 512)\n",
      "0 3\n",
      "(60, 512, 512)\n",
      "/home/kakeya/ssd/strange/00154/SE3.nii.gz (57, 512, 512)\n",
      "0 3\n",
      "(60, 512, 512)\n",
      "/home/kakeya/ssd/strange/00154/cyst.nii.gz (57, 512, 512)\n",
      "0 3\n",
      "(60, 512, 512)\n",
      "/home/kakeya/ssd/strange/00154/kidney.nii.gz (57, 512, 512)\n",
      "0 3\n",
      "(60, 512, 512)\n",
      "/home/kakeya/ssd/strange/00159/SE2.nii.gz (58, 512, 512)\n",
      "0 2\n",
      "(60, 512, 512)\n",
      "/home/kakeya/ssd/strange/00159/SE3.nii.gz (58, 512, 512)\n",
      "0 2\n",
      "(60, 512, 512)\n",
      "/home/kakeya/ssd/strange/00159/cyst.nii.gz (58, 512, 512)\n",
      "0 2\n",
      "(60, 512, 512)\n",
      "/home/kakeya/ssd/strange/00159/kidney.nii.gz (58, 512, 512)\n",
      "0 2\n",
      "(60, 512, 512)\n"
     ]
    }
   ],
   "source": [
    "from pathlib import Path\n",
    "paths=sorted(glob(f'/home/kakeya/ssd/strange/*/*.nii.gz'))\n",
    "for path in paths:\n",
    "    path=Path(path)\n",
    "    img = sitk.ReadImage(str(path))\n",
    "    # boolを渡して、interpolatorを変更している\n",
    "    img_array = sitk.GetArrayFromImage(img)\n",
    "    slices=img_array.shape[0]\n",
    "    if slices<60:\n",
    "        print(path,img_array.shape)\n",
    "    img_array=PadCenter(img_array, padded_size=(60,512,512))    \n",
    "    print(img_array.shape)\n",
    "    save_niigz(path,img_array)\n",
    "    "
   ]
  },
  {
   "cell_type": "code",
   "execution_count": 18,
   "metadata": {},
   "outputs": [
    {
     "name": "stderr",
     "output_type": "stream",
     "text": [
      "100%|██████████| 188161/188161 [03:11<00:00, 982.85it/s] \n"
     ]
    }
   ],
   "source": [
    "npys=glob('/home/kakeya/ssd/deeds_data/*/tumor_48x48x16_/patch_image_*.npy')\n",
    "for i,path in enumerate(tqdm(npys)):\n",
    "    img_array = np.load(str(path))\n",
    "    # boolを渡して、interpolatorを変更している\n",
    "    if img_array.shape!=(48, 48, 16, 2):\n",
    "        print(path,img_array.shape)\n",
    "\n",
    "    "
   ]
  },
  {
   "cell_type": "code",
   "execution_count": 21,
   "metadata": {},
   "outputs": [
    {
     "name": "stderr",
     "output_type": "stream",
     "text": [
      "100%|██████████| 188161/188161 [02:09<00:00, 1450.01it/s]\n"
     ]
    }
   ],
   "source": [
    "npys=glob('/home/kakeya/ssd/deeds_data/*/tumor_48x48x16_/patch_no_*.npy')\n",
    "for i,path in enumerate(tqdm(npys)):\n",
    "    img_array = np.load(str(path))\n",
    "    # boolを渡して、interpolatorを変更している\n",
    "    if img_array.shape!=(48, 48, 16):\n",
    "        print(path,img_array.shape)"
   ]
  },
  {
   "cell_type": "code",
   "execution_count": null,
   "metadata": {},
   "outputs": [],
   "source": []
  }
 ],
 "metadata": {
  "kernelspec": {
   "display_name": "Python 3",
   "language": "python",
   "name": "python3"
  },
  "language_info": {
   "codemirror_mode": {
    "name": "ipython",
    "version": 3
   },
   "file_extension": ".py",
   "mimetype": "text/x-python",
   "name": "python",
   "nbconvert_exporter": "python",
   "pygments_lexer": "ipython3",
   "version": "3.6.8"
  }
 },
 "nbformat": 4,
 "nbformat_minor": 4
}
