{
 "cells": [
  {
   "cell_type": "markdown",
   "metadata": {},
   "source": [
    "### histgramを患者ごとに作成する"
   ]
  },
  {
   "cell_type": "code",
   "execution_count": 3,
   "metadata": {},
   "outputs": [],
   "source": [
    "import plotly.express as px\n",
    "from plotly.subplots import make_subplots\n",
    "import plotly.figure_factory as ff\n",
    "import plotly.graph_objects as go\n",
    "import plotly.io as pio\n",
    "import SimpleITK as sitk\n",
    "from pathlib import Path\n",
    "import numpy as np\n",
    "import pandas as pd\n",
    "import matplotlib.pyplot as plt\n",
    "import seaborn\n",
    "import os\n",
    "pd.set_option('display.max_columns', 100)\n",
    "plt.rcParams[\"font.size\"] = 14\n",
    "plt.rcParams[\"font.weight\"] = 800"
   ]
  },
  {
   "cell_type": "code",
   "execution_count": 7,
   "metadata": {},
   "outputs": [],
   "source": [
    "cid_path=Path('/home/higuchi/Desktop/higuchi/data/00146')\n",
    "ccrcc_path=cid_path/'CCRCC.nii.gz'\n",
    "kidney_path=cid_path/'kidney.nii.gz'\n",
    "se2_path=cid_path/'SE2.nii.gz'\n",
    "se3_path=cid_path/'SE3.nii.gz'"
   ]
  },
  {
   "cell_type": "code",
   "execution_count": 8,
   "metadata": {},
   "outputs": [],
   "source": [
    "def _read_niigz(path:Path)->np.array:\n",
    "    if os.path.isfile(path):\n",
    "        data = sitk.ReadImage(str(path))\n",
    "        return sitk.GetArrayFromImage(data)\n",
    "    else:\n",
    "        print(f'Not Found {path}')\n",
    "        return np.zeros((10,10,10))"
   ]
  },
  {
   "cell_type": "code",
   "execution_count": null,
   "metadata": {},
   "outputs": [],
   "source": [
    "def KLD(a, b, bins=10, epsilon=.00001):\n",
    "    # サンプルをヒストグラムに, 共に同じ数のビンで区切る\n",
    "    a_hist, _ = np.histogram(a, bins=bins) \n",
    "    b_hist, _ = np.histogram(b, bins=bins)\n",
    "    \n",
    "    # 合計を1にするために全合計で割る\n",
    "    a_hist = (a_hist+epsilon)/np.sum(a_hist)\n",
    "    b_hist = (b_hist+epsilon)/np.sum(b_hist)\n",
    "    \n",
    "    # 本来なら a の分布に0が含まれているなら0, bの分布に0が含まれているなら inf にする\n",
    "    return np.sum([ai * np.log(ai / bi) for ai, bi in zip(a_hist, b_hist)])"
   ]
  },
  {
   "cell_type": "code",
   "execution_count": 89,
   "metadata": {},
   "outputs": [],
   "source": [
    "candidate_list=[  '001','002','003','004','005','006','007','008','009','010',\n",
    "   '011','012','013','014','015','017','018','019','021',\n",
    "   '022','023','024','025','026','028','029','030','031','032',\n",
    "   '033','034','035','036','037','038','039','040','041','044',\n",
    "   '045','046','047','051','053','055','057','058','060','061',\n",
    "   '062','063','064','065','066','067','068','069','071','072',\n",
    "   '073','074','076','077','078','079','082','083','086','088',\n",
    "   '090','093','094','095','096','097','098','101','102','103',\n",
    "   '104','105','107','109','112','113','115','117','118','119',\n",
    "   '121','122','123','124','125','126','127','130','134','135',\n",
    "   '136','138','140','142','145','146','147','149','150','151',\n",
    "   '152','154','157','159'\n",
    "]"
   ]
  },
  {
   "cell_type": "code",
   "execution_count": 93,
   "metadata": {},
   "outputs": [
    {
     "name": "stdout",
     "output_type": "stream",
     "text": [
      "001|Not Found /home/higuchi/Desktop/higuchi/data/00001/CCRCC.nii.gz\n",
      "002|003|004|005|006|007|Not Found /home/higuchi/Desktop/higuchi/data/00007/CCRCC.nii.gz\n",
      "008|009|010|011|012|013|014|015|017|018|019|021|022|023|Not Found /home/higuchi/Desktop/higuchi/data/00023/CCRCC.nii.gz\n",
      "024|Not Found /home/higuchi/Desktop/higuchi/data/00024/CCRCC.nii.gz\n",
      "025|026|Not Found /home/higuchi/Desktop/higuchi/data/00026/CCRCC.nii.gz\n",
      "028|029|030|031|032|033|034|035|Not Found /home/higuchi/Desktop/higuchi/data/00035/CCRCC.nii.gz\n",
      "036|Not Found /home/higuchi/Desktop/higuchi/data/00036/CCRCC.nii.gz\n",
      "037|038|039|040|041|044|045|046|047|051|053|055|057|058|060|061|062|063|064|065|066|067|068|069|071|072|073|074|076|077|078|079|082|083|086|088|090|093|094|095|096|097|098|101|102|103|104|105|107|109|112|113|115|117|118|119|121|122|123|124|125|126|127|130|134|135|136|138|140|142|145|146|147|149|150|151|152|154|157|159|Not Found /home/higuchi/Desktop/higuchi/data/00159/CCRCC.nii.gz\n"
     ]
    }
   ],
   "source": [
    "df2=pd.DataFrame(columns=range(0,1500))\n",
    "df2['cid']=0\n",
    "\n",
    "df3=pd.DataFrame(columns=range(0,1500))\n",
    "df3['cid']=0\n",
    "\n",
    "\n",
    "for i,cid in enumerate(candidate_list):\n",
    "    print(cid,end='|')\n",
    "    cid_path=Path(f'/home/higuchi/Desktop/higuchi/data/00{cid}')\n",
    "    ccrcc_path=cid_path/'CCRCC.nii.gz'\n",
    "    \n",
    "    kidney_path=cid_path/'kidney.nii.gz'\n",
    "    se2_path=cid_path/'SE2.nii.gz'\n",
    "    se3_path=cid_path/'SE3.nii.gz'\n",
    "    se3=_read_niigz(se3_path)\n",
    "    se2=_read_niigz(se2_path)\n",
    "    kidney=_read_niigz(kidney_path)\n",
    "    ccrcc=_read_niigz(ccrcc_path)\n",
    "\n",
    "    se2 = np.clip(se2, -750, 750)\n",
    "    se3 = np.clip(se3, -750, 750)\n",
    "    se3=se3+750\n",
    "    se2=se2+750\n",
    "    \n",
    "    \n",
    "    ctRange=1500\n",
    "    hist_se2, _  = np.histogram(se2.flatten(), ctRange, [0, ctRange])\n",
    "    hist_se3, _  = np.histogram(se3.flatten(), ctRange, [0, ctRange])\n",
    "    \n",
    "    df2=df2.append(pd.Series(hist_se2),ignore_index=True)\n",
    "    df2.loc[i,'cid']=cid\n",
    "\n",
    "    df3=df3.append(pd.Series(hist_se3),ignore_index=True)\n",
    "    df3.loc[i,'cid']=cid\n",
    "\n"
   ]
  },
  {
   "cell_type": "code",
   "execution_count": 94,
   "metadata": {},
   "outputs": [],
   "source": [
    "df2.to_csv('./se2_each_cid_hist.csv',index=None)\n",
    "df3.to_csv('./se3_each_cid_hist.csv',index=None)"
   ]
  }
 ],
 "metadata": {
  "kernelspec": {
   "display_name": "Python 3",
   "language": "python",
   "name": "python3"
  },
  "language_info": {
   "codemirror_mode": {
    "name": "ipython",
    "version": 3
   },
   "file_extension": ".py",
   "mimetype": "text/x-python",
   "name": "python",
   "nbconvert_exporter": "python",
   "pygments_lexer": "ipython3",
   "version": "3.6.8"
  }
 },
 "nbformat": 4,
 "nbformat_minor": 4
}
