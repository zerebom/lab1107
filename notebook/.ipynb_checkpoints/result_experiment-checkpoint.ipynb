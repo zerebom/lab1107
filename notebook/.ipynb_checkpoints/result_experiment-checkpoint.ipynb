{
 "cells": [
  {
   "cell_type": "markdown",
   "metadata": {},
   "source": [
    "### 実験結果をまとめる\n"
   ]
  },
  {
   "cell_type": "code",
   "execution_count": 111,
   "metadata": {},
   "outputs": [],
   "source": [
    "import plotly.express as px\n",
    "from plotly.subplots import make_subplots\n",
    "import plotly.figure_factory as ff\n",
    "import plotly.graph_objects as go\n",
    "import plotly.io as pio\n",
    "import SimpleITK as sitk\n",
    "from pathlib import Path\n",
    "import numpy as np\n",
    "import pandas as pd\n",
    "import matplotlib.pyplot as plt\n",
    "import seaborn\n",
    "import os\n",
    "import pandas as pd \n",
    "import seaborn as sns\n",
    "import numpy as np\n",
    "import matplotlib.pyplot as plt\n",
    "import plotly.express as px\n",
    "\n",
    "sns.set(font_scale=1.5)\n",
    "\n",
    "pd.set_option('display.max_columns', 100)\n",
    "plt.rcParams[\"font.size\"] = 18\n",
    "plt.rcParams[\"font.weight\"] = 800"
   ]
  },
  {
   "cell_type": "code",
   "execution_count": 112,
   "metadata": {},
   "outputs": [
    {
     "data": {
      "text/html": [
       "<div>\n",
       "<style scoped>\n",
       "    .dataframe tbody tr th:only-of-type {\n",
       "        vertical-align: middle;\n",
       "    }\n",
       "\n",
       "    .dataframe tbody tr th {\n",
       "        vertical-align: top;\n",
       "    }\n",
       "\n",
       "    .dataframe thead th {\n",
       "        text-align: right;\n",
       "    }\n",
       "</style>\n",
       "<table border=\"1\" class=\"dataframe\">\n",
       "  <thead>\n",
       "    <tr style=\"text-align: right;\">\n",
       "      <th></th>\n",
       "      <th>epoch</th>\n",
       "      <th>angioma_dice</th>\n",
       "      <th>bg_dice</th>\n",
       "      <th>cyst_dice</th>\n",
       "      <th>hcc_dice</th>\n",
       "      <th>loss</th>\n",
       "      <th>val_angioma_dice</th>\n",
       "      <th>val_bg_dice</th>\n",
       "      <th>val_cyst_dice</th>\n",
       "      <th>val_hcc_dice</th>\n",
       "      <th>val_loss</th>\n",
       "    </tr>\n",
       "  </thead>\n",
       "  <tbody>\n",
       "    <tr>\n",
       "      <th>0</th>\n",
       "      <td>0</td>\n",
       "      <td>0.222555</td>\n",
       "      <td>0.965165</td>\n",
       "      <td>0.487061</td>\n",
       "      <td>0.859407</td>\n",
       "      <td>0.004177</td>\n",
       "      <td>0.261968</td>\n",
       "      <td>0.960575</td>\n",
       "      <td>0.556645</td>\n",
       "      <td>0.878735</td>\n",
       "      <td>0.004068</td>\n",
       "    </tr>\n",
       "    <tr>\n",
       "      <th>1</th>\n",
       "      <td>1</td>\n",
       "      <td>0.286682</td>\n",
       "      <td>0.976932</td>\n",
       "      <td>0.598283</td>\n",
       "      <td>0.891779</td>\n",
       "      <td>0.003009</td>\n",
       "      <td>0.337238</td>\n",
       "      <td>0.970849</td>\n",
       "      <td>0.616840</td>\n",
       "      <td>0.897509</td>\n",
       "      <td>0.003498</td>\n",
       "    </tr>\n",
       "    <tr>\n",
       "      <th>2</th>\n",
       "      <td>2</td>\n",
       "      <td>0.304643</td>\n",
       "      <td>0.980066</td>\n",
       "      <td>0.641470</td>\n",
       "      <td>0.903068</td>\n",
       "      <td>0.002627</td>\n",
       "      <td>0.270312</td>\n",
       "      <td>0.970626</td>\n",
       "      <td>0.612743</td>\n",
       "      <td>0.895221</td>\n",
       "      <td>0.003661</td>\n",
       "    </tr>\n",
       "    <tr>\n",
       "      <th>3</th>\n",
       "      <td>3</td>\n",
       "      <td>0.323727</td>\n",
       "      <td>0.982095</td>\n",
       "      <td>0.670564</td>\n",
       "      <td>0.910250</td>\n",
       "      <td>0.002378</td>\n",
       "      <td>0.310402</td>\n",
       "      <td>0.970786</td>\n",
       "      <td>0.622374</td>\n",
       "      <td>0.903976</td>\n",
       "      <td>0.003394</td>\n",
       "    </tr>\n",
       "    <tr>\n",
       "      <th>4</th>\n",
       "      <td>4</td>\n",
       "      <td>0.334744</td>\n",
       "      <td>0.983104</td>\n",
       "      <td>0.687324</td>\n",
       "      <td>0.914802</td>\n",
       "      <td>0.002224</td>\n",
       "      <td>0.335980</td>\n",
       "      <td>0.974257</td>\n",
       "      <td>0.654955</td>\n",
       "      <td>0.904490</td>\n",
       "      <td>0.003181</td>\n",
       "    </tr>\n",
       "  </tbody>\n",
       "</table>\n",
       "</div>"
      ],
      "text/plain": [
       "   epoch  angioma_dice   bg_dice  cyst_dice  hcc_dice      loss  \\\n",
       "0      0      0.222555  0.965165   0.487061  0.859407  0.004177   \n",
       "1      1      0.286682  0.976932   0.598283  0.891779  0.003009   \n",
       "2      2      0.304643  0.980066   0.641470  0.903068  0.002627   \n",
       "3      3      0.323727  0.982095   0.670564  0.910250  0.002378   \n",
       "4      4      0.334744  0.983104   0.687324  0.914802  0.002224   \n",
       "\n",
       "   val_angioma_dice  val_bg_dice  val_cyst_dice  val_hcc_dice  val_loss  \n",
       "0          0.261968     0.960575       0.556645      0.878735  0.004068  \n",
       "1          0.337238     0.970849       0.616840      0.897509  0.003498  \n",
       "2          0.270312     0.970626       0.612743      0.895221  0.003661  \n",
       "3          0.310402     0.970786       0.622374      0.903976  0.003394  \n",
       "4          0.335980     0.974257       0.654955      0.904490  0.003181  "
      ]
     },
     "execution_count": 112,
     "metadata": {},
     "output_type": "execute_result"
    }
   ],
   "source": [
    "csv_path='/home/kakeya/Downloads/logs/2019-10-31_11-34/epoch_results.csv'\n",
    "df=pd.read_csv(csv_path)\n",
    "df.head()"
   ]
  },
  {
   "cell_type": "code",
   "execution_count": null,
   "metadata": {},
   "outputs": [],
   "source": [
    "statistics_path='/home/kakeya/Desktop/higuchi/20191021/output/statistics.csv'\n",
    "st_df=pd.read_csv(statistics_path,index_col=0).rename(columns={'index':'cid'})\n",
    "st_df=st_df.reset_index()"
   ]
  },
  {
   "cell_type": "code",
   "execution_count": 117,
   "metadata": {},
   "outputs": [],
   "source": [
    "def acc_plot(df,save_path=None,cols=['val_hcc_dice','val_cyst_dice','val_angioma_dice'],legends=['kidney','cyst','ccrcc']):\n",
    "    fig=plt.figure(figsize=(8,6))\n",
    "    ax=fig.add_subplot(111)\n",
    "    for col,legend in zip(cols,legends):\n",
    "        ax.plot(df[col],label=legend)\n",
    "    ax.set_xlabel('plot')\n",
    "    ax.set_ylabel('Dice')\n",
    "    plt.legend()\n",
    "    plt.tight_layout()\n",
    "    if save_path!=None:\n",
    "        plt.savefig(save_path)\n",
    "    plt.show()"
   ]
  },
  {
   "cell_type": "code",
   "execution_count": 118,
   "metadata": {},
   "outputs": [
    {
     "data": {
      "image/png": "[encoded data removed]",
      "text/plain": [
       "<Figure size 576x432 with 1 Axes>"
      ]
     },
     "metadata": {},
     "output_type": "display_data"
    }
   ],
   "source": [
    "acc_plot(df,'../Keras/experiments/1104_75epochs/plot/dice.png')"
   ]
  },
  {
   "cell_type": "code",
   "execution_count": 119,
   "metadata": {},
   "outputs": [],
   "source": [
    "csv_path='/home/kakeya/Desktop/higuchi/20191021/Keras/experiments/1104_75epochs/lesion_evaluation.csv'\n",
    "df=pd.read_csv(csv_path)"
   ]
  },
  {
   "cell_type": "code",
   "execution_count": 120,
   "metadata": {},
   "outputs": [],
   "source": [
    "def preprocess_lesion_df(df):\n",
    "    '''lesion_dfの前処理'''\n",
    "    preprocess=lambda x:int(x.split('.')[0])\n",
    "    df['cid']=df['filename'].apply(preprocess)\n",
    "    df.loc[df['existence'].str.contains('0'),['existence','dice','recall','precision']]='0'\n",
    "    df.loc[df['existence'].str.contains('1'),'existence']='1'\n",
    "    df['existence']=df['existence'].astype(int)\n",
    "    df['label_name']=df['label_name'].replace({'HCC': 'kidney', 'cyst': 'CCRCC','angioma':'Cyst'})\n",
    "    df.iloc[:,3:6]=df.iloc[:,3:6].astype(float)\n",
    "    return df"
   ]
  },
  {
   "cell_type": "code",
   "execution_count": 121,
   "metadata": {},
   "outputs": [],
   "source": [
    "df=preprocess_lesion_df(df)"
   ]
  },
  {
   "cell_type": "code",
   "execution_count": 178,
   "metadata": {},
   "outputs": [],
   "source": [
    "def plot_whole_lesion_dice(df,save_dir=None):\n",
    "    '''全症例に対してDiceスコアを出力する'''\n",
    "    sns.set(style=\"whitegrid\")\n",
    "    plt.figure(figsize=(14,5))\n",
    "    sns.set(font_scale=1.5) \n",
    "\n",
    "    # df[df['label_name']=='cyst'].sort_values('dice')\n",
    "    sns.barplot(x='cid',y='dice',data=df,hue='label_name')\n",
    "    plt.legend(bbox_to_anchor=(1, 1))\n",
    "    plt.tight_layout()\n",
    "    if save_dir:\n",
    "        plt.savefig(f'{save_dir}/whole_dice.png')\n",
    "    plt.show()\n"
   ]
  },
  {
   "cell_type": "code",
   "execution_count": 179,
   "metadata": {},
   "outputs": [],
   "source": [
    "def plot_each_lesion_dice(df,save_dir=None):\n",
    "    for leison in ['kidney','CCRCC','Cyst']:\n",
    "        plt.figure(figsize=(12,6))\n",
    "        df2=df.query('existence==1 & label_name==@leison')[['dice','cid']].sort_values('dice').reset_index(drop=True)\n",
    "        #df2=df.loc[df['label_name']==leison,['dice','cid']].sort_values('dice').reset_index(drop=True)\n",
    "        plt.rcParams[\"font.size\"] = 22\n",
    "        sns.barplot(x='cid',data=df2,y='dice',order=df2['cid'],palette='GnBu_d')\n",
    "        plt.title(f'{leison}_dice')\n",
    "        plt.ylim(0,1)\n",
    "        plt.tight_layout()\n",
    "        if save_dir:\n",
    "            plt.savefig(f'{save_dir}/{leison}_dice.png')\n",
    "        plt.show()"
   ]
  },
  {
   "cell_type": "code",
   "execution_count": 174,
   "metadata": {},
   "outputs": [],
   "source": [
    "df2=df.merge(st_df,how='left',on='cid')"
   ]
  },
  {
   "cell_type": "code",
   "execution_count": 180,
   "metadata": {},
   "outputs": [
    {
     "data": {
      "image/png": "[encoded data removed]",
      "text/plain": [
       "<Figure size 1008x360 with 1 Axes>"
      ]
     },
     "metadata": {},
     "output_type": "display_data"
    }
   ],
   "source": [
    "plot_whole_lesion_dice(df,save_dir='../output/EDA_result/1106')"
   ]
  },
  {
   "cell_type": "code",
   "execution_count": 175,
   "metadata": {},
   "outputs": [
    {
     "data": {
      "image/png": "[encoded data removed]",
      "text/plain": [
       "<Figure size 864x432 with 1 Axes>"
      ]
     },
     "metadata": {},
     "output_type": "display_data"
    },
    {
     "data": {
      "image/png": "[encoded data removed]",
      "text/plain": [
       "<Figure size 864x432 with 1 Axes>"
      ]
     },
     "metadata": {},
     "output_type": "display_data"
    },
    {
     "data": {
      "image/png": "[encoded data removed]",
      "text/plain": [
       "<Figure size 864x432 with 1 Axes>"
      ]
     },
     "metadata": {},
     "output_type": "display_data"
    }
   ],
   "source": [
    "plot_each_lesion_dice(df,save_dir='../output/EDA_result/1106')"
   ]
  },
  {
   "cell_type": "code",
   "execution_count": 167,
   "metadata": {},
   "outputs": [
    {
     "name": "stdout",
     "output_type": "stream",
     "text": [
      "病変ごとの精度・ccrcc: 0.8805256826992328\n",
      "病変ごとの精度・cyst: 0.5137988029761548\n"
     ]
    }
   ],
   "source": [
    "print('病変ごとの精度・ccrcc:',(ccr_df['dice']*ccr_df['count_CCR']).sum()/ccr_df['count_CCR'].sum())\n",
    "print('病変ごとの精度・cyst:',(cys_df['dice']*cys_df['count_cys']).sum()/cys_df['count_cys'].sum())"
   ]
  },
  {
   "cell_type": "code",
   "execution_count": 184,
   "metadata": {},
   "outputs": [
    {
     "data": {
      "text/html": [
       "<div>\n",
       "<style scoped>\n",
       "    .dataframe tbody tr th:only-of-type {\n",
       "        vertical-align: middle;\n",
       "    }\n",
       "\n",
       "    .dataframe tbody tr th {\n",
       "        vertical-align: top;\n",
       "    }\n",
       "\n",
       "    .dataframe thead th {\n",
       "        text-align: right;\n",
       "    }\n",
       "</style>\n",
       "<table border=\"1\" class=\"dataframe\">\n",
       "  <thead>\n",
       "    <tr style=\"text-align: right;\">\n",
       "      <th></th>\n",
       "      <th>filename</th>\n",
       "      <th>label_name</th>\n",
       "      <th>existence</th>\n",
       "      <th>dice</th>\n",
       "      <th>recall</th>\n",
       "      <th>precision</th>\n",
       "      <th>cid</th>\n",
       "      <th>count</th>\n",
       "      <th>count_CCR</th>\n",
       "      <th>count_cys</th>\n",
       "      <th>shape_kid</th>\n",
       "      <th>shape_CCR</th>\n",
       "      <th>shape_cys</th>\n",
       "      <th>lumi_mean</th>\n",
       "      <th>lumi_std</th>\n",
       "      <th>lumi_max</th>\n",
       "      <th>lumi_min</th>\n",
       "      <th>lumi_mean_SE2_CCR</th>\n",
       "      <th>lumi_std_SE2_CCR</th>\n",
       "      <th>lumi_max_SE2_CCR</th>\n",
       "      <th>lumi_min_SE2_CCR</th>\n",
       "      <th>lumi_mean_SE2_cys</th>\n",
       "      <th>lumi_std_SE2_cys</th>\n",
       "      <th>lumi_max_SE2_cys</th>\n",
       "      <th>lumi_min_SE2_cys</th>\n",
       "      <th>lumi_mean_SE3_kid</th>\n",
       "      <th>lumi_std_SE3_kid</th>\n",
       "      <th>lumi_max_SE3_kid</th>\n",
       "      <th>lumi_min_SE3_kid</th>\n",
       "      <th>lumi_mean_SE3_CCR</th>\n",
       "      <th>lumi_std_SE3_CCR</th>\n",
       "      <th>lumi_max_SE3_CCR</th>\n",
       "      <th>lumi_min_SE3_CCR</th>\n",
       "      <th>lumi_mean_SE3_cys</th>\n",
       "      <th>lumi_std_SE3_cys</th>\n",
       "      <th>lumi_max_SE3_cys</th>\n",
       "      <th>lumi_min_SE3_cys</th>\n",
       "    </tr>\n",
       "  </thead>\n",
       "  <tbody>\n",
       "    <tr>\n",
       "      <th>0</th>\n",
       "      <td>00115.nii.gz</td>\n",
       "      <td>kidney</td>\n",
       "      <td>1</td>\n",
       "      <td>0.832177</td>\n",
       "      <td>0.768084</td>\n",
       "      <td>0.907940</td>\n",
       "      <td>115</td>\n",
       "      <td>1082267</td>\n",
       "      <td>656521.0</td>\n",
       "      <td>NaN</td>\n",
       "      <td>74</td>\n",
       "      <td>67</td>\n",
       "      <td>0</td>\n",
       "      <td>123.579678</td>\n",
       "      <td>76.637332</td>\n",
       "      <td>437</td>\n",
       "      <td>-712</td>\n",
       "      <td>102.686414</td>\n",
       "      <td>62.743805</td>\n",
       "      <td>447.0</td>\n",
       "      <td>-98.0</td>\n",
       "      <td>NaN</td>\n",
       "      <td>NaN</td>\n",
       "      <td>NaN</td>\n",
       "      <td>NaN</td>\n",
       "      <td>114.684204</td>\n",
       "      <td>57.570915</td>\n",
       "      <td>380.93555</td>\n",
       "      <td>-612.71970</td>\n",
       "      <td>94.753426</td>\n",
       "      <td>45.247917</td>\n",
       "      <td>389.06190</td>\n",
       "      <td>-83.44916</td>\n",
       "      <td>NaN</td>\n",
       "      <td>NaN</td>\n",
       "      <td>NaN</td>\n",
       "      <td>NaN</td>\n",
       "    </tr>\n",
       "    <tr>\n",
       "      <th>1</th>\n",
       "      <td>00115.nii.gz</td>\n",
       "      <td>CCRCC</td>\n",
       "      <td>1</td>\n",
       "      <td>0.900275</td>\n",
       "      <td>0.975760</td>\n",
       "      <td>0.835631</td>\n",
       "      <td>115</td>\n",
       "      <td>1082267</td>\n",
       "      <td>656521.0</td>\n",
       "      <td>NaN</td>\n",
       "      <td>74</td>\n",
       "      <td>67</td>\n",
       "      <td>0</td>\n",
       "      <td>123.579678</td>\n",
       "      <td>76.637332</td>\n",
       "      <td>437</td>\n",
       "      <td>-712</td>\n",
       "      <td>102.686414</td>\n",
       "      <td>62.743805</td>\n",
       "      <td>447.0</td>\n",
       "      <td>-98.0</td>\n",
       "      <td>NaN</td>\n",
       "      <td>NaN</td>\n",
       "      <td>NaN</td>\n",
       "      <td>NaN</td>\n",
       "      <td>114.684204</td>\n",
       "      <td>57.570915</td>\n",
       "      <td>380.93555</td>\n",
       "      <td>-612.71970</td>\n",
       "      <td>94.753426</td>\n",
       "      <td>45.247917</td>\n",
       "      <td>389.06190</td>\n",
       "      <td>-83.44916</td>\n",
       "      <td>NaN</td>\n",
       "      <td>NaN</td>\n",
       "      <td>NaN</td>\n",
       "      <td>NaN</td>\n",
       "    </tr>\n",
       "    <tr>\n",
       "      <th>2</th>\n",
       "      <td>00115.nii.gz</td>\n",
       "      <td>Cyst</td>\n",
       "      <td>0</td>\n",
       "      <td>0.000000</td>\n",
       "      <td>0.000000</td>\n",
       "      <td>0.000000</td>\n",
       "      <td>115</td>\n",
       "      <td>1082267</td>\n",
       "      <td>656521.0</td>\n",
       "      <td>NaN</td>\n",
       "      <td>74</td>\n",
       "      <td>67</td>\n",
       "      <td>0</td>\n",
       "      <td>123.579678</td>\n",
       "      <td>76.637332</td>\n",
       "      <td>437</td>\n",
       "      <td>-712</td>\n",
       "      <td>102.686414</td>\n",
       "      <td>62.743805</td>\n",
       "      <td>447.0</td>\n",
       "      <td>-98.0</td>\n",
       "      <td>NaN</td>\n",
       "      <td>NaN</td>\n",
       "      <td>NaN</td>\n",
       "      <td>NaN</td>\n",
       "      <td>114.684204</td>\n",
       "      <td>57.570915</td>\n",
       "      <td>380.93555</td>\n",
       "      <td>-612.71970</td>\n",
       "      <td>94.753426</td>\n",
       "      <td>45.247917</td>\n",
       "      <td>389.06190</td>\n",
       "      <td>-83.44916</td>\n",
       "      <td>NaN</td>\n",
       "      <td>NaN</td>\n",
       "      <td>NaN</td>\n",
       "      <td>NaN</td>\n",
       "    </tr>\n",
       "    <tr>\n",
       "      <th>3</th>\n",
       "      <td>00119.nii.gz</td>\n",
       "      <td>kidney</td>\n",
       "      <td>1</td>\n",
       "      <td>0.924768</td>\n",
       "      <td>0.936980</td>\n",
       "      <td>0.912871</td>\n",
       "      <td>119</td>\n",
       "      <td>417529</td>\n",
       "      <td>96392.0</td>\n",
       "      <td>NaN</td>\n",
       "      <td>52</td>\n",
       "      <td>27</td>\n",
       "      <td>0</td>\n",
       "      <td>102.187321</td>\n",
       "      <td>69.592302</td>\n",
       "      <td>286</td>\n",
       "      <td>-185</td>\n",
       "      <td>71.821832</td>\n",
       "      <td>39.800081</td>\n",
       "      <td>250.0</td>\n",
       "      <td>-132.0</td>\n",
       "      <td>NaN</td>\n",
       "      <td>NaN</td>\n",
       "      <td>NaN</td>\n",
       "      <td>NaN</td>\n",
       "      <td>93.891075</td>\n",
       "      <td>54.144110</td>\n",
       "      <td>228.12500</td>\n",
       "      <td>-128.96759</td>\n",
       "      <td>62.959137</td>\n",
       "      <td>26.915474</td>\n",
       "      <td>163.13013</td>\n",
       "      <td>-108.40259</td>\n",
       "      <td>NaN</td>\n",
       "      <td>NaN</td>\n",
       "      <td>NaN</td>\n",
       "      <td>NaN</td>\n",
       "    </tr>\n",
       "    <tr>\n",
       "      <th>4</th>\n",
       "      <td>00119.nii.gz</td>\n",
       "      <td>CCRCC</td>\n",
       "      <td>1</td>\n",
       "      <td>0.783225</td>\n",
       "      <td>0.731036</td>\n",
       "      <td>0.843440</td>\n",
       "      <td>119</td>\n",
       "      <td>417529</td>\n",
       "      <td>96392.0</td>\n",
       "      <td>NaN</td>\n",
       "      <td>52</td>\n",
       "      <td>27</td>\n",
       "      <td>0</td>\n",
       "      <td>102.187321</td>\n",
       "      <td>69.592302</td>\n",
       "      <td>286</td>\n",
       "      <td>-185</td>\n",
       "      <td>71.821832</td>\n",
       "      <td>39.800081</td>\n",
       "      <td>250.0</td>\n",
       "      <td>-132.0</td>\n",
       "      <td>NaN</td>\n",
       "      <td>NaN</td>\n",
       "      <td>NaN</td>\n",
       "      <td>NaN</td>\n",
       "      <td>93.891075</td>\n",
       "      <td>54.144110</td>\n",
       "      <td>228.12500</td>\n",
       "      <td>-128.96759</td>\n",
       "      <td>62.959137</td>\n",
       "      <td>26.915474</td>\n",
       "      <td>163.13013</td>\n",
       "      <td>-108.40259</td>\n",
       "      <td>NaN</td>\n",
       "      <td>NaN</td>\n",
       "      <td>NaN</td>\n",
       "      <td>NaN</td>\n",
       "    </tr>\n",
       "    <tr>\n",
       "      <th>...</th>\n",
       "      <td>...</td>\n",
       "      <td>...</td>\n",
       "      <td>...</td>\n",
       "      <td>...</td>\n",
       "      <td>...</td>\n",
       "      <td>...</td>\n",
       "      <td>...</td>\n",
       "      <td>...</td>\n",
       "      <td>...</td>\n",
       "      <td>...</td>\n",
       "      <td>...</td>\n",
       "      <td>...</td>\n",
       "      <td>...</td>\n",
       "      <td>...</td>\n",
       "      <td>...</td>\n",
       "      <td>...</td>\n",
       "      <td>...</td>\n",
       "      <td>...</td>\n",
       "      <td>...</td>\n",
       "      <td>...</td>\n",
       "      <td>...</td>\n",
       "      <td>...</td>\n",
       "      <td>...</td>\n",
       "      <td>...</td>\n",
       "      <td>...</td>\n",
       "      <td>...</td>\n",
       "      <td>...</td>\n",
       "      <td>...</td>\n",
       "      <td>...</td>\n",
       "      <td>...</td>\n",
       "      <td>...</td>\n",
       "      <td>...</td>\n",
       "      <td>...</td>\n",
       "      <td>...</td>\n",
       "      <td>...</td>\n",
       "      <td>...</td>\n",
       "      <td>...</td>\n",
       "    </tr>\n",
       "    <tr>\n",
       "      <th>61</th>\n",
       "      <td>00157.nii.gz</td>\n",
       "      <td>CCRCC</td>\n",
       "      <td>1</td>\n",
       "      <td>0.623109</td>\n",
       "      <td>0.854944</td>\n",
       "      <td>0.490186</td>\n",
       "      <td>157</td>\n",
       "      <td>947520</td>\n",
       "      <td>10720.0</td>\n",
       "      <td>141995.0</td>\n",
       "      <td>128</td>\n",
       "      <td>23</td>\n",
       "      <td>92</td>\n",
       "      <td>133.893274</td>\n",
       "      <td>98.163740</td>\n",
       "      <td>459</td>\n",
       "      <td>-299</td>\n",
       "      <td>150.477892</td>\n",
       "      <td>40.490853</td>\n",
       "      <td>272.0</td>\n",
       "      <td>-58.0</td>\n",
       "      <td>14.325547</td>\n",
       "      <td>53.894052</td>\n",
       "      <td>340.0</td>\n",
       "      <td>-324.0</td>\n",
       "      <td>139.993970</td>\n",
       "      <td>89.565780</td>\n",
       "      <td>379.50720</td>\n",
       "      <td>-251.71307</td>\n",
       "      <td>108.617676</td>\n",
       "      <td>32.970383</td>\n",
       "      <td>250.22400</td>\n",
       "      <td>-38.96118</td>\n",
       "      <td>18.139643</td>\n",
       "      <td>56.194897</td>\n",
       "      <td>279.33300</td>\n",
       "      <td>-274.71454</td>\n",
       "    </tr>\n",
       "    <tr>\n",
       "      <th>62</th>\n",
       "      <td>00157.nii.gz</td>\n",
       "      <td>Cyst</td>\n",
       "      <td>1</td>\n",
       "      <td>0.781895</td>\n",
       "      <td>0.756956</td>\n",
       "      <td>0.808533</td>\n",
       "      <td>157</td>\n",
       "      <td>947520</td>\n",
       "      <td>10720.0</td>\n",
       "      <td>141995.0</td>\n",
       "      <td>128</td>\n",
       "      <td>23</td>\n",
       "      <td>92</td>\n",
       "      <td>133.893274</td>\n",
       "      <td>98.163740</td>\n",
       "      <td>459</td>\n",
       "      <td>-299</td>\n",
       "      <td>150.477892</td>\n",
       "      <td>40.490853</td>\n",
       "      <td>272.0</td>\n",
       "      <td>-58.0</td>\n",
       "      <td>14.325547</td>\n",
       "      <td>53.894052</td>\n",
       "      <td>340.0</td>\n",
       "      <td>-324.0</td>\n",
       "      <td>139.993970</td>\n",
       "      <td>89.565780</td>\n",
       "      <td>379.50720</td>\n",
       "      <td>-251.71307</td>\n",
       "      <td>108.617676</td>\n",
       "      <td>32.970383</td>\n",
       "      <td>250.22400</td>\n",
       "      <td>-38.96118</td>\n",
       "      <td>18.139643</td>\n",
       "      <td>56.194897</td>\n",
       "      <td>279.33300</td>\n",
       "      <td>-274.71454</td>\n",
       "    </tr>\n",
       "    <tr>\n",
       "      <th>63</th>\n",
       "      <td>00159.nii.gz</td>\n",
       "      <td>kidney</td>\n",
       "      <td>1</td>\n",
       "      <td>0.092330</td>\n",
       "      <td>0.049975</td>\n",
       "      <td>0.605452</td>\n",
       "      <td>159</td>\n",
       "      <td>222267</td>\n",
       "      <td>NaN</td>\n",
       "      <td>78706.0</td>\n",
       "      <td>41</td>\n",
       "      <td>0</td>\n",
       "      <td>41</td>\n",
       "      <td>27.597880</td>\n",
       "      <td>58.103993</td>\n",
       "      <td>266</td>\n",
       "      <td>-993</td>\n",
       "      <td>NaN</td>\n",
       "      <td>NaN</td>\n",
       "      <td>NaN</td>\n",
       "      <td>NaN</td>\n",
       "      <td>32.077008</td>\n",
       "      <td>52.413864</td>\n",
       "      <td>203.0</td>\n",
       "      <td>-116.0</td>\n",
       "      <td>32.055405</td>\n",
       "      <td>50.166603</td>\n",
       "      <td>232.57434</td>\n",
       "      <td>-985.21310</td>\n",
       "      <td>NaN</td>\n",
       "      <td>NaN</td>\n",
       "      <td>NaN</td>\n",
       "      <td>NaN</td>\n",
       "      <td>33.943863</td>\n",
       "      <td>42.456436</td>\n",
       "      <td>131.14844</td>\n",
       "      <td>-97.77692</td>\n",
       "    </tr>\n",
       "    <tr>\n",
       "      <th>64</th>\n",
       "      <td>00159.nii.gz</td>\n",
       "      <td>CCRCC</td>\n",
       "      <td>0</td>\n",
       "      <td>0.000000</td>\n",
       "      <td>0.000000</td>\n",
       "      <td>0.000000</td>\n",
       "      <td>159</td>\n",
       "      <td>222267</td>\n",
       "      <td>NaN</td>\n",
       "      <td>78706.0</td>\n",
       "      <td>41</td>\n",
       "      <td>0</td>\n",
       "      <td>41</td>\n",
       "      <td>27.597880</td>\n",
       "      <td>58.103993</td>\n",
       "      <td>266</td>\n",
       "      <td>-993</td>\n",
       "      <td>NaN</td>\n",
       "      <td>NaN</td>\n",
       "      <td>NaN</td>\n",
       "      <td>NaN</td>\n",
       "      <td>32.077008</td>\n",
       "      <td>52.413864</td>\n",
       "      <td>203.0</td>\n",
       "      <td>-116.0</td>\n",
       "      <td>32.055405</td>\n",
       "      <td>50.166603</td>\n",
       "      <td>232.57434</td>\n",
       "      <td>-985.21310</td>\n",
       "      <td>NaN</td>\n",
       "      <td>NaN</td>\n",
       "      <td>NaN</td>\n",
       "      <td>NaN</td>\n",
       "      <td>33.943863</td>\n",
       "      <td>42.456436</td>\n",
       "      <td>131.14844</td>\n",
       "      <td>-97.77692</td>\n",
       "    </tr>\n",
       "    <tr>\n",
       "      <th>65</th>\n",
       "      <td>00159.nii.gz</td>\n",
       "      <td>Cyst</td>\n",
       "      <td>1</td>\n",
       "      <td>0.027453</td>\n",
       "      <td>0.014154</td>\n",
       "      <td>0.454694</td>\n",
       "      <td>159</td>\n",
       "      <td>222267</td>\n",
       "      <td>NaN</td>\n",
       "      <td>78706.0</td>\n",
       "      <td>41</td>\n",
       "      <td>0</td>\n",
       "      <td>41</td>\n",
       "      <td>27.597880</td>\n",
       "      <td>58.103993</td>\n",
       "      <td>266</td>\n",
       "      <td>-993</td>\n",
       "      <td>NaN</td>\n",
       "      <td>NaN</td>\n",
       "      <td>NaN</td>\n",
       "      <td>NaN</td>\n",
       "      <td>32.077008</td>\n",
       "      <td>52.413864</td>\n",
       "      <td>203.0</td>\n",
       "      <td>-116.0</td>\n",
       "      <td>32.055405</td>\n",
       "      <td>50.166603</td>\n",
       "      <td>232.57434</td>\n",
       "      <td>-985.21310</td>\n",
       "      <td>NaN</td>\n",
       "      <td>NaN</td>\n",
       "      <td>NaN</td>\n",
       "      <td>NaN</td>\n",
       "      <td>33.943863</td>\n",
       "      <td>42.456436</td>\n",
       "      <td>131.14844</td>\n",
       "      <td>-97.77692</td>\n",
       "    </tr>\n",
       "  </tbody>\n",
       "</table>\n",
       "<p>66 rows × 37 columns</p>\n",
       "</div>"
      ],
      "text/plain": [
       "        filename label_name  existence      dice    recall  precision  cid  \\\n",
       "0   00115.nii.gz     kidney          1  0.832177  0.768084   0.907940  115   \n",
       "1   00115.nii.gz      CCRCC          1  0.900275  0.975760   0.835631  115   \n",
       "2   00115.nii.gz       Cyst          0  0.000000  0.000000   0.000000  115   \n",
       "3   00119.nii.gz     kidney          1  0.924768  0.936980   0.912871  119   \n",
       "4   00119.nii.gz      CCRCC          1  0.783225  0.731036   0.843440  119   \n",
       "..           ...        ...        ...       ...       ...        ...  ...   \n",
       "61  00157.nii.gz      CCRCC          1  0.623109  0.854944   0.490186  157   \n",
       "62  00157.nii.gz       Cyst          1  0.781895  0.756956   0.808533  157   \n",
       "63  00159.nii.gz     kidney          1  0.092330  0.049975   0.605452  159   \n",
       "64  00159.nii.gz      CCRCC          0  0.000000  0.000000   0.000000  159   \n",
       "65  00159.nii.gz       Cyst          1  0.027453  0.014154   0.454694  159   \n",
       "\n",
       "      count  count_CCR  count_cys  shape_kid  shape_CCR  shape_cys  \\\n",
       "0   1082267   656521.0        NaN         74         67          0   \n",
       "1   1082267   656521.0        NaN         74         67          0   \n",
       "2   1082267   656521.0        NaN         74         67          0   \n",
       "3    417529    96392.0        NaN         52         27          0   \n",
       "4    417529    96392.0        NaN         52         27          0   \n",
       "..      ...        ...        ...        ...        ...        ...   \n",
       "61   947520    10720.0   141995.0        128         23         92   \n",
       "62   947520    10720.0   141995.0        128         23         92   \n",
       "63   222267        NaN    78706.0         41          0         41   \n",
       "64   222267        NaN    78706.0         41          0         41   \n",
       "65   222267        NaN    78706.0         41          0         41   \n",
       "\n",
       "     lumi_mean   lumi_std  lumi_max  lumi_min  lumi_mean_SE2_CCR  \\\n",
       "0   123.579678  76.637332       437      -712         102.686414   \n",
       "1   123.579678  76.637332       437      -712         102.686414   \n",
       "2   123.579678  76.637332       437      -712         102.686414   \n",
       "3   102.187321  69.592302       286      -185          71.821832   \n",
       "4   102.187321  69.592302       286      -185          71.821832   \n",
       "..         ...        ...       ...       ...                ...   \n",
       "61  133.893274  98.163740       459      -299         150.477892   \n",
       "62  133.893274  98.163740       459      -299         150.477892   \n",
       "63   27.597880  58.103993       266      -993                NaN   \n",
       "64   27.597880  58.103993       266      -993                NaN   \n",
       "65   27.597880  58.103993       266      -993                NaN   \n",
       "\n",
       "    lumi_std_SE2_CCR  lumi_max_SE2_CCR  lumi_min_SE2_CCR  lumi_mean_SE2_cys  \\\n",
       "0          62.743805             447.0             -98.0                NaN   \n",
       "1          62.743805             447.0             -98.0                NaN   \n",
       "2          62.743805             447.0             -98.0                NaN   \n",
       "3          39.800081             250.0            -132.0                NaN   \n",
       "4          39.800081             250.0            -132.0                NaN   \n",
       "..               ...               ...               ...                ...   \n",
       "61         40.490853             272.0             -58.0          14.325547   \n",
       "62         40.490853             272.0             -58.0          14.325547   \n",
       "63               NaN               NaN               NaN          32.077008   \n",
       "64               NaN               NaN               NaN          32.077008   \n",
       "65               NaN               NaN               NaN          32.077008   \n",
       "\n",
       "    lumi_std_SE2_cys  lumi_max_SE2_cys  lumi_min_SE2_cys  lumi_mean_SE3_kid  \\\n",
       "0                NaN               NaN               NaN         114.684204   \n",
       "1                NaN               NaN               NaN         114.684204   \n",
       "2                NaN               NaN               NaN         114.684204   \n",
       "3                NaN               NaN               NaN          93.891075   \n",
       "4                NaN               NaN               NaN          93.891075   \n",
       "..               ...               ...               ...                ...   \n",
       "61         53.894052             340.0            -324.0         139.993970   \n",
       "62         53.894052             340.0            -324.0         139.993970   \n",
       "63         52.413864             203.0            -116.0          32.055405   \n",
       "64         52.413864             203.0            -116.0          32.055405   \n",
       "65         52.413864             203.0            -116.0          32.055405   \n",
       "\n",
       "    lumi_std_SE3_kid  lumi_max_SE3_kid  lumi_min_SE3_kid  lumi_mean_SE3_CCR  \\\n",
       "0          57.570915         380.93555        -612.71970          94.753426   \n",
       "1          57.570915         380.93555        -612.71970          94.753426   \n",
       "2          57.570915         380.93555        -612.71970          94.753426   \n",
       "3          54.144110         228.12500        -128.96759          62.959137   \n",
       "4          54.144110         228.12500        -128.96759          62.959137   \n",
       "..               ...               ...               ...                ...   \n",
       "61         89.565780         379.50720        -251.71307         108.617676   \n",
       "62         89.565780         379.50720        -251.71307         108.617676   \n",
       "63         50.166603         232.57434        -985.21310                NaN   \n",
       "64         50.166603         232.57434        -985.21310                NaN   \n",
       "65         50.166603         232.57434        -985.21310                NaN   \n",
       "\n",
       "    lumi_std_SE3_CCR  lumi_max_SE3_CCR  lumi_min_SE3_CCR  lumi_mean_SE3_cys  \\\n",
       "0          45.247917         389.06190         -83.44916                NaN   \n",
       "1          45.247917         389.06190         -83.44916                NaN   \n",
       "2          45.247917         389.06190         -83.44916                NaN   \n",
       "3          26.915474         163.13013        -108.40259                NaN   \n",
       "4          26.915474         163.13013        -108.40259                NaN   \n",
       "..               ...               ...               ...                ...   \n",
       "61         32.970383         250.22400         -38.96118          18.139643   \n",
       "62         32.970383         250.22400         -38.96118          18.139643   \n",
       "63               NaN               NaN               NaN          33.943863   \n",
       "64               NaN               NaN               NaN          33.943863   \n",
       "65               NaN               NaN               NaN          33.943863   \n",
       "\n",
       "    lumi_std_SE3_cys  lumi_max_SE3_cys  lumi_min_SE3_cys  \n",
       "0                NaN               NaN               NaN  \n",
       "1                NaN               NaN               NaN  \n",
       "2                NaN               NaN               NaN  \n",
       "3                NaN               NaN               NaN  \n",
       "4                NaN               NaN               NaN  \n",
       "..               ...               ...               ...  \n",
       "61         56.194897         279.33300        -274.71454  \n",
       "62         56.194897         279.33300        -274.71454  \n",
       "63         42.456436         131.14844         -97.77692  \n",
       "64         42.456436         131.14844         -97.77692  \n",
       "65         42.456436         131.14844         -97.77692  \n",
       "\n",
       "[66 rows x 37 columns]"
      ]
     },
     "execution_count": 184,
     "metadata": {},
     "output_type": "execute_result"
    }
   ],
   "source": [
    "df2"
   ]
  },
  {
   "cell_type": "code",
   "execution_count": null,
   "metadata": {},
   "outputs": [],
   "source": []
  },
  {
   "cell_type": "code",
   "execution_count": 189,
   "metadata": {},
   "outputs": [],
   "source": [
    "ccr_cols=[col for col in df2.columns if  'CCR' in col]\n",
    "cys_cols=[col for col in df2.columns if  'cys' in col]\n",
    "important_cols=['cid','dice','recall','precision','count','lumi_mean']\n",
    "\n",
    "\n",
    "ccr_df=df2.query('existence==1 & label_name==\"CCRCC\"')[important_cols+ccr_cols]\n",
    "ccr_df.head()\n",
    "cys_df=df2.query('existence==1 & label_name==\"Cyst\"')[important_cols+cys_cols]"
   ]
  },
  {
   "cell_type": "code",
   "execution_count": 190,
   "metadata": {},
   "outputs": [],
   "source": [
    "ccr_df['log_kid']=np.log10(ccr_df['count']+1)\n",
    "ccr_df['log_ccr']=np.log10(ccr_df['count_CCR']+1)\n",
    "ccr_df['round_dice']=np.round(ccr_df['dice'],3)\n",
    "cys_df['log_kid']=np.log10(cys_df['count']+1)\n",
    "cys_df['log_cys']=np.log10(cys_df['count_cys']+1)\n",
    "cys_df['round_dice']=np.round(cys_df['dice'],3)"
   ]
  },
  {
   "cell_type": "code",
   "execution_count": 198,
   "metadata": {},
   "outputs": [
    {
     "data": {
      "text/html": [
       "<div>\n",
       "<style scoped>\n",
       "    .dataframe tbody tr th:only-of-type {\n",
       "        vertical-align: middle;\n",
       "    }\n",
       "\n",
       "    .dataframe tbody tr th {\n",
       "        vertical-align: top;\n",
       "    }\n",
       "\n",
       "    .dataframe thead th {\n",
       "        text-align: right;\n",
       "    }\n",
       "</style>\n",
       "<table border=\"1\" class=\"dataframe\">\n",
       "  <thead>\n",
       "    <tr style=\"text-align: right;\">\n",
       "      <th></th>\n",
       "      <th>cid</th>\n",
       "      <th>dice</th>\n",
       "      <th>recall</th>\n",
       "      <th>precision</th>\n",
       "      <th>count</th>\n",
       "      <th>lumi_mean</th>\n",
       "      <th>count_CCR</th>\n",
       "      <th>shape_CCR</th>\n",
       "      <th>lumi_mean_SE2_CCR</th>\n",
       "      <th>lumi_std_SE2_CCR</th>\n",
       "      <th>lumi_max_SE2_CCR</th>\n",
       "      <th>lumi_min_SE2_CCR</th>\n",
       "      <th>lumi_mean_SE3_CCR</th>\n",
       "      <th>lumi_std_SE3_CCR</th>\n",
       "      <th>lumi_max_SE3_CCR</th>\n",
       "      <th>lumi_min_SE3_CCR</th>\n",
       "      <th>log_kid</th>\n",
       "      <th>log_ccr</th>\n",
       "      <th>round_dice</th>\n",
       "    </tr>\n",
       "  </thead>\n",
       "  <tbody>\n",
       "    <tr>\n",
       "      <th>1</th>\n",
       "      <td>115</td>\n",
       "      <td>0.900275</td>\n",
       "      <td>0.975760</td>\n",
       "      <td>0.835631</td>\n",
       "      <td>1082267</td>\n",
       "      <td>123.579678</td>\n",
       "      <td>656521.0</td>\n",
       "      <td>67</td>\n",
       "      <td>102.686414</td>\n",
       "      <td>62.743805</td>\n",
       "      <td>447.0</td>\n",
       "      <td>-98.0</td>\n",
       "      <td>94.753426</td>\n",
       "      <td>45.247917</td>\n",
       "      <td>389.06190</td>\n",
       "      <td>-83.449160</td>\n",
       "      <td>6.034335</td>\n",
       "      <td>5.817249</td>\n",
       "      <td>0.900</td>\n",
       "    </tr>\n",
       "    <tr>\n",
       "      <th>4</th>\n",
       "      <td>119</td>\n",
       "      <td>0.783225</td>\n",
       "      <td>0.731036</td>\n",
       "      <td>0.843440</td>\n",
       "      <td>417529</td>\n",
       "      <td>102.187321</td>\n",
       "      <td>96392.0</td>\n",
       "      <td>27</td>\n",
       "      <td>71.821832</td>\n",
       "      <td>39.800081</td>\n",
       "      <td>250.0</td>\n",
       "      <td>-132.0</td>\n",
       "      <td>62.959137</td>\n",
       "      <td>26.915474</td>\n",
       "      <td>163.13013</td>\n",
       "      <td>-108.402590</td>\n",
       "      <td>5.620688</td>\n",
       "      <td>4.984045</td>\n",
       "      <td>0.783</td>\n",
       "    </tr>\n",
       "    <tr>\n",
       "      <th>7</th>\n",
       "      <td>121</td>\n",
       "      <td>0.862743</td>\n",
       "      <td>0.819587</td>\n",
       "      <td>0.910697</td>\n",
       "      <td>590766</td>\n",
       "      <td>117.015414</td>\n",
       "      <td>159229.0</td>\n",
       "      <td>46</td>\n",
       "      <td>117.328439</td>\n",
       "      <td>52.001724</td>\n",
       "      <td>272.0</td>\n",
       "      <td>-89.0</td>\n",
       "      <td>110.954610</td>\n",
       "      <td>36.069893</td>\n",
       "      <td>204.49329</td>\n",
       "      <td>-72.334960</td>\n",
       "      <td>5.771416</td>\n",
       "      <td>5.202025</td>\n",
       "      <td>0.863</td>\n",
       "    </tr>\n",
       "    <tr>\n",
       "      <th>10</th>\n",
       "      <td>124</td>\n",
       "      <td>0.000000</td>\n",
       "      <td>0.000000</td>\n",
       "      <td>0.000000</td>\n",
       "      <td>257499</td>\n",
       "      <td>158.450363</td>\n",
       "      <td>699.0</td>\n",
       "      <td>4</td>\n",
       "      <td>131.470672</td>\n",
       "      <td>47.507189</td>\n",
       "      <td>272.0</td>\n",
       "      <td>-37.0</td>\n",
       "      <td>142.319460</td>\n",
       "      <td>45.704456</td>\n",
       "      <td>230.89404</td>\n",
       "      <td>-28.162842</td>\n",
       "      <td>5.410777</td>\n",
       "      <td>2.845098</td>\n",
       "      <td>0.000</td>\n",
       "    </tr>\n",
       "    <tr>\n",
       "      <th>13</th>\n",
       "      <td>126</td>\n",
       "      <td>0.686697</td>\n",
       "      <td>0.547372</td>\n",
       "      <td>0.921166</td>\n",
       "      <td>581488</td>\n",
       "      <td>129.052146</td>\n",
       "      <td>6639.0</td>\n",
       "      <td>12</td>\n",
       "      <td>41.610634</td>\n",
       "      <td>52.802280</td>\n",
       "      <td>246.0</td>\n",
       "      <td>-117.0</td>\n",
       "      <td>50.748394</td>\n",
       "      <td>50.034130</td>\n",
       "      <td>200.86682</td>\n",
       "      <td>-114.393070</td>\n",
       "      <td>5.764542</td>\n",
       "      <td>3.822168</td>\n",
       "      <td>0.687</td>\n",
       "    </tr>\n",
       "    <tr>\n",
       "      <th>16</th>\n",
       "      <td>127</td>\n",
       "      <td>0.000000</td>\n",
       "      <td>0.000000</td>\n",
       "      <td>0.000000</td>\n",
       "      <td>341765</td>\n",
       "      <td>114.909110</td>\n",
       "      <td>637.0</td>\n",
       "      <td>5</td>\n",
       "      <td>128.767661</td>\n",
       "      <td>33.938295</td>\n",
       "      <td>210.0</td>\n",
       "      <td>40.0</td>\n",
       "      <td>161.019650</td>\n",
       "      <td>11.982380</td>\n",
       "      <td>190.63037</td>\n",
       "      <td>102.321170</td>\n",
       "      <td>5.533729</td>\n",
       "      <td>2.804821</td>\n",
       "      <td>0.000</td>\n",
       "    </tr>\n",
       "    <tr>\n",
       "      <th>19</th>\n",
       "      <td>134</td>\n",
       "      <td>0.911655</td>\n",
       "      <td>0.927981</td>\n",
       "      <td>0.895892</td>\n",
       "      <td>441912</td>\n",
       "      <td>146.642447</td>\n",
       "      <td>46960.0</td>\n",
       "      <td>22</td>\n",
       "      <td>159.951980</td>\n",
       "      <td>76.464656</td>\n",
       "      <td>353.0</td>\n",
       "      <td>-118.0</td>\n",
       "      <td>100.348130</td>\n",
       "      <td>37.983050</td>\n",
       "      <td>210.72119</td>\n",
       "      <td>-101.938290</td>\n",
       "      <td>5.645337</td>\n",
       "      <td>4.671737</td>\n",
       "      <td>0.912</td>\n",
       "    </tr>\n",
       "    <tr>\n",
       "      <th>22</th>\n",
       "      <td>135</td>\n",
       "      <td>0.869787</td>\n",
       "      <td>0.907640</td>\n",
       "      <td>0.834965</td>\n",
       "      <td>353302</td>\n",
       "      <td>138.689495</td>\n",
       "      <td>5262.0</td>\n",
       "      <td>11</td>\n",
       "      <td>156.980426</td>\n",
       "      <td>49.590656</td>\n",
       "      <td>276.0</td>\n",
       "      <td>-84.0</td>\n",
       "      <td>126.728050</td>\n",
       "      <td>32.834297</td>\n",
       "      <td>207.83948</td>\n",
       "      <td>-62.349915</td>\n",
       "      <td>5.548147</td>\n",
       "      <td>3.721233</td>\n",
       "      <td>0.870</td>\n",
       "    </tr>\n",
       "    <tr>\n",
       "      <th>25</th>\n",
       "      <td>136</td>\n",
       "      <td>0.929431</td>\n",
       "      <td>0.940949</td>\n",
       "      <td>0.918191</td>\n",
       "      <td>1855627</td>\n",
       "      <td>66.740063</td>\n",
       "      <td>1410687.0</td>\n",
       "      <td>92</td>\n",
       "      <td>60.634713</td>\n",
       "      <td>41.436145</td>\n",
       "      <td>309.0</td>\n",
       "      <td>-92.0</td>\n",
       "      <td>61.335835</td>\n",
       "      <td>32.735596</td>\n",
       "      <td>273.50305</td>\n",
       "      <td>-165.188540</td>\n",
       "      <td>6.268491</td>\n",
       "      <td>6.149431</td>\n",
       "      <td>0.929</td>\n",
       "    </tr>\n",
       "    <tr>\n",
       "      <th>28</th>\n",
       "      <td>138</td>\n",
       "      <td>0.905337</td>\n",
       "      <td>0.967656</td>\n",
       "      <td>0.850560</td>\n",
       "      <td>315781</td>\n",
       "      <td>130.388573</td>\n",
       "      <td>114739.0</td>\n",
       "      <td>25</td>\n",
       "      <td>126.739470</td>\n",
       "      <td>62.404691</td>\n",
       "      <td>292.0</td>\n",
       "      <td>-80.0</td>\n",
       "      <td>96.601930</td>\n",
       "      <td>33.434280</td>\n",
       "      <td>189.39587</td>\n",
       "      <td>-94.613400</td>\n",
       "      <td>5.499387</td>\n",
       "      <td>5.059715</td>\n",
       "      <td>0.905</td>\n",
       "    </tr>\n",
       "    <tr>\n",
       "      <th>31</th>\n",
       "      <td>140</td>\n",
       "      <td>0.247902</td>\n",
       "      <td>0.142495</td>\n",
       "      <td>0.952443</td>\n",
       "      <td>609010</td>\n",
       "      <td>144.732817</td>\n",
       "      <td>10260.0</td>\n",
       "      <td>11</td>\n",
       "      <td>43.143665</td>\n",
       "      <td>45.586708</td>\n",
       "      <td>217.0</td>\n",
       "      <td>-127.0</td>\n",
       "      <td>40.055930</td>\n",
       "      <td>57.200410</td>\n",
       "      <td>210.13867</td>\n",
       "      <td>-148.239930</td>\n",
       "      <td>5.784625</td>\n",
       "      <td>4.011190</td>\n",
       "      <td>0.248</td>\n",
       "    </tr>\n",
       "    <tr>\n",
       "      <th>34</th>\n",
       "      <td>142</td>\n",
       "      <td>0.654568</td>\n",
       "      <td>0.502667</td>\n",
       "      <td>0.938033</td>\n",
       "      <td>393284</td>\n",
       "      <td>160.972315</td>\n",
       "      <td>34120.0</td>\n",
       "      <td>21</td>\n",
       "      <td>100.479807</td>\n",
       "      <td>64.763994</td>\n",
       "      <td>305.0</td>\n",
       "      <td>-102.0</td>\n",
       "      <td>101.624980</td>\n",
       "      <td>38.781834</td>\n",
       "      <td>198.12524</td>\n",
       "      <td>-100.213684</td>\n",
       "      <td>5.594707</td>\n",
       "      <td>4.533022</td>\n",
       "      <td>0.655</td>\n",
       "    </tr>\n",
       "    <tr>\n",
       "      <th>37</th>\n",
       "      <td>145</td>\n",
       "      <td>0.935411</td>\n",
       "      <td>0.931540</td>\n",
       "      <td>0.939315</td>\n",
       "      <td>563086</td>\n",
       "      <td>130.988762</td>\n",
       "      <td>304704.0</td>\n",
       "      <td>52</td>\n",
       "      <td>134.757683</td>\n",
       "      <td>66.493851</td>\n",
       "      <td>667.0</td>\n",
       "      <td>-112.0</td>\n",
       "      <td>91.234930</td>\n",
       "      <td>34.088585</td>\n",
       "      <td>629.04580</td>\n",
       "      <td>-103.224000</td>\n",
       "      <td>5.750576</td>\n",
       "      <td>5.483880</td>\n",
       "      <td>0.935</td>\n",
       "    </tr>\n",
       "    <tr>\n",
       "      <th>40</th>\n",
       "      <td>146</td>\n",
       "      <td>0.008526</td>\n",
       "      <td>0.004281</td>\n",
       "      <td>1.000000</td>\n",
       "      <td>609813</td>\n",
       "      <td>84.894640</td>\n",
       "      <td>16116.0</td>\n",
       "      <td>23</td>\n",
       "      <td>123.613986</td>\n",
       "      <td>32.680218</td>\n",
       "      <td>205.0</td>\n",
       "      <td>-73.0</td>\n",
       "      <td>107.065445</td>\n",
       "      <td>19.194344</td>\n",
       "      <td>188.40723</td>\n",
       "      <td>-34.049988</td>\n",
       "      <td>5.785197</td>\n",
       "      <td>4.207284</td>\n",
       "      <td>0.009</td>\n",
       "    </tr>\n",
       "    <tr>\n",
       "      <th>43</th>\n",
       "      <td>147</td>\n",
       "      <td>0.862499</td>\n",
       "      <td>0.783297</td>\n",
       "      <td>0.959521</td>\n",
       "      <td>316556</td>\n",
       "      <td>135.747451</td>\n",
       "      <td>53594.0</td>\n",
       "      <td>29</td>\n",
       "      <td>141.868810</td>\n",
       "      <td>53.170985</td>\n",
       "      <td>359.0</td>\n",
       "      <td>-81.0</td>\n",
       "      <td>98.427635</td>\n",
       "      <td>27.177260</td>\n",
       "      <td>322.30493</td>\n",
       "      <td>-66.748050</td>\n",
       "      <td>5.500452</td>\n",
       "      <td>4.729124</td>\n",
       "      <td>0.862</td>\n",
       "    </tr>\n",
       "    <tr>\n",
       "      <th>46</th>\n",
       "      <td>149</td>\n",
       "      <td>0.829539</td>\n",
       "      <td>0.913209</td>\n",
       "      <td>0.759914</td>\n",
       "      <td>379434</td>\n",
       "      <td>139.022589</td>\n",
       "      <td>8918.0</td>\n",
       "      <td>13</td>\n",
       "      <td>111.872281</td>\n",
       "      <td>39.544266</td>\n",
       "      <td>212.0</td>\n",
       "      <td>-42.0</td>\n",
       "      <td>101.891810</td>\n",
       "      <td>30.688293</td>\n",
       "      <td>219.18896</td>\n",
       "      <td>-59.098755</td>\n",
       "      <td>5.579137</td>\n",
       "      <td>3.950316</td>\n",
       "      <td>0.830</td>\n",
       "    </tr>\n",
       "    <tr>\n",
       "      <th>49</th>\n",
       "      <td>150</td>\n",
       "      <td>0.018283</td>\n",
       "      <td>0.009239</td>\n",
       "      <td>0.867925</td>\n",
       "      <td>690376</td>\n",
       "      <td>148.489942</td>\n",
       "      <td>4979.0</td>\n",
       "      <td>11</td>\n",
       "      <td>151.689094</td>\n",
       "      <td>57.906114</td>\n",
       "      <td>319.0</td>\n",
       "      <td>-44.0</td>\n",
       "      <td>149.768700</td>\n",
       "      <td>33.714024</td>\n",
       "      <td>237.57349</td>\n",
       "      <td>-16.989930</td>\n",
       "      <td>5.839086</td>\n",
       "      <td>3.697229</td>\n",
       "      <td>0.018</td>\n",
       "    </tr>\n",
       "    <tr>\n",
       "      <th>52</th>\n",
       "      <td>151</td>\n",
       "      <td>0.527242</td>\n",
       "      <td>0.421104</td>\n",
       "      <td>0.704914</td>\n",
       "      <td>431353</td>\n",
       "      <td>80.827438</td>\n",
       "      <td>35706.0</td>\n",
       "      <td>21</td>\n",
       "      <td>19.905898</td>\n",
       "      <td>26.829183</td>\n",
       "      <td>208.0</td>\n",
       "      <td>-106.0</td>\n",
       "      <td>20.000456</td>\n",
       "      <td>27.860245</td>\n",
       "      <td>137.77844</td>\n",
       "      <td>-78.193726</td>\n",
       "      <td>5.634834</td>\n",
       "      <td>4.552753</td>\n",
       "      <td>0.527</td>\n",
       "    </tr>\n",
       "    <tr>\n",
       "      <th>55</th>\n",
       "      <td>152</td>\n",
       "      <td>0.586586</td>\n",
       "      <td>0.421930</td>\n",
       "      <td>0.962003</td>\n",
       "      <td>350154</td>\n",
       "      <td>67.653078</td>\n",
       "      <td>128052.0</td>\n",
       "      <td>29</td>\n",
       "      <td>87.117265</td>\n",
       "      <td>44.450157</td>\n",
       "      <td>267.0</td>\n",
       "      <td>-78.0</td>\n",
       "      <td>97.273315</td>\n",
       "      <td>32.506680</td>\n",
       "      <td>186.99341</td>\n",
       "      <td>-64.113710</td>\n",
       "      <td>5.544260</td>\n",
       "      <td>5.107390</td>\n",
       "      <td>0.587</td>\n",
       "    </tr>\n",
       "    <tr>\n",
       "      <th>58</th>\n",
       "      <td>154</td>\n",
       "      <td>0.155695</td>\n",
       "      <td>0.084563</td>\n",
       "      <td>0.980263</td>\n",
       "      <td>245366</td>\n",
       "      <td>147.857389</td>\n",
       "      <td>1762.0</td>\n",
       "      <td>9</td>\n",
       "      <td>141.860953</td>\n",
       "      <td>88.839488</td>\n",
       "      <td>323.0</td>\n",
       "      <td>-99.0</td>\n",
       "      <td>98.444220</td>\n",
       "      <td>56.279835</td>\n",
       "      <td>198.21277</td>\n",
       "      <td>-90.774600</td>\n",
       "      <td>5.389816</td>\n",
       "      <td>3.246252</td>\n",
       "      <td>0.156</td>\n",
       "    </tr>\n",
       "    <tr>\n",
       "      <th>61</th>\n",
       "      <td>157</td>\n",
       "      <td>0.623109</td>\n",
       "      <td>0.854944</td>\n",
       "      <td>0.490186</td>\n",
       "      <td>947520</td>\n",
       "      <td>133.893274</td>\n",
       "      <td>10720.0</td>\n",
       "      <td>23</td>\n",
       "      <td>150.477892</td>\n",
       "      <td>40.490853</td>\n",
       "      <td>272.0</td>\n",
       "      <td>-58.0</td>\n",
       "      <td>108.617676</td>\n",
       "      <td>32.970383</td>\n",
       "      <td>250.22400</td>\n",
       "      <td>-38.961180</td>\n",
       "      <td>5.976589</td>\n",
       "      <td>4.030235</td>\n",
       "      <td>0.623</td>\n",
       "    </tr>\n",
       "  </tbody>\n",
       "</table>\n",
       "</div>"
      ],
      "text/plain": [
       "    cid      dice    recall  precision    count   lumi_mean  count_CCR  \\\n",
       "1   115  0.900275  0.975760   0.835631  1082267  123.579678   656521.0   \n",
       "4   119  0.783225  0.731036   0.843440   417529  102.187321    96392.0   \n",
       "7   121  0.862743  0.819587   0.910697   590766  117.015414   159229.0   \n",
       "10  124  0.000000  0.000000   0.000000   257499  158.450363      699.0   \n",
       "13  126  0.686697  0.547372   0.921166   581488  129.052146     6639.0   \n",
       "16  127  0.000000  0.000000   0.000000   341765  114.909110      637.0   \n",
       "19  134  0.911655  0.927981   0.895892   441912  146.642447    46960.0   \n",
       "22  135  0.869787  0.907640   0.834965   353302  138.689495     5262.0   \n",
       "25  136  0.929431  0.940949   0.918191  1855627   66.740063  1410687.0   \n",
       "28  138  0.905337  0.967656   0.850560   315781  130.388573   114739.0   \n",
       "31  140  0.247902  0.142495   0.952443   609010  144.732817    10260.0   \n",
       "34  142  0.654568  0.502667   0.938033   393284  160.972315    34120.0   \n",
       "37  145  0.935411  0.931540   0.939315   563086  130.988762   304704.0   \n",
       "40  146  0.008526  0.004281   1.000000   609813   84.894640    16116.0   \n",
       "43  147  0.862499  0.783297   0.959521   316556  135.747451    53594.0   \n",
       "46  149  0.829539  0.913209   0.759914   379434  139.022589     8918.0   \n",
       "49  150  0.018283  0.009239   0.867925   690376  148.489942     4979.0   \n",
       "52  151  0.527242  0.421104   0.704914   431353   80.827438    35706.0   \n",
       "55  152  0.586586  0.421930   0.962003   350154   67.653078   128052.0   \n",
       "58  154  0.155695  0.084563   0.980263   245366  147.857389     1762.0   \n",
       "61  157  0.623109  0.854944   0.490186   947520  133.893274    10720.0   \n",
       "\n",
       "    shape_CCR  lumi_mean_SE2_CCR  lumi_std_SE2_CCR  lumi_max_SE2_CCR  \\\n",
       "1          67         102.686414         62.743805             447.0   \n",
       "4          27          71.821832         39.800081             250.0   \n",
       "7          46         117.328439         52.001724             272.0   \n",
       "10          4         131.470672         47.507189             272.0   \n",
       "13         12          41.610634         52.802280             246.0   \n",
       "16          5         128.767661         33.938295             210.0   \n",
       "19         22         159.951980         76.464656             353.0   \n",
       "22         11         156.980426         49.590656             276.0   \n",
       "25         92          60.634713         41.436145             309.0   \n",
       "28         25         126.739470         62.404691             292.0   \n",
       "31         11          43.143665         45.586708             217.0   \n",
       "34         21         100.479807         64.763994             305.0   \n",
       "37         52         134.757683         66.493851             667.0   \n",
       "40         23         123.613986         32.680218             205.0   \n",
       "43         29         141.868810         53.170985             359.0   \n",
       "46         13         111.872281         39.544266             212.0   \n",
       "49         11         151.689094         57.906114             319.0   \n",
       "52         21          19.905898         26.829183             208.0   \n",
       "55         29          87.117265         44.450157             267.0   \n",
       "58          9         141.860953         88.839488             323.0   \n",
       "61         23         150.477892         40.490853             272.0   \n",
       "\n",
       "    lumi_min_SE2_CCR  lumi_mean_SE3_CCR  lumi_std_SE3_CCR  lumi_max_SE3_CCR  \\\n",
       "1              -98.0          94.753426         45.247917         389.06190   \n",
       "4             -132.0          62.959137         26.915474         163.13013   \n",
       "7              -89.0         110.954610         36.069893         204.49329   \n",
       "10             -37.0         142.319460         45.704456         230.89404   \n",
       "13            -117.0          50.748394         50.034130         200.86682   \n",
       "16              40.0         161.019650         11.982380         190.63037   \n",
       "19            -118.0         100.348130         37.983050         210.72119   \n",
       "22             -84.0         126.728050         32.834297         207.83948   \n",
       "25             -92.0          61.335835         32.735596         273.50305   \n",
       "28             -80.0          96.601930         33.434280         189.39587   \n",
       "31            -127.0          40.055930         57.200410         210.13867   \n",
       "34            -102.0         101.624980         38.781834         198.12524   \n",
       "37            -112.0          91.234930         34.088585         629.04580   \n",
       "40             -73.0         107.065445         19.194344         188.40723   \n",
       "43             -81.0          98.427635         27.177260         322.30493   \n",
       "46             -42.0         101.891810         30.688293         219.18896   \n",
       "49             -44.0         149.768700         33.714024         237.57349   \n",
       "52            -106.0          20.000456         27.860245         137.77844   \n",
       "55             -78.0          97.273315         32.506680         186.99341   \n",
       "58             -99.0          98.444220         56.279835         198.21277   \n",
       "61             -58.0         108.617676         32.970383         250.22400   \n",
       "\n",
       "    lumi_min_SE3_CCR   log_kid   log_ccr  round_dice  \n",
       "1         -83.449160  6.034335  5.817249       0.900  \n",
       "4        -108.402590  5.620688  4.984045       0.783  \n",
       "7         -72.334960  5.771416  5.202025       0.863  \n",
       "10        -28.162842  5.410777  2.845098       0.000  \n",
       "13       -114.393070  5.764542  3.822168       0.687  \n",
       "16        102.321170  5.533729  2.804821       0.000  \n",
       "19       -101.938290  5.645337  4.671737       0.912  \n",
       "22        -62.349915  5.548147  3.721233       0.870  \n",
       "25       -165.188540  6.268491  6.149431       0.929  \n",
       "28        -94.613400  5.499387  5.059715       0.905  \n",
       "31       -148.239930  5.784625  4.011190       0.248  \n",
       "34       -100.213684  5.594707  4.533022       0.655  \n",
       "37       -103.224000  5.750576  5.483880       0.935  \n",
       "40        -34.049988  5.785197  4.207284       0.009  \n",
       "43        -66.748050  5.500452  4.729124       0.862  \n",
       "46        -59.098755  5.579137  3.950316       0.830  \n",
       "49        -16.989930  5.839086  3.697229       0.018  \n",
       "52        -78.193726  5.634834  4.552753       0.527  \n",
       "55        -64.113710  5.544260  5.107390       0.587  \n",
       "58        -90.774600  5.389816  3.246252       0.156  \n",
       "61        -38.961180  5.976589  4.030235       0.623  "
      ]
     },
     "execution_count": 198,
     "metadata": {},
     "output_type": "execute_result"
    }
   ],
   "source": [
    "ccr_df"
   ]
  },
  {
   "cell_type": "code",
   "execution_count": 201,
   "metadata": {},
   "outputs": [
    {
     "data": {
      "text/html": [
       "<div>\n",
       "<style scoped>\n",
       "    .dataframe tbody tr th:only-of-type {\n",
       "        vertical-align: middle;\n",
       "    }\n",
       "\n",
       "    .dataframe tbody tr th {\n",
       "        vertical-align: top;\n",
       "    }\n",
       "\n",
       "    .dataframe thead th {\n",
       "        text-align: right;\n",
       "    }\n",
       "</style>\n",
       "<table border=\"1\" class=\"dataframe\">\n",
       "  <thead>\n",
       "    <tr style=\"text-align: right;\">\n",
       "      <th></th>\n",
       "      <th>cid</th>\n",
       "      <th>dice</th>\n",
       "      <th>count_CCR</th>\n",
       "      <th>lumi_std_SE2_CCR</th>\n",
       "      <th>lumi_std_SE3_CCR</th>\n",
       "    </tr>\n",
       "  </thead>\n",
       "  <tbody>\n",
       "    <tr>\n",
       "      <th>58</th>\n",
       "      <td>154</td>\n",
       "      <td>0.155695</td>\n",
       "      <td>1762.0</td>\n",
       "      <td>88.839488</td>\n",
       "      <td>56.279835</td>\n",
       "    </tr>\n",
       "    <tr>\n",
       "      <th>19</th>\n",
       "      <td>134</td>\n",
       "      <td>0.911655</td>\n",
       "      <td>46960.0</td>\n",
       "      <td>76.464656</td>\n",
       "      <td>37.983050</td>\n",
       "    </tr>\n",
       "    <tr>\n",
       "      <th>37</th>\n",
       "      <td>145</td>\n",
       "      <td>0.935411</td>\n",
       "      <td>304704.0</td>\n",
       "      <td>66.493851</td>\n",
       "      <td>34.088585</td>\n",
       "    </tr>\n",
       "    <tr>\n",
       "      <th>34</th>\n",
       "      <td>142</td>\n",
       "      <td>0.654568</td>\n",
       "      <td>34120.0</td>\n",
       "      <td>64.763994</td>\n",
       "      <td>38.781834</td>\n",
       "    </tr>\n",
       "    <tr>\n",
       "      <th>1</th>\n",
       "      <td>115</td>\n",
       "      <td>0.900275</td>\n",
       "      <td>656521.0</td>\n",
       "      <td>62.743805</td>\n",
       "      <td>45.247917</td>\n",
       "    </tr>\n",
       "    <tr>\n",
       "      <th>28</th>\n",
       "      <td>138</td>\n",
       "      <td>0.905337</td>\n",
       "      <td>114739.0</td>\n",
       "      <td>62.404691</td>\n",
       "      <td>33.434280</td>\n",
       "    </tr>\n",
       "    <tr>\n",
       "      <th>49</th>\n",
       "      <td>150</td>\n",
       "      <td>0.018283</td>\n",
       "      <td>4979.0</td>\n",
       "      <td>57.906114</td>\n",
       "      <td>33.714024</td>\n",
       "    </tr>\n",
       "    <tr>\n",
       "      <th>43</th>\n",
       "      <td>147</td>\n",
       "      <td>0.862499</td>\n",
       "      <td>53594.0</td>\n",
       "      <td>53.170985</td>\n",
       "      <td>27.177260</td>\n",
       "    </tr>\n",
       "    <tr>\n",
       "      <th>13</th>\n",
       "      <td>126</td>\n",
       "      <td>0.686697</td>\n",
       "      <td>6639.0</td>\n",
       "      <td>52.802280</td>\n",
       "      <td>50.034130</td>\n",
       "    </tr>\n",
       "    <tr>\n",
       "      <th>7</th>\n",
       "      <td>121</td>\n",
       "      <td>0.862743</td>\n",
       "      <td>159229.0</td>\n",
       "      <td>52.001724</td>\n",
       "      <td>36.069893</td>\n",
       "    </tr>\n",
       "    <tr>\n",
       "      <th>22</th>\n",
       "      <td>135</td>\n",
       "      <td>0.869787</td>\n",
       "      <td>5262.0</td>\n",
       "      <td>49.590656</td>\n",
       "      <td>32.834297</td>\n",
       "    </tr>\n",
       "    <tr>\n",
       "      <th>10</th>\n",
       "      <td>124</td>\n",
       "      <td>0.000000</td>\n",
       "      <td>699.0</td>\n",
       "      <td>47.507189</td>\n",
       "      <td>45.704456</td>\n",
       "    </tr>\n",
       "    <tr>\n",
       "      <th>31</th>\n",
       "      <td>140</td>\n",
       "      <td>0.247902</td>\n",
       "      <td>10260.0</td>\n",
       "      <td>45.586708</td>\n",
       "      <td>57.200410</td>\n",
       "    </tr>\n",
       "    <tr>\n",
       "      <th>55</th>\n",
       "      <td>152</td>\n",
       "      <td>0.586586</td>\n",
       "      <td>128052.0</td>\n",
       "      <td>44.450157</td>\n",
       "      <td>32.506680</td>\n",
       "    </tr>\n",
       "    <tr>\n",
       "      <th>25</th>\n",
       "      <td>136</td>\n",
       "      <td>0.929431</td>\n",
       "      <td>1410687.0</td>\n",
       "      <td>41.436145</td>\n",
       "      <td>32.735596</td>\n",
       "    </tr>\n",
       "    <tr>\n",
       "      <th>61</th>\n",
       "      <td>157</td>\n",
       "      <td>0.623109</td>\n",
       "      <td>10720.0</td>\n",
       "      <td>40.490853</td>\n",
       "      <td>32.970383</td>\n",
       "    </tr>\n",
       "    <tr>\n",
       "      <th>4</th>\n",
       "      <td>119</td>\n",
       "      <td>0.783225</td>\n",
       "      <td>96392.0</td>\n",
       "      <td>39.800081</td>\n",
       "      <td>26.915474</td>\n",
       "    </tr>\n",
       "    <tr>\n",
       "      <th>46</th>\n",
       "      <td>149</td>\n",
       "      <td>0.829539</td>\n",
       "      <td>8918.0</td>\n",
       "      <td>39.544266</td>\n",
       "      <td>30.688293</td>\n",
       "    </tr>\n",
       "    <tr>\n",
       "      <th>16</th>\n",
       "      <td>127</td>\n",
       "      <td>0.000000</td>\n",
       "      <td>637.0</td>\n",
       "      <td>33.938295</td>\n",
       "      <td>11.982380</td>\n",
       "    </tr>\n",
       "    <tr>\n",
       "      <th>40</th>\n",
       "      <td>146</td>\n",
       "      <td>0.008526</td>\n",
       "      <td>16116.0</td>\n",
       "      <td>32.680218</td>\n",
       "      <td>19.194344</td>\n",
       "    </tr>\n",
       "    <tr>\n",
       "      <th>52</th>\n",
       "      <td>151</td>\n",
       "      <td>0.527242</td>\n",
       "      <td>35706.0</td>\n",
       "      <td>26.829183</td>\n",
       "      <td>27.860245</td>\n",
       "    </tr>\n",
       "  </tbody>\n",
       "</table>\n",
       "</div>"
      ],
      "text/plain": [
       "    cid      dice  count_CCR  lumi_std_SE2_CCR  lumi_std_SE3_CCR\n",
       "58  154  0.155695     1762.0         88.839488         56.279835\n",
       "19  134  0.911655    46960.0         76.464656         37.983050\n",
       "37  145  0.935411   304704.0         66.493851         34.088585\n",
       "34  142  0.654568    34120.0         64.763994         38.781834\n",
       "1   115  0.900275   656521.0         62.743805         45.247917\n",
       "28  138  0.905337   114739.0         62.404691         33.434280\n",
       "49  150  0.018283     4979.0         57.906114         33.714024\n",
       "43  147  0.862499    53594.0         53.170985         27.177260\n",
       "13  126  0.686697     6639.0         52.802280         50.034130\n",
       "7   121  0.862743   159229.0         52.001724         36.069893\n",
       "22  135  0.869787     5262.0         49.590656         32.834297\n",
       "10  124  0.000000      699.0         47.507189         45.704456\n",
       "31  140  0.247902    10260.0         45.586708         57.200410\n",
       "55  152  0.586586   128052.0         44.450157         32.506680\n",
       "25  136  0.929431  1410687.0         41.436145         32.735596\n",
       "61  157  0.623109    10720.0         40.490853         32.970383\n",
       "4   119  0.783225    96392.0         39.800081         26.915474\n",
       "46  149  0.829539     8918.0         39.544266         30.688293\n",
       "16  127  0.000000      637.0         33.938295         11.982380\n",
       "40  146  0.008526    16116.0         32.680218         19.194344\n",
       "52  151  0.527242    35706.0         26.829183         27.860245"
      ]
     },
     "execution_count": 201,
     "metadata": {},
     "output_type": "execute_result"
    }
   ],
   "source": [
    "ccr_df.sort_values('lumi_std_SE2_CCR',ascending=False)[['cid','dice','count_CCR','lumi_std_SE2_CCR','lumi_std_SE3_CCR']]"
   ]
  },
  {
   "cell_type": "code",
   "execution_count": null,
   "metadata": {},
   "outputs": [],
   "source": []
  },
  {
   "cell_type": "code",
   "execution_count": null,
   "metadata": {},
   "outputs": [],
   "source": []
  },
  {
   "cell_type": "markdown",
   "metadata": {},
   "source": [
    "## Plot"
   ]
  },
  {
   "cell_type": "markdown",
   "metadata": {},
   "source": [
    "### CCRCC"
   ]
  },
  {
   "cell_type": "code",
   "execution_count": 168,
   "metadata": {},
   "outputs": [
    {
     "data": {
      "application/vnd.plotly.v1+json": {
       "config": {
        "plotlyServerURL": "https://plot.ly"
       },
       "data": [
        {
         "hoverlabel": {
          "namelength": 0
         },
         "hovertemplate": "<b>%{hovertext}</b><br><br>log_kid=%{x}<br>log_ccr=%{y}<br>round_dice=%{text}",
         "hovertext": [
          115,
          119,
          121,
          124,
          126,
          127,
          134,
          135,
          136,
          138,
          140,
          142,
          145,
          146,
          147,
          149,
          150,
          151,
          152,
          154,
          157
         ],
         "legendgroup": "",
         "marker": {
          "color": "#636efa",
          "size": [
           0.9,
           0.783,
           0.863,
           0,
           0.687,
           0,
           0.912,
           0.87,
           0.929,
           0.905,
           0.248,
           0.655,
           0.935,
           0.009,
           0.862,
           0.83,
           0.018,
           0.527,
           0.587,
           0.156,
           0.623
          ],
          "sizemode": "area",
          "sizeref": 0.0010388888888888889,
          "symbol": "circle"
         },
         "mode": "markers+text",
         "name": "",
         "showlegend": false,
         "text": [
          0.9,
          0.783,
          0.863,
          0,
          0.687,
          0,
          0.912,
          0.87,
          0.929,
          0.905,
          0.248,
          0.655,
          0.935,
          0.009,
          0.862,
          0.83,
          0.018,
          0.527,
          0.587,
          0.156,
          0.623
         ],
         "type": "scatter",
         "x": [
          6.034334817618173,
          5.620687685487591,
          5.77141622780752,
          5.4107772333772095,
          5.764541503613932,
          5.5337288554975155,
          5.645336777632039,
          5.548147325173068,
          6.26849091706603,
          5.499387371006447,
          5.784625136961541,
          5.594707382612499,
          5.750575500891999,
          5.785197390598324,
          5.500451921483333,
          5.57913738877138,
          5.839086314370724,
          5.634833829660031,
          5.54426033218881,
          5.389816153005438,
          5.976588844057581
         ],
         "xaxis": "x",
         "y": [
          5.817249283842886,
          4.984045496851437,
          5.202024895104038,
          2.845098040014257,
          3.8221680793680175,
          2.8048206787211623,
          4.671737336320007,
          3.7212333700172775,
          6.1494309720382505,
          5.059714845546422,
          4.011189687609991,
          4.533021750752162,
          5.483879580755635,
          4.207284205912198,
          4.729124275258121,
          3.9503161639246,
          3.6972293427597176,
          4.552753363545444,
          5.107389757487648,
          3.246252312299322,
          4.030235296012245
         ],
         "yaxis": "y"
        }
       ],
       "layout": {
        "autosize": true,
        "font": {
         "size": 18
        },
        "legend": {
         "itemsizing": "constant",
         "tracegroupgap": 0
        },
        "margin": {
         "t": 60
        },
        "template": {
         "data": {
          "bar": [
           {
            "error_x": {
             "color": "#2a3f5f"
            },
            "error_y": {
             "color": "#2a3f5f"
            },
            "marker": {
             "line": {
              "color": "#E5ECF6",
              "width": 0.5
             }
            },
            "type": "bar"
           }
          ],
          "barpolar": [
           {
            "marker": {
             "line": {
              "color": "#E5ECF6",
              "width": 0.5
             }
            },
            "type": "barpolar"
           }
          ],
          "carpet": [
           {
            "aaxis": {
             "endlinecolor": "#2a3f5f",
             "gridcolor": "white",
             "linecolor": "white",
             "minorgridcolor": "white",
             "startlinecolor": "#2a3f5f"
            },
            "baxis": {
             "endlinecolor": "#2a3f5f",
             "gridcolor": "white",
             "linecolor": "white",
             "minorgridcolor": "white",
             "startlinecolor": "#2a3f5f"
            },
            "type": "carpet"
           }
          ],
          "choropleth": [
           {
            "colorbar": {
             "outlinewidth": 0,
             "ticks": ""
            },
            "type": "choropleth"
           }
          ],
          "contour": [
           {
            "colorbar": {
             "outlinewidth": 0,
             "ticks": ""
            },
            "colorscale": [
             [
              0,
              "#0d0887"
             ],
             [
              0.1111111111111111,
              "#46039f"
             ],
             [
              0.2222222222222222,
              "#7201a8"
             ],
             [
              0.3333333333333333,
              "#9c179e"
             ],
             [
              0.4444444444444444,
              "#bd3786"
             ],
             [
              0.5555555555555556,
              "#d8576b"
             ],
             [
              0.6666666666666666,
              "#ed7953"
             ],
             [
              0.7777777777777778,
              "#fb9f3a"
             ],
             [
              0.8888888888888888,
              "#fdca26"
             ],
             [
              1,
              "#f0f921"
             ]
            ],
            "type": "contour"
           }
          ],
          "contourcarpet": [
           {
            "colorbar": {
             "outlinewidth": 0,
             "ticks": ""
            },
            "type": "contourcarpet"
           }
          ],
          "heatmap": [
           {
            "colorbar": {
             "outlinewidth": 0,
             "ticks": ""
            },
            "colorscale": [
             [
              0,
              "#0d0887"
             ],
             [
              0.1111111111111111,
              "#46039f"
             ],
             [
              0.2222222222222222,
              "#7201a8"
             ],
             [
              0.3333333333333333,
              "#9c179e"
             ],
             [
              0.4444444444444444,
              "#bd3786"
             ],
             [
              0.5555555555555556,
              "#d8576b"
             ],
             [
              0.6666666666666666,
              "#ed7953"
             ],
             [
              0.7777777777777778,
              "#fb9f3a"
             ],
             [
              0.8888888888888888,
              "#fdca26"
             ],
             [
              1,
              "#f0f921"
             ]
            ],
            "type": "heatmap"
           }
          ],
          "heatmapgl": [
           {
            "colorbar": {
             "outlinewidth": 0,
             "ticks": ""
            },
            "colorscale": [
             [
              0,
              "#0d0887"
             ],
             [
              0.1111111111111111,
              "#46039f"
             ],
             [
              0.2222222222222222,
              "#7201a8"
             ],
             [
              0.3333333333333333,
              "#9c179e"
             ],
             [
              0.4444444444444444,
              "#bd3786"
             ],
             [
              0.5555555555555556,
              "#d8576b"
             ],
             [
              0.6666666666666666,
              "#ed7953"
             ],
             [
              0.7777777777777778,
              "#fb9f3a"
             ],
             [
              0.8888888888888888,
              "#fdca26"
             ],
             [
              1,
              "#f0f921"
             ]
            ],
            "type": "heatmapgl"
           }
          ],
          "histogram": [
           {
            "marker": {
             "colorbar": {
              "outlinewidth": 0,
              "ticks": ""
             }
            },
            "type": "histogram"
           }
          ],
          "histogram2d": [
           {
            "colorbar": {
             "outlinewidth": 0,
             "ticks": ""
            },
            "colorscale": [
             [
              0,
              "#0d0887"
             ],
             [
              0.1111111111111111,
              "#46039f"
             ],
             [
              0.2222222222222222,
              "#7201a8"
             ],
             [
              0.3333333333333333,
              "#9c179e"
             ],
             [
              0.4444444444444444,
              "#bd3786"
             ],
             [
              0.5555555555555556,
              "#d8576b"
             ],
             [
              0.6666666666666666,
              "#ed7953"
             ],
             [
              0.7777777777777778,
              "#fb9f3a"
             ],
             [
              0.8888888888888888,
              "#fdca26"
             ],
             [
              1,
              "#f0f921"
             ]
            ],
            "type": "histogram2d"
           }
          ],
          "histogram2dcontour": [
           {
            "colorbar": {
             "outlinewidth": 0,
             "ticks": ""
            },
            "colorscale": [
             [
              0,
              "#0d0887"
             ],
             [
              0.1111111111111111,
              "#46039f"
             ],
             [
              0.2222222222222222,
              "#7201a8"
             ],
             [
              0.3333333333333333,
              "#9c179e"
             ],
             [
              0.4444444444444444,
              "#bd3786"
             ],
             [
              0.5555555555555556,
              "#d8576b"
             ],
             [
              0.6666666666666666,
              "#ed7953"
             ],
             [
              0.7777777777777778,
              "#fb9f3a"
             ],
             [
              0.8888888888888888,
              "#fdca26"
             ],
             [
              1,
              "#f0f921"
             ]
            ],
            "type": "histogram2dcontour"
           }
          ],
          "mesh3d": [
           {
            "colorbar": {
             "outlinewidth": 0,
             "ticks": ""
            },
            "type": "mesh3d"
           }
          ],
          "parcoords": [
           {
            "line": {
             "colorbar": {
              "outlinewidth": 0,
              "ticks": ""
             }
            },
            "type": "parcoords"
           }
          ],
          "scatter": [
           {
            "marker": {
             "colorbar": {
              "outlinewidth": 0,
              "ticks": ""
             }
            },
            "type": "scatter"
           }
          ],
          "scatter3d": [
           {
            "line": {
             "colorbar": {
              "outlinewidth": 0,
              "ticks": ""
             }
            },
            "marker": {
             "colorbar": {
              "outlinewidth": 0,
              "ticks": ""
             }
            },
            "type": "scatter3d"
           }
          ],
          "scattercarpet": [
           {
            "marker": {
             "colorbar": {
              "outlinewidth": 0,
              "ticks": ""
             }
            },
            "type": "scattercarpet"
           }
          ],
          "scattergeo": [
           {
            "marker": {
             "colorbar": {
              "outlinewidth": 0,
              "ticks": ""
             }
            },
            "type": "scattergeo"
           }
          ],
          "scattergl": [
           {
            "marker": {
             "colorbar": {
              "outlinewidth": 0,
              "ticks": ""
             }
            },
            "type": "scattergl"
           }
          ],
          "scattermapbox": [
           {
            "marker": {
             "colorbar": {
              "outlinewidth": 0,
              "ticks": ""
             }
            },
            "type": "scattermapbox"
           }
          ],
          "scatterpolar": [
           {
            "marker": {
             "colorbar": {
              "outlinewidth": 0,
              "ticks": ""
             }
            },
            "type": "scatterpolar"
           }
          ],
          "scatterpolargl": [
           {
            "marker": {
             "colorbar": {
              "outlinewidth": 0,
              "ticks": ""
             }
            },
            "type": "scatterpolargl"
           }
          ],
          "scatterternary": [
           {
            "marker": {
             "colorbar": {
              "outlinewidth": 0,
              "ticks": ""
             }
            },
            "type": "scatterternary"
           }
          ],
          "surface": [
           {
            "colorbar": {
             "outlinewidth": 0,
             "ticks": ""
            },
            "colorscale": [
             [
              0,
              "#0d0887"
             ],
             [
              0.1111111111111111,
              "#46039f"
             ],
             [
              0.2222222222222222,
              "#7201a8"
             ],
             [
              0.3333333333333333,
              "#9c179e"
             ],
             [
              0.4444444444444444,
              "#bd3786"
             ],
             [
              0.5555555555555556,
              "#d8576b"
             ],
             [
              0.6666666666666666,
              "#ed7953"
             ],
             [
              0.7777777777777778,
              "#fb9f3a"
             ],
             [
              0.8888888888888888,
              "#fdca26"
             ],
             [
              1,
              "#f0f921"
             ]
            ],
            "type": "surface"
           }
          ],
          "table": [
           {
            "cells": {
             "fill": {
              "color": "#EBF0F8"
             },
             "line": {
              "color": "white"
             }
            },
            "header": {
             "fill": {
              "color": "#C8D4E3"
             },
             "line": {
              "color": "white"
             }
            },
            "type": "table"
           }
          ]
         },
         "layout": {
          "annotationdefaults": {
           "arrowcolor": "#2a3f5f",
           "arrowhead": 0,
           "arrowwidth": 1
          },
          "colorscale": {
           "diverging": [
            [
             0,
             "#8e0152"
            ],
            [
             0.1,
             "#c51b7d"
            ],
            [
             0.2,
             "#de77ae"
            ],
            [
             0.3,
             "#f1b6da"
            ],
            [
             0.4,
             "#fde0ef"
            ],
            [
             0.5,
             "#f7f7f7"
            ],
            [
             0.6,
             "#e6f5d0"
            ],
            [
             0.7,
             "#b8e186"
            ],
            [
             0.8,
             "#7fbc41"
            ],
            [
             0.9,
             "#4d9221"
            ],
            [
             1,
             "#276419"
            ]
           ],
           "sequential": [
            [
             0,
             "#0d0887"
            ],
            [
             0.1111111111111111,
             "#46039f"
            ],
            [
             0.2222222222222222,
             "#7201a8"
            ],
            [
             0.3333333333333333,
             "#9c179e"
            ],
            [
             0.4444444444444444,
             "#bd3786"
            ],
            [
             0.5555555555555556,
             "#d8576b"
            ],
            [
             0.6666666666666666,
             "#ed7953"
            ],
            [
             0.7777777777777778,
             "#fb9f3a"
            ],
            [
             0.8888888888888888,
             "#fdca26"
            ],
            [
             1,
             "#f0f921"
            ]
           ],
           "sequentialminus": [
            [
             0,
             "#0d0887"
            ],
            [
             0.1111111111111111,
             "#46039f"
            ],
            [
             0.2222222222222222,
             "#7201a8"
            ],
            [
             0.3333333333333333,
             "#9c179e"
            ],
            [
             0.4444444444444444,
             "#bd3786"
            ],
            [
             0.5555555555555556,
             "#d8576b"
            ],
            [
             0.6666666666666666,
             "#ed7953"
            ],
            [
             0.7777777777777778,
             "#fb9f3a"
            ],
            [
             0.8888888888888888,
             "#fdca26"
            ],
            [
             1,
             "#f0f921"
            ]
           ]
          },
          "colorway": [
           "#636efa",
           "#EF553B",
           "#00cc96",
           "#ab63fa",
           "#FFA15A",
           "#19d3f3",
           "#FF6692",
           "#B6E880",
           "#FF97FF",
           "#FECB52"
          ],
          "font": {
           "color": "#2a3f5f"
          },
          "geo": {
           "bgcolor": "white",
           "lakecolor": "white",
           "landcolor": "#E5ECF6",
           "showlakes": true,
           "showland": true,
           "subunitcolor": "white"
          },
          "hoverlabel": {
           "align": "left"
          },
          "hovermode": "closest",
          "mapbox": {
           "style": "light"
          },
          "paper_bgcolor": "white",
          "plot_bgcolor": "#E5ECF6",
          "polar": {
           "angularaxis": {
            "gridcolor": "white",
            "linecolor": "white",
            "ticks": ""
           },
           "bgcolor": "#E5ECF6",
           "radialaxis": {
            "gridcolor": "white",
            "linecolor": "white",
            "ticks": ""
           }
          },
          "scene": {
           "xaxis": {
            "backgroundcolor": "#E5ECF6",
            "gridcolor": "white",
            "gridwidth": 2,
            "linecolor": "white",
            "showbackground": true,
            "ticks": "",
            "zerolinecolor": "white"
           },
           "yaxis": {
            "backgroundcolor": "#E5ECF6",
            "gridcolor": "white",
            "gridwidth": 2,
            "linecolor": "white",
            "showbackground": true,
            "ticks": "",
            "zerolinecolor": "white"
           },
           "zaxis": {
            "backgroundcolor": "#E5ECF6",
            "gridcolor": "white",
            "gridwidth": 2,
            "linecolor": "white",
            "showbackground": true,
            "ticks": "",
            "zerolinecolor": "white"
           }
          },
          "shapedefaults": {
           "line": {
            "color": "#2a3f5f"
           }
          },
          "ternary": {
           "aaxis": {
            "gridcolor": "white",
            "linecolor": "white",
            "ticks": ""
           },
           "baxis": {
            "gridcolor": "white",
            "linecolor": "white",
            "ticks": ""
           },
           "bgcolor": "#E5ECF6",
           "caxis": {
            "gridcolor": "white",
            "linecolor": "white",
            "ticks": ""
           }
          },
          "title": {
           "x": 0.05
          },
          "xaxis": {
           "automargin": true,
           "gridcolor": "white",
           "linecolor": "white",
           "ticks": "",
           "zerolinecolor": "white",
           "zerolinewidth": 2
          },
          "yaxis": {
           "automargin": true,
           "gridcolor": "white",
           "linecolor": "white",
           "ticks": "",
           "zerolinecolor": "white",
           "zerolinewidth": 2
          }
         }
        },
        "title": {
         "font": {
          "size": 25
         },
         "text": "CCRCC_dice_with_cid"
        },
        "xaxis": {
         "anchor": "y",
         "autorange": true,
         "domain": [
          0,
          0.98
         ],
         "range": [
          5.325918857400207,
          6.350625411382832
         ],
         "tickfont": {
          "family": "Courier",
          "size": 20
         },
         "title": {
          "font": {
           "family": "Courier",
           "size": 23
          },
          "text": "log_kid"
         },
         "type": "linear"
        },
        "yaxis": {
         "anchor": "x",
         "autorange": true,
         "domain": [
          0,
          1
         ],
         "range": [
          2.5803265099201322,
          6.5521464194768155
         ],
         "tickfont": {
          "family": "Courier",
          "size": 20
         },
         "title": {
          "font": {
           "family": "Courier",
           "size": 23
          },
          "text": "log_ccr"
         },
         "type": "linear"
        }
       }
      },
      "image/png": "[encoded data removed]",
      "text/html": [
       "<div>\n",
       "        \n",
       "        \n",
       "            <div id=\"84608aaa-1904-402c-940a-b6cba9ad69ea\" class=\"plotly-graph-div\" style=\"height:600px; width:100%;\"></div>\n",
       "            <script type=\"text/javascript\">\n",
       "                require([\"plotly\"], function(Plotly) {\n",
       "                    window.PLOTLYENV=window.PLOTLYENV || {};\n",
       "                    \n",
       "                if (document.getElementById(\"84608aaa-1904-402c-940a-b6cba9ad69ea\")) {\n",
       "                    Plotly.newPlot(\n",
       "                        '84608aaa-1904-402c-940a-b6cba9ad69ea',\n",
       "                        [{\"hoverlabel\": {\"namelength\": 0}, \"hovertemplate\": \"<b>%{hovertext}</b><br><br>log_kid=%{x}<br>log_ccr=%{y}<br>round_dice=%{text}\", \"hovertext\": [115.0, 119.0, 121.0, 124.0, 126.0, 127.0, 134.0, 135.0, 136.0, 138.0, 140.0, 142.0, 145.0, 146.0, 147.0, 149.0, 150.0, 151.0, 152.0, 154.0, 157.0], \"legendgroup\": \"\", \"marker\": {\"color\": \"#636efa\", \"size\": [0.9, 0.783, 0.863, 0.0, 0.687, 0.0, 0.912, 0.87, 0.929, 0.905, 0.248, 0.655, 0.935, 0.009, 0.862, 0.83, 0.018, 0.527, 0.587, 0.156, 0.623], \"sizemode\": \"area\", \"sizeref\": 0.0010388888888888889, \"symbol\": \"circle\"}, \"mode\": \"markers+text\", \"name\": \"\", \"showlegend\": false, \"text\": [0.9, 0.783, 0.863, 0.0, 0.687, 0.0, 0.912, 0.87, 0.929, 0.905, 0.248, 0.655, 0.935, 0.009, 0.862, 0.83, 0.018, 0.527, 0.587, 0.156, 0.623], \"type\": \"scatter\", \"x\": [6.034334817618173, 5.620687685487591, 5.77141622780752, 5.4107772333772095, 5.764541503613932, 5.5337288554975155, 5.645336777632039, 5.548147325173068, 6.26849091706603, 5.499387371006447, 5.784625136961541, 5.594707382612499, 5.750575500891999, 5.785197390598324, 5.500451921483333, 5.57913738877138, 5.839086314370724, 5.634833829660031, 5.54426033218881, 5.389816153005438, 5.976588844057581], \"xaxis\": \"x\", \"y\": [5.817249283842886, 4.984045496851437, 5.202024895104038, 2.845098040014257, 3.8221680793680175, 2.8048206787211623, 4.671737336320007, 3.7212333700172775, 6.1494309720382505, 5.059714845546422, 4.011189687609991, 4.533021750752162, 5.483879580755635, 4.207284205912198, 4.729124275258121, 3.9503161639246, 3.6972293427597176, 4.552753363545444, 5.107389757487648, 3.246252312299322, 4.030235296012245], \"yaxis\": \"y\"}],\n",
       "                        {\"font\": {\"size\": 18}, \"height\": 600, \"legend\": {\"itemsizing\": \"constant\", \"tracegroupgap\": 0}, \"margin\": {\"t\": 60}, \"template\": {\"data\": {\"bar\": [{\"error_x\": {\"color\": \"#2a3f5f\"}, \"error_y\": {\"color\": \"#2a3f5f\"}, \"marker\": {\"line\": {\"color\": \"#E5ECF6\", \"width\": 0.5}}, \"type\": \"bar\"}], \"barpolar\": [{\"marker\": {\"line\": {\"color\": \"#E5ECF6\", \"width\": 0.5}}, \"type\": \"barpolar\"}], \"carpet\": [{\"aaxis\": {\"endlinecolor\": \"#2a3f5f\", \"gridcolor\": \"white\", \"linecolor\": \"white\", \"minorgridcolor\": \"white\", \"startlinecolor\": \"#2a3f5f\"}, \"baxis\": {\"endlinecolor\": \"#2a3f5f\", \"gridcolor\": \"white\", \"linecolor\": \"white\", \"minorgridcolor\": \"white\", \"startlinecolor\": \"#2a3f5f\"}, \"type\": \"carpet\"}], \"choropleth\": [{\"colorbar\": {\"outlinewidth\": 0, \"ticks\": \"\"}, \"type\": \"choropleth\"}], \"contour\": [{\"colorbar\": {\"outlinewidth\": 0, \"ticks\": \"\"}, \"colorscale\": [[0.0, \"#0d0887\"], [0.1111111111111111, \"#46039f\"], [0.2222222222222222, \"#7201a8\"], [0.3333333333333333, \"#9c179e\"], [0.4444444444444444, \"#bd3786\"], [0.5555555555555556, \"#d8576b\"], [0.6666666666666666, \"#ed7953\"], [0.7777777777777778, \"#fb9f3a\"], [0.8888888888888888, \"#fdca26\"], [1.0, \"#f0f921\"]], \"type\": \"contour\"}], \"contourcarpet\": [{\"colorbar\": {\"outlinewidth\": 0, \"ticks\": \"\"}, \"type\": \"contourcarpet\"}], \"heatmap\": [{\"colorbar\": {\"outlinewidth\": 0, \"ticks\": \"\"}, \"colorscale\": [[0.0, \"#0d0887\"], [0.1111111111111111, \"#46039f\"], [0.2222222222222222, \"#7201a8\"], [0.3333333333333333, \"#9c179e\"], [0.4444444444444444, \"#bd3786\"], [0.5555555555555556, \"#d8576b\"], [0.6666666666666666, \"#ed7953\"], [0.7777777777777778, \"#fb9f3a\"], [0.8888888888888888, \"#fdca26\"], [1.0, \"#f0f921\"]], \"type\": \"heatmap\"}], \"heatmapgl\": [{\"colorbar\": {\"outlinewidth\": 0, \"ticks\": \"\"}, \"colorscale\": [[0.0, \"#0d0887\"], [0.1111111111111111, \"#46039f\"], [0.2222222222222222, \"#7201a8\"], [0.3333333333333333, \"#9c179e\"], [0.4444444444444444, \"#bd3786\"], [0.5555555555555556, \"#d8576b\"], [0.6666666666666666, \"#ed7953\"], [0.7777777777777778, \"#fb9f3a\"], [0.8888888888888888, \"#fdca26\"], [1.0, \"#f0f921\"]], \"type\": \"heatmapgl\"}], \"histogram\": [{\"marker\": {\"colorbar\": {\"outlinewidth\": 0, \"ticks\": \"\"}}, \"type\": \"histogram\"}], \"histogram2d\": [{\"colorbar\": {\"outlinewidth\": 0, \"ticks\": \"\"}, \"colorscale\": [[0.0, \"#0d0887\"], [0.1111111111111111, \"#46039f\"], [0.2222222222222222, \"#7201a8\"], [0.3333333333333333, \"#9c179e\"], [0.4444444444444444, \"#bd3786\"], [0.5555555555555556, \"#d8576b\"], [0.6666666666666666, \"#ed7953\"], [0.7777777777777778, \"#fb9f3a\"], [0.8888888888888888, \"#fdca26\"], [1.0, \"#f0f921\"]], \"type\": \"histogram2d\"}], \"histogram2dcontour\": [{\"colorbar\": {\"outlinewidth\": 0, \"ticks\": \"\"}, \"colorscale\": [[0.0, \"#0d0887\"], [0.1111111111111111, \"#46039f\"], [0.2222222222222222, \"#7201a8\"], [0.3333333333333333, \"#9c179e\"], [0.4444444444444444, \"#bd3786\"], [0.5555555555555556, \"#d8576b\"], [0.6666666666666666, \"#ed7953\"], [0.7777777777777778, \"#fb9f3a\"], [0.8888888888888888, \"#fdca26\"], [1.0, \"#f0f921\"]], \"type\": \"histogram2dcontour\"}], \"mesh3d\": [{\"colorbar\": {\"outlinewidth\": 0, \"ticks\": \"\"}, \"type\": \"mesh3d\"}], \"parcoords\": [{\"line\": {\"colorbar\": {\"outlinewidth\": 0, \"ticks\": \"\"}}, \"type\": \"parcoords\"}], \"scatter\": [{\"marker\": {\"colorbar\": {\"outlinewidth\": 0, \"ticks\": \"\"}}, \"type\": \"scatter\"}], \"scatter3d\": [{\"line\": {\"colorbar\": {\"outlinewidth\": 0, \"ticks\": \"\"}}, \"marker\": {\"colorbar\": {\"outlinewidth\": 0, \"ticks\": \"\"}}, \"type\": \"scatter3d\"}], \"scattercarpet\": [{\"marker\": {\"colorbar\": {\"outlinewidth\": 0, \"ticks\": \"\"}}, \"type\": \"scattercarpet\"}], \"scattergeo\": [{\"marker\": {\"colorbar\": {\"outlinewidth\": 0, \"ticks\": \"\"}}, \"type\": \"scattergeo\"}], \"scattergl\": [{\"marker\": {\"colorbar\": {\"outlinewidth\": 0, \"ticks\": \"\"}}, \"type\": \"scattergl\"}], \"scattermapbox\": [{\"marker\": {\"colorbar\": {\"outlinewidth\": 0, \"ticks\": \"\"}}, \"type\": \"scattermapbox\"}], \"scatterpolar\": [{\"marker\": {\"colorbar\": {\"outlinewidth\": 0, \"ticks\": \"\"}}, \"type\": \"scatterpolar\"}], \"scatterpolargl\": [{\"marker\": {\"colorbar\": {\"outlinewidth\": 0, \"ticks\": \"\"}}, \"type\": \"scatterpolargl\"}], \"scatterternary\": [{\"marker\": {\"colorbar\": {\"outlinewidth\": 0, \"ticks\": \"\"}}, \"type\": \"scatterternary\"}], \"surface\": [{\"colorbar\": {\"outlinewidth\": 0, \"ticks\": \"\"}, \"colorscale\": [[0.0, \"#0d0887\"], [0.1111111111111111, \"#46039f\"], [0.2222222222222222, \"#7201a8\"], [0.3333333333333333, \"#9c179e\"], [0.4444444444444444, \"#bd3786\"], [0.5555555555555556, \"#d8576b\"], [0.6666666666666666, \"#ed7953\"], [0.7777777777777778, \"#fb9f3a\"], [0.8888888888888888, \"#fdca26\"], [1.0, \"#f0f921\"]], \"type\": \"surface\"}], \"table\": [{\"cells\": {\"fill\": {\"color\": \"#EBF0F8\"}, \"line\": {\"color\": \"white\"}}, \"header\": {\"fill\": {\"color\": \"#C8D4E3\"}, \"line\": {\"color\": \"white\"}}, \"type\": \"table\"}]}, \"layout\": {\"annotationdefaults\": {\"arrowcolor\": \"#2a3f5f\", \"arrowhead\": 0, \"arrowwidth\": 1}, \"colorscale\": {\"diverging\": [[0, \"#8e0152\"], [0.1, \"#c51b7d\"], [0.2, \"#de77ae\"], [0.3, \"#f1b6da\"], [0.4, \"#fde0ef\"], [0.5, \"#f7f7f7\"], [0.6, \"#e6f5d0\"], [0.7, \"#b8e186\"], [0.8, \"#7fbc41\"], [0.9, \"#4d9221\"], [1, \"#276419\"]], \"sequential\": [[0.0, \"#0d0887\"], [0.1111111111111111, \"#46039f\"], [0.2222222222222222, \"#7201a8\"], [0.3333333333333333, \"#9c179e\"], [0.4444444444444444, \"#bd3786\"], [0.5555555555555556, \"#d8576b\"], [0.6666666666666666, \"#ed7953\"], [0.7777777777777778, \"#fb9f3a\"], [0.8888888888888888, \"#fdca26\"], [1.0, \"#f0f921\"]], \"sequentialminus\": [[0.0, \"#0d0887\"], [0.1111111111111111, \"#46039f\"], [0.2222222222222222, \"#7201a8\"], [0.3333333333333333, \"#9c179e\"], [0.4444444444444444, \"#bd3786\"], [0.5555555555555556, \"#d8576b\"], [0.6666666666666666, \"#ed7953\"], [0.7777777777777778, \"#fb9f3a\"], [0.8888888888888888, \"#fdca26\"], [1.0, \"#f0f921\"]]}, \"colorway\": [\"#636efa\", \"#EF553B\", \"#00cc96\", \"#ab63fa\", \"#FFA15A\", \"#19d3f3\", \"#FF6692\", \"#B6E880\", \"#FF97FF\", \"#FECB52\"], \"font\": {\"color\": \"#2a3f5f\"}, \"geo\": {\"bgcolor\": \"white\", \"lakecolor\": \"white\", \"landcolor\": \"#E5ECF6\", \"showlakes\": true, \"showland\": true, \"subunitcolor\": \"white\"}, \"hoverlabel\": {\"align\": \"left\"}, \"hovermode\": \"closest\", \"mapbox\": {\"style\": \"light\"}, \"paper_bgcolor\": \"white\", \"plot_bgcolor\": \"#E5ECF6\", \"polar\": {\"angularaxis\": {\"gridcolor\": \"white\", \"linecolor\": \"white\", \"ticks\": \"\"}, \"bgcolor\": \"#E5ECF6\", \"radialaxis\": {\"gridcolor\": \"white\", \"linecolor\": \"white\", \"ticks\": \"\"}}, \"scene\": {\"xaxis\": {\"backgroundcolor\": \"#E5ECF6\", \"gridcolor\": \"white\", \"gridwidth\": 2, \"linecolor\": \"white\", \"showbackground\": true, \"ticks\": \"\", \"zerolinecolor\": \"white\"}, \"yaxis\": {\"backgroundcolor\": \"#E5ECF6\", \"gridcolor\": \"white\", \"gridwidth\": 2, \"linecolor\": \"white\", \"showbackground\": true, \"ticks\": \"\", \"zerolinecolor\": \"white\"}, \"zaxis\": {\"backgroundcolor\": \"#E5ECF6\", \"gridcolor\": \"white\", \"gridwidth\": 2, \"linecolor\": \"white\", \"showbackground\": true, \"ticks\": \"\", \"zerolinecolor\": \"white\"}}, \"shapedefaults\": {\"line\": {\"color\": \"#2a3f5f\"}}, \"ternary\": {\"aaxis\": {\"gridcolor\": \"white\", \"linecolor\": \"white\", \"ticks\": \"\"}, \"baxis\": {\"gridcolor\": \"white\", \"linecolor\": \"white\", \"ticks\": \"\"}, \"bgcolor\": \"#E5ECF6\", \"caxis\": {\"gridcolor\": \"white\", \"linecolor\": \"white\", \"ticks\": \"\"}}, \"title\": {\"x\": 0.05}, \"xaxis\": {\"automargin\": true, \"gridcolor\": \"white\", \"linecolor\": \"white\", \"ticks\": \"\", \"zerolinecolor\": \"white\", \"zerolinewidth\": 2}, \"yaxis\": {\"automargin\": true, \"gridcolor\": \"white\", \"linecolor\": \"white\", \"ticks\": \"\", \"zerolinecolor\": \"white\", \"zerolinewidth\": 2}}}, \"title\": {\"font\": {\"size\": 25}, \"text\": \"CCRCC_dice_with_cid\"}, \"xaxis\": {\"anchor\": \"y\", \"domain\": [0.0, 0.98], \"tickfont\": {\"family\": \"Courier\", \"size\": 20}, \"title\": {\"font\": {\"family\": \"Courier\", \"size\": 23}, \"text\": \"log_kid\"}}, \"yaxis\": {\"anchor\": \"x\", \"domain\": [0.0, 1.0], \"tickfont\": {\"family\": \"Courier\", \"size\": 20}, \"title\": {\"font\": {\"family\": \"Courier\", \"size\": 23}, \"text\": \"log_ccr\"}}},\n",
       "                        {\"responsive\": true}\n",
       "                    ).then(function(){\n",
       "                            \n",
       "var gd = document.getElementById('84608aaa-1904-402c-940a-b6cba9ad69ea');\n",
       "var x = new MutationObserver(function (mutations, observer) {{\n",
       "        var display = window.getComputedStyle(gd).display;\n",
       "        if (!display || display === 'none') {{\n",
       "            console.log([gd, 'removed!']);\n",
       "            Plotly.purge(gd);\n",
       "            observer.disconnect();\n",
       "        }}\n",
       "}});\n",
       "\n",
       "// Listen for the removal of the full notebook cells\n",
       "var notebookContainer = gd.closest('#notebook-container');\n",
       "if (notebookContainer) {{\n",
       "    x.observe(notebookContainer, {childList: true});\n",
       "}}\n",
       "\n",
       "// Listen for the clearing of the current output cell\n",
       "var outputEl = gd.closest('.output');\n",
       "if (outputEl) {{\n",
       "    x.observe(outputEl, {childList: true});\n",
       "}}\n",
       "\n",
       "                        })\n",
       "                };\n",
       "                });\n",
       "            </script>\n",
       "        </div>"
      ]
     },
     "metadata": {},
     "output_type": "display_data"
    }
   ],
   "source": [
    "fig = px.scatter(ccr_df, x=\"log_kid\", y=\"log_ccr\",text='round_dice', size='round_dice',size_max=30,hover_name='cid')\n",
    "fig.update_layout(title_text=\"CCRCC_dice_with_cid\",titlefont={\"size\": 25},font={'size':18})\n",
    "fig.update_xaxes(title_font=dict(size=23, family='Courier'))\n",
    "fig.update_yaxes(tickfont=dict(family='Courier', size=20))\n",
    "fig.update_xaxes(tickfont=dict(family='Courier', size=20))\n",
    "fig.update_yaxes(title_font=dict(size=23, family='Courier'))\n",
    "fig.show()"
   ]
  },
  {
   "cell_type": "code",
   "execution_count": 196,
   "metadata": {},
   "outputs": [
    {
     "data": {
      "application/vnd.plotly.v1+json": {
       "config": {
        "plotlyServerURL": "https://plot.ly"
       },
       "data": [
        {
         "hoverlabel": {
          "namelength": 0
         },
         "hovertemplate": "<b>%{hovertext}</b><br><br>log_kid=%{x}<br>log_ccr=%{y}<br>round_dice=%{marker.size}<br>cid=%{text}",
         "hovertext": [
          0.9,
          0.783,
          0.863,
          0,
          0.687,
          0,
          0.912,
          0.87,
          0.929,
          0.905,
          0.248,
          0.655,
          0.935,
          0.009,
          0.862,
          0.83,
          0.018,
          0.527,
          0.587,
          0.156,
          0.623
         ],
         "legendgroup": "",
         "marker": {
          "color": "#636efa",
          "size": [
           0.9,
           0.783,
           0.863,
           0,
           0.687,
           0,
           0.912,
           0.87,
           0.929,
           0.905,
           0.248,
           0.655,
           0.935,
           0.009,
           0.862,
           0.83,
           0.018,
           0.527,
           0.587,
           0.156,
           0.623
          ],
          "sizemode": "area",
          "sizeref": 0.0010388888888888889,
          "symbol": "circle"
         },
         "mode": "markers+text",
         "name": "",
         "showlegend": false,
         "text": [
          115,
          119,
          121,
          124,
          126,
          127,
          134,
          135,
          136,
          138,
          140,
          142,
          145,
          146,
          147,
          149,
          150,
          151,
          152,
          154,
          157
         ],
         "type": "scatter",
         "x": [
          6.034334817618173,
          5.620687685487591,
          5.77141622780752,
          5.4107772333772095,
          5.764541503613932,
          5.5337288554975155,
          5.645336777632039,
          5.548147325173068,
          6.26849091706603,
          5.499387371006447,
          5.784625136961541,
          5.594707382612499,
          5.750575500891999,
          5.785197390598324,
          5.500451921483333,
          5.57913738877138,
          5.839086314370724,
          5.634833829660031,
          5.54426033218881,
          5.389816153005438,
          5.976588844057581
         ],
         "xaxis": "x",
         "y": [
          5.817249283842886,
          4.984045496851437,
          5.202024895104038,
          2.845098040014257,
          3.8221680793680175,
          2.8048206787211623,
          4.671737336320007,
          3.7212333700172775,
          6.1494309720382505,
          5.059714845546422,
          4.011189687609991,
          4.533021750752162,
          5.483879580755635,
          4.207284205912198,
          4.729124275258121,
          3.9503161639246,
          3.6972293427597176,
          4.552753363545444,
          5.107389757487648,
          3.246252312299322,
          4.030235296012245
         ],
         "yaxis": "y"
        }
       ],
       "layout": {
        "autosize": true,
        "font": {
         "size": 18
        },
        "legend": {
         "itemsizing": "constant",
         "tracegroupgap": 0
        },
        "margin": {
         "t": 60
        },
        "template": {
         "data": {
          "bar": [
           {
            "error_x": {
             "color": "#2a3f5f"
            },
            "error_y": {
             "color": "#2a3f5f"
            },
            "marker": {
             "line": {
              "color": "#E5ECF6",
              "width": 0.5
             }
            },
            "type": "bar"
           }
          ],
          "barpolar": [
           {
            "marker": {
             "line": {
              "color": "#E5ECF6",
              "width": 0.5
             }
            },
            "type": "barpolar"
           }
          ],
          "carpet": [
           {
            "aaxis": {
             "endlinecolor": "#2a3f5f",
             "gridcolor": "white",
             "linecolor": "white",
             "minorgridcolor": "white",
             "startlinecolor": "#2a3f5f"
            },
            "baxis": {
             "endlinecolor": "#2a3f5f",
             "gridcolor": "white",
             "linecolor": "white",
             "minorgridcolor": "white",
             "startlinecolor": "#2a3f5f"
            },
            "type": "carpet"
           }
          ],
          "choropleth": [
           {
            "colorbar": {
             "outlinewidth": 0,
             "ticks": ""
            },
            "type": "choropleth"
           }
          ],
          "contour": [
           {
            "colorbar": {
             "outlinewidth": 0,
             "ticks": ""
            },
            "colorscale": [
             [
              0,
              "#0d0887"
             ],
             [
              0.1111111111111111,
              "#46039f"
             ],
             [
              0.2222222222222222,
              "#7201a8"
             ],
             [
              0.3333333333333333,
              "#9c179e"
             ],
             [
              0.4444444444444444,
              "#bd3786"
             ],
             [
              0.5555555555555556,
              "#d8576b"
             ],
             [
              0.6666666666666666,
              "#ed7953"
             ],
             [
              0.7777777777777778,
              "#fb9f3a"
             ],
             [
              0.8888888888888888,
              "#fdca26"
             ],
             [
              1,
              "#f0f921"
             ]
            ],
            "type": "contour"
           }
          ],
          "contourcarpet": [
           {
            "colorbar": {
             "outlinewidth": 0,
             "ticks": ""
            },
            "type": "contourcarpet"
           }
          ],
          "heatmap": [
           {
            "colorbar": {
             "outlinewidth": 0,
             "ticks": ""
            },
            "colorscale": [
             [
              0,
              "#0d0887"
             ],
             [
              0.1111111111111111,
              "#46039f"
             ],
             [
              0.2222222222222222,
              "#7201a8"
             ],
             [
              0.3333333333333333,
              "#9c179e"
             ],
             [
              0.4444444444444444,
              "#bd3786"
             ],
             [
              0.5555555555555556,
              "#d8576b"
             ],
             [
              0.6666666666666666,
              "#ed7953"
             ],
             [
              0.7777777777777778,
              "#fb9f3a"
             ],
             [
              0.8888888888888888,
              "#fdca26"
             ],
             [
              1,
              "#f0f921"
             ]
            ],
            "type": "heatmap"
           }
          ],
          "heatmapgl": [
           {
            "colorbar": {
             "outlinewidth": 0,
             "ticks": ""
            },
            "colorscale": [
             [
              0,
              "#0d0887"
             ],
             [
              0.1111111111111111,
              "#46039f"
             ],
             [
              0.2222222222222222,
              "#7201a8"
             ],
             [
              0.3333333333333333,
              "#9c179e"
             ],
             [
              0.4444444444444444,
              "#bd3786"
             ],
             [
              0.5555555555555556,
              "#d8576b"
             ],
             [
              0.6666666666666666,
              "#ed7953"
             ],
             [
              0.7777777777777778,
              "#fb9f3a"
             ],
             [
              0.8888888888888888,
              "#fdca26"
             ],
             [
              1,
              "#f0f921"
             ]
            ],
            "type": "heatmapgl"
           }
          ],
          "histogram": [
           {
            "marker": {
             "colorbar": {
              "outlinewidth": 0,
              "ticks": ""
             }
            },
            "type": "histogram"
           }
          ],
          "histogram2d": [
           {
            "colorbar": {
             "outlinewidth": 0,
             "ticks": ""
            },
            "colorscale": [
             [
              0,
              "#0d0887"
             ],
             [
              0.1111111111111111,
              "#46039f"
             ],
             [
              0.2222222222222222,
              "#7201a8"
             ],
             [
              0.3333333333333333,
              "#9c179e"
             ],
             [
              0.4444444444444444,
              "#bd3786"
             ],
             [
              0.5555555555555556,
              "#d8576b"
             ],
             [
              0.6666666666666666,
              "#ed7953"
             ],
             [
              0.7777777777777778,
              "#fb9f3a"
             ],
             [
              0.8888888888888888,
              "#fdca26"
             ],
             [
              1,
              "#f0f921"
             ]
            ],
            "type": "histogram2d"
           }
          ],
          "histogram2dcontour": [
           {
            "colorbar": {
             "outlinewidth": 0,
             "ticks": ""
            },
            "colorscale": [
             [
              0,
              "#0d0887"
             ],
             [
              0.1111111111111111,
              "#46039f"
             ],
             [
              0.2222222222222222,
              "#7201a8"
             ],
             [
              0.3333333333333333,
              "#9c179e"
             ],
             [
              0.4444444444444444,
              "#bd3786"
             ],
             [
              0.5555555555555556,
              "#d8576b"
             ],
             [
              0.6666666666666666,
              "#ed7953"
             ],
             [
              0.7777777777777778,
              "#fb9f3a"
             ],
             [
              0.8888888888888888,
              "#fdca26"
             ],
             [
              1,
              "#f0f921"
             ]
            ],
            "type": "histogram2dcontour"
           }
          ],
          "mesh3d": [
           {
            "colorbar": {
             "outlinewidth": 0,
             "ticks": ""
            },
            "type": "mesh3d"
           }
          ],
          "parcoords": [
           {
            "line": {
             "colorbar": {
              "outlinewidth": 0,
              "ticks": ""
             }
            },
            "type": "parcoords"
           }
          ],
          "scatter": [
           {
            "marker": {
             "colorbar": {
              "outlinewidth": 0,
              "ticks": ""
             }
            },
            "type": "scatter"
           }
          ],
          "scatter3d": [
           {
            "line": {
             "colorbar": {
              "outlinewidth": 0,
              "ticks": ""
             }
            },
            "marker": {
             "colorbar": {
              "outlinewidth": 0,
              "ticks": ""
             }
            },
            "type": "scatter3d"
           }
          ],
          "scattercarpet": [
           {
            "marker": {
             "colorbar": {
              "outlinewidth": 0,
              "ticks": ""
             }
            },
            "type": "scattercarpet"
           }
          ],
          "scattergeo": [
           {
            "marker": {
             "colorbar": {
              "outlinewidth": 0,
              "ticks": ""
             }
            },
            "type": "scattergeo"
           }
          ],
          "scattergl": [
           {
            "marker": {
             "colorbar": {
              "outlinewidth": 0,
              "ticks": ""
             }
            },
            "type": "scattergl"
           }
          ],
          "scattermapbox": [
           {
            "marker": {
             "colorbar": {
              "outlinewidth": 0,
              "ticks": ""
             }
            },
            "type": "scattermapbox"
           }
          ],
          "scatterpolar": [
           {
            "marker": {
             "colorbar": {
              "outlinewidth": 0,
              "ticks": ""
             }
            },
            "type": "scatterpolar"
           }
          ],
          "scatterpolargl": [
           {
            "marker": {
             "colorbar": {
              "outlinewidth": 0,
              "ticks": ""
             }
            },
            "type": "scatterpolargl"
           }
          ],
          "scatterternary": [
           {
            "marker": {
             "colorbar": {
              "outlinewidth": 0,
              "ticks": ""
             }
            },
            "type": "scatterternary"
           }
          ],
          "surface": [
           {
            "colorbar": {
             "outlinewidth": 0,
             "ticks": ""
            },
            "colorscale": [
             [
              0,
              "#0d0887"
             ],
             [
              0.1111111111111111,
              "#46039f"
             ],
             [
              0.2222222222222222,
              "#7201a8"
             ],
             [
              0.3333333333333333,
              "#9c179e"
             ],
             [
              0.4444444444444444,
              "#bd3786"
             ],
             [
              0.5555555555555556,
              "#d8576b"
             ],
             [
              0.6666666666666666,
              "#ed7953"
             ],
             [
              0.7777777777777778,
              "#fb9f3a"
             ],
             [
              0.8888888888888888,
              "#fdca26"
             ],
             [
              1,
              "#f0f921"
             ]
            ],
            "type": "surface"
           }
          ],
          "table": [
           {
            "cells": {
             "fill": {
              "color": "#EBF0F8"
             },
             "line": {
              "color": "white"
             }
            },
            "header": {
             "fill": {
              "color": "#C8D4E3"
             },
             "line": {
              "color": "white"
             }
            },
            "type": "table"
           }
          ]
         },
         "layout": {
          "annotationdefaults": {
           "arrowcolor": "#2a3f5f",
           "arrowhead": 0,
           "arrowwidth": 1
          },
          "colorscale": {
           "diverging": [
            [
             0,
             "#8e0152"
            ],
            [
             0.1,
             "#c51b7d"
            ],
            [
             0.2,
             "#de77ae"
            ],
            [
             0.3,
             "#f1b6da"
            ],
            [
             0.4,
             "#fde0ef"
            ],
            [
             0.5,
             "#f7f7f7"
            ],
            [
             0.6,
             "#e6f5d0"
            ],
            [
             0.7,
             "#b8e186"
            ],
            [
             0.8,
             "#7fbc41"
            ],
            [
             0.9,
             "#4d9221"
            ],
            [
             1,
             "#276419"
            ]
           ],
           "sequential": [
            [
             0,
             "#0d0887"
            ],
            [
             0.1111111111111111,
             "#46039f"
            ],
            [
             0.2222222222222222,
             "#7201a8"
            ],
            [
             0.3333333333333333,
             "#9c179e"
            ],
            [
             0.4444444444444444,
             "#bd3786"
            ],
            [
             0.5555555555555556,
             "#d8576b"
            ],
            [
             0.6666666666666666,
             "#ed7953"
            ],
            [
             0.7777777777777778,
             "#fb9f3a"
            ],
            [
             0.8888888888888888,
             "#fdca26"
            ],
            [
             1,
             "#f0f921"
            ]
           ],
           "sequentialminus": [
            [
             0,
             "#0d0887"
            ],
            [
             0.1111111111111111,
             "#46039f"
            ],
            [
             0.2222222222222222,
             "#7201a8"
            ],
            [
             0.3333333333333333,
             "#9c179e"
            ],
            [
             0.4444444444444444,
             "#bd3786"
            ],
            [
             0.5555555555555556,
             "#d8576b"
            ],
            [
             0.6666666666666666,
             "#ed7953"
            ],
            [
             0.7777777777777778,
             "#fb9f3a"
            ],
            [
             0.8888888888888888,
             "#fdca26"
            ],
            [
             1,
             "#f0f921"
            ]
           ]
          },
          "colorway": [
           "#636efa",
           "#EF553B",
           "#00cc96",
           "#ab63fa",
           "#FFA15A",
           "#19d3f3",
           "#FF6692",
           "#B6E880",
           "#FF97FF",
           "#FECB52"
          ],
          "font": {
           "color": "#2a3f5f"
          },
          "geo": {
           "bgcolor": "white",
           "lakecolor": "white",
           "landcolor": "#E5ECF6",
           "showlakes": true,
           "showland": true,
           "subunitcolor": "white"
          },
          "hoverlabel": {
           "align": "left"
          },
          "hovermode": "closest",
          "mapbox": {
           "style": "light"
          },
          "paper_bgcolor": "white",
          "plot_bgcolor": "#E5ECF6",
          "polar": {
           "angularaxis": {
            "gridcolor": "white",
            "linecolor": "white",
            "ticks": ""
           },
           "bgcolor": "#E5ECF6",
           "radialaxis": {
            "gridcolor": "white",
            "linecolor": "white",
            "ticks": ""
           }
          },
          "scene": {
           "xaxis": {
            "backgroundcolor": "#E5ECF6",
            "gridcolor": "white",
            "gridwidth": 2,
            "linecolor": "white",
            "showbackground": true,
            "ticks": "",
            "zerolinecolor": "white"
           },
           "yaxis": {
            "backgroundcolor": "#E5ECF6",
            "gridcolor": "white",
            "gridwidth": 2,
            "linecolor": "white",
            "showbackground": true,
            "ticks": "",
            "zerolinecolor": "white"
           },
           "zaxis": {
            "backgroundcolor": "#E5ECF6",
            "gridcolor": "white",
            "gridwidth": 2,
            "linecolor": "white",
            "showbackground": true,
            "ticks": "",
            "zerolinecolor": "white"
           }
          },
          "shapedefaults": {
           "line": {
            "color": "#2a3f5f"
           }
          },
          "ternary": {
           "aaxis": {
            "gridcolor": "white",
            "linecolor": "white",
            "ticks": ""
           },
           "baxis": {
            "gridcolor": "white",
            "linecolor": "white",
            "ticks": ""
           },
           "bgcolor": "#E5ECF6",
           "caxis": {
            "gridcolor": "white",
            "linecolor": "white",
            "ticks": ""
           }
          },
          "title": {
           "x": 0.05
          },
          "xaxis": {
           "automargin": true,
           "gridcolor": "white",
           "linecolor": "white",
           "ticks": "",
           "zerolinecolor": "white",
           "zerolinewidth": 2
          },
          "yaxis": {
           "automargin": true,
           "gridcolor": "white",
           "linecolor": "white",
           "ticks": "",
           "zerolinecolor": "white",
           "zerolinewidth": 2
          }
         }
        },
        "title": {
         "font": {
          "size": 25
         },
         "text": "CCRCC_dice_with_cid"
        },
        "xaxis": {
         "anchor": "y",
         "autorange": true,
         "domain": [
          0,
          0.98
         ],
         "range": [
          5.325918857400207,
          6.350625411382832
         ],
         "tickfont": {
          "family": "Courier",
          "size": 20
         },
         "title": {
          "font": {
           "family": "Courier",
           "size": 23
          },
          "text": "log_kid"
         },
         "type": "linear"
        },
        "yaxis": {
         "anchor": "x",
         "autorange": true,
         "domain": [
          0,
          1
         ],
         "range": [
          2.5803265099201322,
          6.5521464194768155
         ],
         "tickfont": {
          "family": "Courier",
          "size": 20
         },
         "title": {
          "font": {
           "family": "Courier",
           "size": 23
          },
          "text": "log_ccr"
         },
         "type": "linear"
        }
       }
      },
      "image/png": "[encoded data removed]",
      "text/html": [
       "<div>\n",
       "        \n",
       "        \n",
       "            <div id=\"971fb2d4-02e9-4ca3-bfce-30b2abf83d8a\" class=\"plotly-graph-div\" style=\"height:600px; width:100%;\"></div>\n",
       "            <script type=\"text/javascript\">\n",
       "                require([\"plotly\"], function(Plotly) {\n",
       "                    window.PLOTLYENV=window.PLOTLYENV || {};\n",
       "                    \n",
       "                if (document.getElementById(\"971fb2d4-02e9-4ca3-bfce-30b2abf83d8a\")) {\n",
       "                    Plotly.newPlot(\n",
       "                        '971fb2d4-02e9-4ca3-bfce-30b2abf83d8a',\n",
       "                        [{\"hoverlabel\": {\"namelength\": 0}, \"hovertemplate\": \"<b>%{hovertext}</b><br><br>log_kid=%{x}<br>log_ccr=%{y}<br>round_dice=%{marker.size}<br>cid=%{text}\", \"hovertext\": [0.9, 0.783, 0.863, 0.0, 0.687, 0.0, 0.912, 0.87, 0.929, 0.905, 0.248, 0.655, 0.935, 0.009, 0.862, 0.83, 0.018, 0.527, 0.587, 0.156, 0.623], \"legendgroup\": \"\", \"marker\": {\"color\": \"#636efa\", \"size\": [0.9, 0.783, 0.863, 0.0, 0.687, 0.0, 0.912, 0.87, 0.929, 0.905, 0.248, 0.655, 0.935, 0.009, 0.862, 0.83, 0.018, 0.527, 0.587, 0.156, 0.623], \"sizemode\": \"area\", \"sizeref\": 0.0010388888888888889, \"symbol\": \"circle\"}, \"mode\": \"markers+text\", \"name\": \"\", \"showlegend\": false, \"text\": [115.0, 119.0, 121.0, 124.0, 126.0, 127.0, 134.0, 135.0, 136.0, 138.0, 140.0, 142.0, 145.0, 146.0, 147.0, 149.0, 150.0, 151.0, 152.0, 154.0, 157.0], \"type\": \"scatter\", \"x\": [6.034334817618173, 5.620687685487591, 5.77141622780752, 5.4107772333772095, 5.764541503613932, 5.5337288554975155, 5.645336777632039, 5.548147325173068, 6.26849091706603, 5.499387371006447, 5.784625136961541, 5.594707382612499, 5.750575500891999, 5.785197390598324, 5.500451921483333, 5.57913738877138, 5.839086314370724, 5.634833829660031, 5.54426033218881, 5.389816153005438, 5.976588844057581], \"xaxis\": \"x\", \"y\": [5.817249283842886, 4.984045496851437, 5.202024895104038, 2.845098040014257, 3.8221680793680175, 2.8048206787211623, 4.671737336320007, 3.7212333700172775, 6.1494309720382505, 5.059714845546422, 4.011189687609991, 4.533021750752162, 5.483879580755635, 4.207284205912198, 4.729124275258121, 3.9503161639246, 3.6972293427597176, 4.552753363545444, 5.107389757487648, 3.246252312299322, 4.030235296012245], \"yaxis\": \"y\"}],\n",
       "                        {\"font\": {\"size\": 18}, \"height\": 600, \"legend\": {\"itemsizing\": \"constant\", \"tracegroupgap\": 0}, \"margin\": {\"t\": 60}, \"template\": {\"data\": {\"bar\": [{\"error_x\": {\"color\": \"#2a3f5f\"}, \"error_y\": {\"color\": \"#2a3f5f\"}, \"marker\": {\"line\": {\"color\": \"#E5ECF6\", \"width\": 0.5}}, \"type\": \"bar\"}], \"barpolar\": [{\"marker\": {\"line\": {\"color\": \"#E5ECF6\", \"width\": 0.5}}, \"type\": \"barpolar\"}], \"carpet\": [{\"aaxis\": {\"endlinecolor\": \"#2a3f5f\", \"gridcolor\": \"white\", \"linecolor\": \"white\", \"minorgridcolor\": \"white\", \"startlinecolor\": \"#2a3f5f\"}, \"baxis\": {\"endlinecolor\": \"#2a3f5f\", \"gridcolor\": \"white\", \"linecolor\": \"white\", \"minorgridcolor\": \"white\", \"startlinecolor\": \"#2a3f5f\"}, \"type\": \"carpet\"}], \"choropleth\": [{\"colorbar\": {\"outlinewidth\": 0, \"ticks\": \"\"}, \"type\": \"choropleth\"}], \"contour\": [{\"colorbar\": {\"outlinewidth\": 0, \"ticks\": \"\"}, \"colorscale\": [[0.0, \"#0d0887\"], [0.1111111111111111, \"#46039f\"], [0.2222222222222222, \"#7201a8\"], [0.3333333333333333, \"#9c179e\"], [0.4444444444444444, \"#bd3786\"], [0.5555555555555556, \"#d8576b\"], [0.6666666666666666, \"#ed7953\"], [0.7777777777777778, \"#fb9f3a\"], [0.8888888888888888, \"#fdca26\"], [1.0, \"#f0f921\"]], \"type\": \"contour\"}], \"contourcarpet\": [{\"colorbar\": {\"outlinewidth\": 0, \"ticks\": \"\"}, \"type\": \"contourcarpet\"}], \"heatmap\": [{\"colorbar\": {\"outlinewidth\": 0, \"ticks\": \"\"}, \"colorscale\": [[0.0, \"#0d0887\"], [0.1111111111111111, \"#46039f\"], [0.2222222222222222, \"#7201a8\"], [0.3333333333333333, \"#9c179e\"], [0.4444444444444444, \"#bd3786\"], [0.5555555555555556, \"#d8576b\"], [0.6666666666666666, \"#ed7953\"], [0.7777777777777778, \"#fb9f3a\"], [0.8888888888888888, \"#fdca26\"], [1.0, \"#f0f921\"]], \"type\": \"heatmap\"}], \"heatmapgl\": [{\"colorbar\": {\"outlinewidth\": 0, \"ticks\": \"\"}, \"colorscale\": [[0.0, \"#0d0887\"], [0.1111111111111111, \"#46039f\"], [0.2222222222222222, \"#7201a8\"], [0.3333333333333333, \"#9c179e\"], [0.4444444444444444, \"#bd3786\"], [0.5555555555555556, \"#d8576b\"], [0.6666666666666666, \"#ed7953\"], [0.7777777777777778, \"#fb9f3a\"], [0.8888888888888888, \"#fdca26\"], [1.0, \"#f0f921\"]], \"type\": \"heatmapgl\"}], \"histogram\": [{\"marker\": {\"colorbar\": {\"outlinewidth\": 0, \"ticks\": \"\"}}, \"type\": \"histogram\"}], \"histogram2d\": [{\"colorbar\": {\"outlinewidth\": 0, \"ticks\": \"\"}, \"colorscale\": [[0.0, \"#0d0887\"], [0.1111111111111111, \"#46039f\"], [0.2222222222222222, \"#7201a8\"], [0.3333333333333333, \"#9c179e\"], [0.4444444444444444, \"#bd3786\"], [0.5555555555555556, \"#d8576b\"], [0.6666666666666666, \"#ed7953\"], [0.7777777777777778, \"#fb9f3a\"], [0.8888888888888888, \"#fdca26\"], [1.0, \"#f0f921\"]], \"type\": \"histogram2d\"}], \"histogram2dcontour\": [{\"colorbar\": {\"outlinewidth\": 0, \"ticks\": \"\"}, \"colorscale\": [[0.0, \"#0d0887\"], [0.1111111111111111, \"#46039f\"], [0.2222222222222222, \"#7201a8\"], [0.3333333333333333, \"#9c179e\"], [0.4444444444444444, \"#bd3786\"], [0.5555555555555556, \"#d8576b\"], [0.6666666666666666, \"#ed7953\"], [0.7777777777777778, \"#fb9f3a\"], [0.8888888888888888, \"#fdca26\"], [1.0, \"#f0f921\"]], \"type\": \"histogram2dcontour\"}], \"mesh3d\": [{\"colorbar\": {\"outlinewidth\": 0, \"ticks\": \"\"}, \"type\": \"mesh3d\"}], \"parcoords\": [{\"line\": {\"colorbar\": {\"outlinewidth\": 0, \"ticks\": \"\"}}, \"type\": \"parcoords\"}], \"scatter\": [{\"marker\": {\"colorbar\": {\"outlinewidth\": 0, \"ticks\": \"\"}}, \"type\": \"scatter\"}], \"scatter3d\": [{\"line\": {\"colorbar\": {\"outlinewidth\": 0, \"ticks\": \"\"}}, \"marker\": {\"colorbar\": {\"outlinewidth\": 0, \"ticks\": \"\"}}, \"type\": \"scatter3d\"}], \"scattercarpet\": [{\"marker\": {\"colorbar\": {\"outlinewidth\": 0, \"ticks\": \"\"}}, \"type\": \"scattercarpet\"}], \"scattergeo\": [{\"marker\": {\"colorbar\": {\"outlinewidth\": 0, \"ticks\": \"\"}}, \"type\": \"scattergeo\"}], \"scattergl\": [{\"marker\": {\"colorbar\": {\"outlinewidth\": 0, \"ticks\": \"\"}}, \"type\": \"scattergl\"}], \"scattermapbox\": [{\"marker\": {\"colorbar\": {\"outlinewidth\": 0, \"ticks\": \"\"}}, \"type\": \"scattermapbox\"}], \"scatterpolar\": [{\"marker\": {\"colorbar\": {\"outlinewidth\": 0, \"ticks\": \"\"}}, \"type\": \"scatterpolar\"}], \"scatterpolargl\": [{\"marker\": {\"colorbar\": {\"outlinewidth\": 0, \"ticks\": \"\"}}, \"type\": \"scatterpolargl\"}], \"scatterternary\": [{\"marker\": {\"colorbar\": {\"outlinewidth\": 0, \"ticks\": \"\"}}, \"type\": \"scatterternary\"}], \"surface\": [{\"colorbar\": {\"outlinewidth\": 0, \"ticks\": \"\"}, \"colorscale\": [[0.0, \"#0d0887\"], [0.1111111111111111, \"#46039f\"], [0.2222222222222222, \"#7201a8\"], [0.3333333333333333, \"#9c179e\"], [0.4444444444444444, \"#bd3786\"], [0.5555555555555556, \"#d8576b\"], [0.6666666666666666, \"#ed7953\"], [0.7777777777777778, \"#fb9f3a\"], [0.8888888888888888, \"#fdca26\"], [1.0, \"#f0f921\"]], \"type\": \"surface\"}], \"table\": [{\"cells\": {\"fill\": {\"color\": \"#EBF0F8\"}, \"line\": {\"color\": \"white\"}}, \"header\": {\"fill\": {\"color\": \"#C8D4E3\"}, \"line\": {\"color\": \"white\"}}, \"type\": \"table\"}]}, \"layout\": {\"annotationdefaults\": {\"arrowcolor\": \"#2a3f5f\", \"arrowhead\": 0, \"arrowwidth\": 1}, \"colorscale\": {\"diverging\": [[0, \"#8e0152\"], [0.1, \"#c51b7d\"], [0.2, \"#de77ae\"], [0.3, \"#f1b6da\"], [0.4, \"#fde0ef\"], [0.5, \"#f7f7f7\"], [0.6, \"#e6f5d0\"], [0.7, \"#b8e186\"], [0.8, \"#7fbc41\"], [0.9, \"#4d9221\"], [1, \"#276419\"]], \"sequential\": [[0.0, \"#0d0887\"], [0.1111111111111111, \"#46039f\"], [0.2222222222222222, \"#7201a8\"], [0.3333333333333333, \"#9c179e\"], [0.4444444444444444, \"#bd3786\"], [0.5555555555555556, \"#d8576b\"], [0.6666666666666666, \"#ed7953\"], [0.7777777777777778, \"#fb9f3a\"], [0.8888888888888888, \"#fdca26\"], [1.0, \"#f0f921\"]], \"sequentialminus\": [[0.0, \"#0d0887\"], [0.1111111111111111, \"#46039f\"], [0.2222222222222222, \"#7201a8\"], [0.3333333333333333, \"#9c179e\"], [0.4444444444444444, \"#bd3786\"], [0.5555555555555556, \"#d8576b\"], [0.6666666666666666, \"#ed7953\"], [0.7777777777777778, \"#fb9f3a\"], [0.8888888888888888, \"#fdca26\"], [1.0, \"#f0f921\"]]}, \"colorway\": [\"#636efa\", \"#EF553B\", \"#00cc96\", \"#ab63fa\", \"#FFA15A\", \"#19d3f3\", \"#FF6692\", \"#B6E880\", \"#FF97FF\", \"#FECB52\"], \"font\": {\"color\": \"#2a3f5f\"}, \"geo\": {\"bgcolor\": \"white\", \"lakecolor\": \"white\", \"landcolor\": \"#E5ECF6\", \"showlakes\": true, \"showland\": true, \"subunitcolor\": \"white\"}, \"hoverlabel\": {\"align\": \"left\"}, \"hovermode\": \"closest\", \"mapbox\": {\"style\": \"light\"}, \"paper_bgcolor\": \"white\", \"plot_bgcolor\": \"#E5ECF6\", \"polar\": {\"angularaxis\": {\"gridcolor\": \"white\", \"linecolor\": \"white\", \"ticks\": \"\"}, \"bgcolor\": \"#E5ECF6\", \"radialaxis\": {\"gridcolor\": \"white\", \"linecolor\": \"white\", \"ticks\": \"\"}}, \"scene\": {\"xaxis\": {\"backgroundcolor\": \"#E5ECF6\", \"gridcolor\": \"white\", \"gridwidth\": 2, \"linecolor\": \"white\", \"showbackground\": true, \"ticks\": \"\", \"zerolinecolor\": \"white\"}, \"yaxis\": {\"backgroundcolor\": \"#E5ECF6\", \"gridcolor\": \"white\", \"gridwidth\": 2, \"linecolor\": \"white\", \"showbackground\": true, \"ticks\": \"\", \"zerolinecolor\": \"white\"}, \"zaxis\": {\"backgroundcolor\": \"#E5ECF6\", \"gridcolor\": \"white\", \"gridwidth\": 2, \"linecolor\": \"white\", \"showbackground\": true, \"ticks\": \"\", \"zerolinecolor\": \"white\"}}, \"shapedefaults\": {\"line\": {\"color\": \"#2a3f5f\"}}, \"ternary\": {\"aaxis\": {\"gridcolor\": \"white\", \"linecolor\": \"white\", \"ticks\": \"\"}, \"baxis\": {\"gridcolor\": \"white\", \"linecolor\": \"white\", \"ticks\": \"\"}, \"bgcolor\": \"#E5ECF6\", \"caxis\": {\"gridcolor\": \"white\", \"linecolor\": \"white\", \"ticks\": \"\"}}, \"title\": {\"x\": 0.05}, \"xaxis\": {\"automargin\": true, \"gridcolor\": \"white\", \"linecolor\": \"white\", \"ticks\": \"\", \"zerolinecolor\": \"white\", \"zerolinewidth\": 2}, \"yaxis\": {\"automargin\": true, \"gridcolor\": \"white\", \"linecolor\": \"white\", \"ticks\": \"\", \"zerolinecolor\": \"white\", \"zerolinewidth\": 2}}}, \"title\": {\"font\": {\"size\": 25}, \"text\": \"CCRCC_dice_with_cid\"}, \"xaxis\": {\"anchor\": \"y\", \"domain\": [0.0, 0.98], \"tickfont\": {\"family\": \"Courier\", \"size\": 20}, \"title\": {\"font\": {\"family\": \"Courier\", \"size\": 23}, \"text\": \"log_kid\"}}, \"yaxis\": {\"anchor\": \"x\", \"domain\": [0.0, 1.0], \"tickfont\": {\"family\": \"Courier\", \"size\": 20}, \"title\": {\"font\": {\"family\": \"Courier\", \"size\": 23}, \"text\": \"log_ccr\"}}},\n",
       "                        {\"responsive\": true}\n",
       "                    ).then(function(){\n",
       "                            \n",
       "var gd = document.getElementById('971fb2d4-02e9-4ca3-bfce-30b2abf83d8a');\n",
       "var x = new MutationObserver(function (mutations, observer) {{\n",
       "        var display = window.getComputedStyle(gd).display;\n",
       "        if (!display || display === 'none') {{\n",
       "            console.log([gd, 'removed!']);\n",
       "            Plotly.purge(gd);\n",
       "            observer.disconnect();\n",
       "        }}\n",
       "}});\n",
       "\n",
       "// Listen for the removal of the full notebook cells\n",
       "var notebookContainer = gd.closest('#notebook-container');\n",
       "if (notebookContainer) {{\n",
       "    x.observe(notebookContainer, {childList: true});\n",
       "}}\n",
       "\n",
       "// Listen for the clearing of the current output cell\n",
       "var outputEl = gd.closest('.output');\n",
       "if (outputEl) {{\n",
       "    x.observe(outputEl, {childList: true});\n",
       "}}\n",
       "\n",
       "                        })\n",
       "                };\n",
       "                });\n",
       "            </script>\n",
       "        </div>"
      ]
     },
     "metadata": {},
     "output_type": "display_data"
    }
   ],
   "source": [
    "fig = px.scatter(ccr_df, x=\"log_kid\", y=\"log_ccr\",text='cid', size='round_dice',size_max=30,hover_name='round_dice')\n",
    "fig.update_layout(title_text=\"CCRCC_dice_with_cid\",titlefont={\"size\": 25},font={'size':18})\n",
    "fig.update_xaxes(title_font=dict(size=23, family='Courier'))\n",
    "fig.update_yaxes(tickfont=dict(family='Courier', size=20))\n",
    "fig.update_xaxes(tickfont=dict(family='Courier', size=20))\n",
    "fig.update_yaxes(title_font=dict(size=23, family='Courier'))\n",
    "fig.show()"
   ]
  },
  {
   "cell_type": "markdown",
   "metadata": {},
   "source": [
    "### cyst"
   ]
  },
  {
   "cell_type": "code",
   "execution_count": 172,
   "metadata": {},
   "outputs": [
    {
     "data": {
      "application/vnd.plotly.v1+json": {
       "config": {
        "plotlyServerURL": "https://plot.ly"
       },
       "data": [
        {
         "hoverlabel": {
          "namelength": 0
         },
         "hovertemplate": "<b>%{hovertext}</b><br><br>log_kid=%{x}<br>log_cys=%{y}<br>round_dice=%{text}",
         "hovertext": [
          135,
          136,
          138,
          142,
          145,
          146,
          147,
          149,
          151,
          152,
          154,
          157,
          159
         ],
         "legendgroup": "",
         "marker": {
          "color": "#636efa",
          "size": [
           0.632,
           0,
           0,
           0,
           0,
           0,
           0,
           0.448,
           0.541,
           0,
           0.457,
           0.782,
           0.027
          ],
          "sizemode": "area",
          "sizeref": 0.0008688888888888889,
          "symbol": "circle"
         },
         "mode": "markers+text",
         "name": "",
         "showlegend": false,
         "text": [
          0.632,
          0,
          0,
          0,
          0,
          0,
          0,
          0.448,
          0.541,
          0,
          0.457,
          0.782,
          0.027
         ],
         "type": "scatter",
         "x": [
          5.548147325173068,
          6.26849091706603,
          5.499387371006447,
          5.594707382612499,
          5.750575500891999,
          5.785197390598324,
          5.500451921483333,
          5.57913738877138,
          5.634833829660031,
          5.54426033218881,
          5.389816153005438,
          5.976588844057581,
          5.346876941674333
         ],
         "xaxis": "x",
         "y": [
          3.8263987821876175,
          2.24551266781415,
          2.3541084391474008,
          2.841359470454855,
          3.2995072987004876,
          2.4183012913197452,
          2.214843848047698,
          3.104145550554008,
          4.742890021953482,
          2.359835482339888,
          3.03261876085072,
          5.1522761105633705,
          4.896013359121221
         ],
         "yaxis": "y"
        }
       ],
       "layout": {
        "autosize": true,
        "font": {
         "size": 18
        },
        "legend": {
         "itemsizing": "constant",
         "tracegroupgap": 0
        },
        "margin": {
         "t": 60
        },
        "template": {
         "data": {
          "bar": [
           {
            "error_x": {
             "color": "#2a3f5f"
            },
            "error_y": {
             "color": "#2a3f5f"
            },
            "marker": {
             "line": {
              "color": "#E5ECF6",
              "width": 0.5
             }
            },
            "type": "bar"
           }
          ],
          "barpolar": [
           {
            "marker": {
             "line": {
              "color": "#E5ECF6",
              "width": 0.5
             }
            },
            "type": "barpolar"
           }
          ],
          "carpet": [
           {
            "aaxis": {
             "endlinecolor": "#2a3f5f",
             "gridcolor": "white",
             "linecolor": "white",
             "minorgridcolor": "white",
             "startlinecolor": "#2a3f5f"
            },
            "baxis": {
             "endlinecolor": "#2a3f5f",
             "gridcolor": "white",
             "linecolor": "white",
             "minorgridcolor": "white",
             "startlinecolor": "#2a3f5f"
            },
            "type": "carpet"
           }
          ],
          "choropleth": [
           {
            "colorbar": {
             "outlinewidth": 0,
             "ticks": ""
            },
            "type": "choropleth"
           }
          ],
          "contour": [
           {
            "colorbar": {
             "outlinewidth": 0,
             "ticks": ""
            },
            "colorscale": [
             [
              0,
              "#0d0887"
             ],
             [
              0.1111111111111111,
              "#46039f"
             ],
             [
              0.2222222222222222,
              "#7201a8"
             ],
             [
              0.3333333333333333,
              "#9c179e"
             ],
             [
              0.4444444444444444,
              "#bd3786"
             ],
             [
              0.5555555555555556,
              "#d8576b"
             ],
             [
              0.6666666666666666,
              "#ed7953"
             ],
             [
              0.7777777777777778,
              "#fb9f3a"
             ],
             [
              0.8888888888888888,
              "#fdca26"
             ],
             [
              1,
              "#f0f921"
             ]
            ],
            "type": "contour"
           }
          ],
          "contourcarpet": [
           {
            "colorbar": {
             "outlinewidth": 0,
             "ticks": ""
            },
            "type": "contourcarpet"
           }
          ],
          "heatmap": [
           {
            "colorbar": {
             "outlinewidth": 0,
             "ticks": ""
            },
            "colorscale": [
             [
              0,
              "#0d0887"
             ],
             [
              0.1111111111111111,
              "#46039f"
             ],
             [
              0.2222222222222222,
              "#7201a8"
             ],
             [
              0.3333333333333333,
              "#9c179e"
             ],
             [
              0.4444444444444444,
              "#bd3786"
             ],
             [
              0.5555555555555556,
              "#d8576b"
             ],
             [
              0.6666666666666666,
              "#ed7953"
             ],
             [
              0.7777777777777778,
              "#fb9f3a"
             ],
             [
              0.8888888888888888,
              "#fdca26"
             ],
             [
              1,
              "#f0f921"
             ]
            ],
            "type": "heatmap"
           }
          ],
          "heatmapgl": [
           {
            "colorbar": {
             "outlinewidth": 0,
             "ticks": ""
            },
            "colorscale": [
             [
              0,
              "#0d0887"
             ],
             [
              0.1111111111111111,
              "#46039f"
             ],
             [
              0.2222222222222222,
              "#7201a8"
             ],
             [
              0.3333333333333333,
              "#9c179e"
             ],
             [
              0.4444444444444444,
              "#bd3786"
             ],
             [
              0.5555555555555556,
              "#d8576b"
             ],
             [
              0.6666666666666666,
              "#ed7953"
             ],
             [
              0.7777777777777778,
              "#fb9f3a"
             ],
             [
              0.8888888888888888,
              "#fdca26"
             ],
             [
              1,
              "#f0f921"
             ]
            ],
            "type": "heatmapgl"
           }
          ],
          "histogram": [
           {
            "marker": {
             "colorbar": {
              "outlinewidth": 0,
              "ticks": ""
             }
            },
            "type": "histogram"
           }
          ],
          "histogram2d": [
           {
            "colorbar": {
             "outlinewidth": 0,
             "ticks": ""
            },
            "colorscale": [
             [
              0,
              "#0d0887"
             ],
             [
              0.1111111111111111,
              "#46039f"
             ],
             [
              0.2222222222222222,
              "#7201a8"
             ],
             [
              0.3333333333333333,
              "#9c179e"
             ],
             [
              0.4444444444444444,
              "#bd3786"
             ],
             [
              0.5555555555555556,
              "#d8576b"
             ],
             [
              0.6666666666666666,
              "#ed7953"
             ],
             [
              0.7777777777777778,
              "#fb9f3a"
             ],
             [
              0.8888888888888888,
              "#fdca26"
             ],
             [
              1,
              "#f0f921"
             ]
            ],
            "type": "histogram2d"
           }
          ],
          "histogram2dcontour": [
           {
            "colorbar": {
             "outlinewidth": 0,
             "ticks": ""
            },
            "colorscale": [
             [
              0,
              "#0d0887"
             ],
             [
              0.1111111111111111,
              "#46039f"
             ],
             [
              0.2222222222222222,
              "#7201a8"
             ],
             [
              0.3333333333333333,
              "#9c179e"
             ],
             [
              0.4444444444444444,
              "#bd3786"
             ],
             [
              0.5555555555555556,
              "#d8576b"
             ],
             [
              0.6666666666666666,
              "#ed7953"
             ],
             [
              0.7777777777777778,
              "#fb9f3a"
             ],
             [
              0.8888888888888888,
              "#fdca26"
             ],
             [
              1,
              "#f0f921"
             ]
            ],
            "type": "histogram2dcontour"
           }
          ],
          "mesh3d": [
           {
            "colorbar": {
             "outlinewidth": 0,
             "ticks": ""
            },
            "type": "mesh3d"
           }
          ],
          "parcoords": [
           {
            "line": {
             "colorbar": {
              "outlinewidth": 0,
              "ticks": ""
             }
            },
            "type": "parcoords"
           }
          ],
          "scatter": [
           {
            "marker": {
             "colorbar": {
              "outlinewidth": 0,
              "ticks": ""
             }
            },
            "type": "scatter"
           }
          ],
          "scatter3d": [
           {
            "line": {
             "colorbar": {
              "outlinewidth": 0,
              "ticks": ""
             }
            },
            "marker": {
             "colorbar": {
              "outlinewidth": 0,
              "ticks": ""
             }
            },
            "type": "scatter3d"
           }
          ],
          "scattercarpet": [
           {
            "marker": {
             "colorbar": {
              "outlinewidth": 0,
              "ticks": ""
             }
            },
            "type": "scattercarpet"
           }
          ],
          "scattergeo": [
           {
            "marker": {
             "colorbar": {
              "outlinewidth": 0,
              "ticks": ""
             }
            },
            "type": "scattergeo"
           }
          ],
          "scattergl": [
           {
            "marker": {
             "colorbar": {
              "outlinewidth": 0,
              "ticks": ""
             }
            },
            "type": "scattergl"
           }
          ],
          "scattermapbox": [
           {
            "marker": {
             "colorbar": {
              "outlinewidth": 0,
              "ticks": ""
             }
            },
            "type": "scattermapbox"
           }
          ],
          "scatterpolar": [
           {
            "marker": {
             "colorbar": {
              "outlinewidth": 0,
              "ticks": ""
             }
            },
            "type": "scatterpolar"
           }
          ],
          "scatterpolargl": [
           {
            "marker": {
             "colorbar": {
              "outlinewidth": 0,
              "ticks": ""
             }
            },
            "type": "scatterpolargl"
           }
          ],
          "scatterternary": [
           {
            "marker": {
             "colorbar": {
              "outlinewidth": 0,
              "ticks": ""
             }
            },
            "type": "scatterternary"
           }
          ],
          "surface": [
           {
            "colorbar": {
             "outlinewidth": 0,
             "ticks": ""
            },
            "colorscale": [
             [
              0,
              "#0d0887"
             ],
             [
              0.1111111111111111,
              "#46039f"
             ],
             [
              0.2222222222222222,
              "#7201a8"
             ],
             [
              0.3333333333333333,
              "#9c179e"
             ],
             [
              0.4444444444444444,
              "#bd3786"
             ],
             [
              0.5555555555555556,
              "#d8576b"
             ],
             [
              0.6666666666666666,
              "#ed7953"
             ],
             [
              0.7777777777777778,
              "#fb9f3a"
             ],
             [
              0.8888888888888888,
              "#fdca26"
             ],
             [
              1,
              "#f0f921"
             ]
            ],
            "type": "surface"
           }
          ],
          "table": [
           {
            "cells": {
             "fill": {
              "color": "#EBF0F8"
             },
             "line": {
              "color": "white"
             }
            },
            "header": {
             "fill": {
              "color": "#C8D4E3"
             },
             "line": {
              "color": "white"
             }
            },
            "type": "table"
           }
          ]
         },
         "layout": {
          "annotationdefaults": {
           "arrowcolor": "#2a3f5f",
           "arrowhead": 0,
           "arrowwidth": 1
          },
          "colorscale": {
           "diverging": [
            [
             0,
             "#8e0152"
            ],
            [
             0.1,
             "#c51b7d"
            ],
            [
             0.2,
             "#de77ae"
            ],
            [
             0.3,
             "#f1b6da"
            ],
            [
             0.4,
             "#fde0ef"
            ],
            [
             0.5,
             "#f7f7f7"
            ],
            [
             0.6,
             "#e6f5d0"
            ],
            [
             0.7,
             "#b8e186"
            ],
            [
             0.8,
             "#7fbc41"
            ],
            [
             0.9,
             "#4d9221"
            ],
            [
             1,
             "#276419"
            ]
           ],
           "sequential": [
            [
             0,
             "#0d0887"
            ],
            [
             0.1111111111111111,
             "#46039f"
            ],
            [
             0.2222222222222222,
             "#7201a8"
            ],
            [
             0.3333333333333333,
             "#9c179e"
            ],
            [
             0.4444444444444444,
             "#bd3786"
            ],
            [
             0.5555555555555556,
             "#d8576b"
            ],
            [
             0.6666666666666666,
             "#ed7953"
            ],
            [
             0.7777777777777778,
             "#fb9f3a"
            ],
            [
             0.8888888888888888,
             "#fdca26"
            ],
            [
             1,
             "#f0f921"
            ]
           ],
           "sequentialminus": [
            [
             0,
             "#0d0887"
            ],
            [
             0.1111111111111111,
             "#46039f"
            ],
            [
             0.2222222222222222,
             "#7201a8"
            ],
            [
             0.3333333333333333,
             "#9c179e"
            ],
            [
             0.4444444444444444,
             "#bd3786"
            ],
            [
             0.5555555555555556,
             "#d8576b"
            ],
            [
             0.6666666666666666,
             "#ed7953"
            ],
            [
             0.7777777777777778,
             "#fb9f3a"
            ],
            [
             0.8888888888888888,
             "#fdca26"
            ],
            [
             1,
             "#f0f921"
            ]
           ]
          },
          "colorway": [
           "#636efa",
           "#EF553B",
           "#00cc96",
           "#ab63fa",
           "#FFA15A",
           "#19d3f3",
           "#FF6692",
           "#B6E880",
           "#FF97FF",
           "#FECB52"
          ],
          "font": {
           "color": "#2a3f5f"
          },
          "geo": {
           "bgcolor": "white",
           "lakecolor": "white",
           "landcolor": "#E5ECF6",
           "showlakes": true,
           "showland": true,
           "subunitcolor": "white"
          },
          "hoverlabel": {
           "align": "left"
          },
          "hovermode": "closest",
          "mapbox": {
           "style": "light"
          },
          "paper_bgcolor": "white",
          "plot_bgcolor": "#E5ECF6",
          "polar": {
           "angularaxis": {
            "gridcolor": "white",
            "linecolor": "white",
            "ticks": ""
           },
           "bgcolor": "#E5ECF6",
           "radialaxis": {
            "gridcolor": "white",
            "linecolor": "white",
            "ticks": ""
           }
          },
          "scene": {
           "xaxis": {
            "backgroundcolor": "#E5ECF6",
            "gridcolor": "white",
            "gridwidth": 2,
            "linecolor": "white",
            "showbackground": true,
            "ticks": "",
            "zerolinecolor": "white"
           },
           "yaxis": {
            "backgroundcolor": "#E5ECF6",
            "gridcolor": "white",
            "gridwidth": 2,
            "linecolor": "white",
            "showbackground": true,
            "ticks": "",
            "zerolinecolor": "white"
           },
           "zaxis": {
            "backgroundcolor": "#E5ECF6",
            "gridcolor": "white",
            "gridwidth": 2,
            "linecolor": "white",
            "showbackground": true,
            "ticks": "",
            "zerolinecolor": "white"
           }
          },
          "shapedefaults": {
           "line": {
            "color": "#2a3f5f"
           }
          },
          "ternary": {
           "aaxis": {
            "gridcolor": "white",
            "linecolor": "white",
            "ticks": ""
           },
           "baxis": {
            "gridcolor": "white",
            "linecolor": "white",
            "ticks": ""
           },
           "bgcolor": "#E5ECF6",
           "caxis": {
            "gridcolor": "white",
            "linecolor": "white",
            "ticks": ""
           }
          },
          "title": {
           "x": 0.05
          },
          "xaxis": {
           "automargin": true,
           "gridcolor": "white",
           "linecolor": "white",
           "ticks": "",
           "zerolinecolor": "white",
           "zerolinewidth": 2
          },
          "yaxis": {
           "automargin": true,
           "gridcolor": "white",
           "linecolor": "white",
           "ticks": "",
           "zerolinecolor": "white",
           "zerolinewidth": 2
          }
         }
        },
        "title": {
         "font": {
          "size": 25
         },
         "text": "Cyst_dice"
        },
        "xaxis": {
         "anchor": "y",
         "autorange": true,
         "domain": [
          0,
          0.98
         ],
         "range": [
          5.2893157973792775,
          6.324194866986199
         ],
         "tickfont": {
          "family": "Courier",
          "size": 20
         },
         "title": {
          "font": {
           "family": "Courier",
           "size": 23
          },
          "text": "log_kid"
         },
         "type": "linear"
        },
        "yaxis": {
         "anchor": "x",
         "autorange": true,
         "domain": [
          0,
          1
         ],
         "range": [
          2.0176411433459176,
          5.5066120726851056
         ],
         "tickfont": {
          "family": "Courier",
          "size": 20
         },
         "title": {
          "font": {
           "family": "Courier",
           "size": 23
          },
          "text": "log_cys"
         },
         "type": "linear"
        }
       }
      },
      "image/png": "[encoded data removed]",
      "text/html": [
       "<div>\n",
       "        \n",
       "        \n",
       "            <div id=\"f9b9fcf1-01c3-41bb-ab3b-c4f14677bc38\" class=\"plotly-graph-div\" style=\"height:600px; width:100%;\"></div>\n",
       "            <script type=\"text/javascript\">\n",
       "                require([\"plotly\"], function(Plotly) {\n",
       "                    window.PLOTLYENV=window.PLOTLYENV || {};\n",
       "                    \n",
       "                if (document.getElementById(\"f9b9fcf1-01c3-41bb-ab3b-c4f14677bc38\")) {\n",
       "                    Plotly.newPlot(\n",
       "                        'f9b9fcf1-01c3-41bb-ab3b-c4f14677bc38',\n",
       "                        [{\"hoverlabel\": {\"namelength\": 0}, \"hovertemplate\": \"<b>%{hovertext}</b><br><br>log_kid=%{x}<br>log_cys=%{y}<br>round_dice=%{text}\", \"hovertext\": [135.0, 136.0, 138.0, 142.0, 145.0, 146.0, 147.0, 149.0, 151.0, 152.0, 154.0, 157.0, 159.0], \"legendgroup\": \"\", \"marker\": {\"color\": \"#636efa\", \"size\": [0.632, 0.0, 0.0, 0.0, 0.0, 0.0, 0.0, 0.448, 0.541, 0.0, 0.457, 0.782, 0.027], \"sizemode\": \"area\", \"sizeref\": 0.0008688888888888889, \"symbol\": \"circle\"}, \"mode\": \"markers+text\", \"name\": \"\", \"showlegend\": false, \"text\": [0.632, 0.0, 0.0, 0.0, 0.0, 0.0, 0.0, 0.448, 0.541, 0.0, 0.457, 0.782, 0.027], \"type\": \"scatter\", \"x\": [5.548147325173068, 6.26849091706603, 5.499387371006447, 5.594707382612499, 5.750575500891999, 5.785197390598324, 5.500451921483333, 5.57913738877138, 5.634833829660031, 5.54426033218881, 5.389816153005438, 5.976588844057581, 5.346876941674333], \"xaxis\": \"x\", \"y\": [3.8263987821876175, 2.24551266781415, 2.3541084391474008, 2.841359470454855, 3.2995072987004876, 2.4183012913197452, 2.214843848047698, 3.104145550554008, 4.742890021953482, 2.359835482339888, 3.03261876085072, 5.1522761105633705, 4.896013359121221], \"yaxis\": \"y\"}],\n",
       "                        {\"font\": {\"size\": 18}, \"height\": 600, \"legend\": {\"itemsizing\": \"constant\", \"tracegroupgap\": 0}, \"margin\": {\"t\": 60}, \"template\": {\"data\": {\"bar\": [{\"error_x\": {\"color\": \"#2a3f5f\"}, \"error_y\": {\"color\": \"#2a3f5f\"}, \"marker\": {\"line\": {\"color\": \"#E5ECF6\", \"width\": 0.5}}, \"type\": \"bar\"}], \"barpolar\": [{\"marker\": {\"line\": {\"color\": \"#E5ECF6\", \"width\": 0.5}}, \"type\": \"barpolar\"}], \"carpet\": [{\"aaxis\": {\"endlinecolor\": \"#2a3f5f\", \"gridcolor\": \"white\", \"linecolor\": \"white\", \"minorgridcolor\": \"white\", \"startlinecolor\": \"#2a3f5f\"}, \"baxis\": {\"endlinecolor\": \"#2a3f5f\", \"gridcolor\": \"white\", \"linecolor\": \"white\", \"minorgridcolor\": \"white\", \"startlinecolor\": \"#2a3f5f\"}, \"type\": \"carpet\"}], \"choropleth\": [{\"colorbar\": {\"outlinewidth\": 0, \"ticks\": \"\"}, \"type\": \"choropleth\"}], \"contour\": [{\"colorbar\": {\"outlinewidth\": 0, \"ticks\": \"\"}, \"colorscale\": [[0.0, \"#0d0887\"], [0.1111111111111111, \"#46039f\"], [0.2222222222222222, \"#7201a8\"], [0.3333333333333333, \"#9c179e\"], [0.4444444444444444, \"#bd3786\"], [0.5555555555555556, \"#d8576b\"], [0.6666666666666666, \"#ed7953\"], [0.7777777777777778, \"#fb9f3a\"], [0.8888888888888888, \"#fdca26\"], [1.0, \"#f0f921\"]], \"type\": \"contour\"}], \"contourcarpet\": [{\"colorbar\": {\"outlinewidth\": 0, \"ticks\": \"\"}, \"type\": \"contourcarpet\"}], \"heatmap\": [{\"colorbar\": {\"outlinewidth\": 0, \"ticks\": \"\"}, \"colorscale\": [[0.0, \"#0d0887\"], [0.1111111111111111, \"#46039f\"], [0.2222222222222222, \"#7201a8\"], [0.3333333333333333, \"#9c179e\"], [0.4444444444444444, \"#bd3786\"], [0.5555555555555556, \"#d8576b\"], [0.6666666666666666, \"#ed7953\"], [0.7777777777777778, \"#fb9f3a\"], [0.8888888888888888, \"#fdca26\"], [1.0, \"#f0f921\"]], \"type\": \"heatmap\"}], \"heatmapgl\": [{\"colorbar\": {\"outlinewidth\": 0, \"ticks\": \"\"}, \"colorscale\": [[0.0, \"#0d0887\"], [0.1111111111111111, \"#46039f\"], [0.2222222222222222, \"#7201a8\"], [0.3333333333333333, \"#9c179e\"], [0.4444444444444444, \"#bd3786\"], [0.5555555555555556, \"#d8576b\"], [0.6666666666666666, \"#ed7953\"], [0.7777777777777778, \"#fb9f3a\"], [0.8888888888888888, \"#fdca26\"], [1.0, \"#f0f921\"]], \"type\": \"heatmapgl\"}], \"histogram\": [{\"marker\": {\"colorbar\": {\"outlinewidth\": 0, \"ticks\": \"\"}}, \"type\": \"histogram\"}], \"histogram2d\": [{\"colorbar\": {\"outlinewidth\": 0, \"ticks\": \"\"}, \"colorscale\": [[0.0, \"#0d0887\"], [0.1111111111111111, \"#46039f\"], [0.2222222222222222, \"#7201a8\"], [0.3333333333333333, \"#9c179e\"], [0.4444444444444444, \"#bd3786\"], [0.5555555555555556, \"#d8576b\"], [0.6666666666666666, \"#ed7953\"], [0.7777777777777778, \"#fb9f3a\"], [0.8888888888888888, \"#fdca26\"], [1.0, \"#f0f921\"]], \"type\": \"histogram2d\"}], \"histogram2dcontour\": [{\"colorbar\": {\"outlinewidth\": 0, \"ticks\": \"\"}, \"colorscale\": [[0.0, \"#0d0887\"], [0.1111111111111111, \"#46039f\"], [0.2222222222222222, \"#7201a8\"], [0.3333333333333333, \"#9c179e\"], [0.4444444444444444, \"#bd3786\"], [0.5555555555555556, \"#d8576b\"], [0.6666666666666666, \"#ed7953\"], [0.7777777777777778, \"#fb9f3a\"], [0.8888888888888888, \"#fdca26\"], [1.0, \"#f0f921\"]], \"type\": \"histogram2dcontour\"}], \"mesh3d\": [{\"colorbar\": {\"outlinewidth\": 0, \"ticks\": \"\"}, \"type\": \"mesh3d\"}], \"parcoords\": [{\"line\": {\"colorbar\": {\"outlinewidth\": 0, \"ticks\": \"\"}}, \"type\": \"parcoords\"}], \"scatter\": [{\"marker\": {\"colorbar\": {\"outlinewidth\": 0, \"ticks\": \"\"}}, \"type\": \"scatter\"}], \"scatter3d\": [{\"line\": {\"colorbar\": {\"outlinewidth\": 0, \"ticks\": \"\"}}, \"marker\": {\"colorbar\": {\"outlinewidth\": 0, \"ticks\": \"\"}}, \"type\": \"scatter3d\"}], \"scattercarpet\": [{\"marker\": {\"colorbar\": {\"outlinewidth\": 0, \"ticks\": \"\"}}, \"type\": \"scattercarpet\"}], \"scattergeo\": [{\"marker\": {\"colorbar\": {\"outlinewidth\": 0, \"ticks\": \"\"}}, \"type\": \"scattergeo\"}], \"scattergl\": [{\"marker\": {\"colorbar\": {\"outlinewidth\": 0, \"ticks\": \"\"}}, \"type\": \"scattergl\"}], \"scattermapbox\": [{\"marker\": {\"colorbar\": {\"outlinewidth\": 0, \"ticks\": \"\"}}, \"type\": \"scattermapbox\"}], \"scatterpolar\": [{\"marker\": {\"colorbar\": {\"outlinewidth\": 0, \"ticks\": \"\"}}, \"type\": \"scatterpolar\"}], \"scatterpolargl\": [{\"marker\": {\"colorbar\": {\"outlinewidth\": 0, \"ticks\": \"\"}}, \"type\": \"scatterpolargl\"}], \"scatterternary\": [{\"marker\": {\"colorbar\": {\"outlinewidth\": 0, \"ticks\": \"\"}}, \"type\": \"scatterternary\"}], \"surface\": [{\"colorbar\": {\"outlinewidth\": 0, \"ticks\": \"\"}, \"colorscale\": [[0.0, \"#0d0887\"], [0.1111111111111111, \"#46039f\"], [0.2222222222222222, \"#7201a8\"], [0.3333333333333333, \"#9c179e\"], [0.4444444444444444, \"#bd3786\"], [0.5555555555555556, \"#d8576b\"], [0.6666666666666666, \"#ed7953\"], [0.7777777777777778, \"#fb9f3a\"], [0.8888888888888888, \"#fdca26\"], [1.0, \"#f0f921\"]], \"type\": \"surface\"}], \"table\": [{\"cells\": {\"fill\": {\"color\": \"#EBF0F8\"}, \"line\": {\"color\": \"white\"}}, \"header\": {\"fill\": {\"color\": \"#C8D4E3\"}, \"line\": {\"color\": \"white\"}}, \"type\": \"table\"}]}, \"layout\": {\"annotationdefaults\": {\"arrowcolor\": \"#2a3f5f\", \"arrowhead\": 0, \"arrowwidth\": 1}, \"colorscale\": {\"diverging\": [[0, \"#8e0152\"], [0.1, \"#c51b7d\"], [0.2, \"#de77ae\"], [0.3, \"#f1b6da\"], [0.4, \"#fde0ef\"], [0.5, \"#f7f7f7\"], [0.6, \"#e6f5d0\"], [0.7, \"#b8e186\"], [0.8, \"#7fbc41\"], [0.9, \"#4d9221\"], [1, \"#276419\"]], \"sequential\": [[0.0, \"#0d0887\"], [0.1111111111111111, \"#46039f\"], [0.2222222222222222, \"#7201a8\"], [0.3333333333333333, \"#9c179e\"], [0.4444444444444444, \"#bd3786\"], [0.5555555555555556, \"#d8576b\"], [0.6666666666666666, \"#ed7953\"], [0.7777777777777778, \"#fb9f3a\"], [0.8888888888888888, \"#fdca26\"], [1.0, \"#f0f921\"]], \"sequentialminus\": [[0.0, \"#0d0887\"], [0.1111111111111111, \"#46039f\"], [0.2222222222222222, \"#7201a8\"], [0.3333333333333333, \"#9c179e\"], [0.4444444444444444, \"#bd3786\"], [0.5555555555555556, \"#d8576b\"], [0.6666666666666666, \"#ed7953\"], [0.7777777777777778, \"#fb9f3a\"], [0.8888888888888888, \"#fdca26\"], [1.0, \"#f0f921\"]]}, \"colorway\": [\"#636efa\", \"#EF553B\", \"#00cc96\", \"#ab63fa\", \"#FFA15A\", \"#19d3f3\", \"#FF6692\", \"#B6E880\", \"#FF97FF\", \"#FECB52\"], \"font\": {\"color\": \"#2a3f5f\"}, \"geo\": {\"bgcolor\": \"white\", \"lakecolor\": \"white\", \"landcolor\": \"#E5ECF6\", \"showlakes\": true, \"showland\": true, \"subunitcolor\": \"white\"}, \"hoverlabel\": {\"align\": \"left\"}, \"hovermode\": \"closest\", \"mapbox\": {\"style\": \"light\"}, \"paper_bgcolor\": \"white\", \"plot_bgcolor\": \"#E5ECF6\", \"polar\": {\"angularaxis\": {\"gridcolor\": \"white\", \"linecolor\": \"white\", \"ticks\": \"\"}, \"bgcolor\": \"#E5ECF6\", \"radialaxis\": {\"gridcolor\": \"white\", \"linecolor\": \"white\", \"ticks\": \"\"}}, \"scene\": {\"xaxis\": {\"backgroundcolor\": \"#E5ECF6\", \"gridcolor\": \"white\", \"gridwidth\": 2, \"linecolor\": \"white\", \"showbackground\": true, \"ticks\": \"\", \"zerolinecolor\": \"white\"}, \"yaxis\": {\"backgroundcolor\": \"#E5ECF6\", \"gridcolor\": \"white\", \"gridwidth\": 2, \"linecolor\": \"white\", \"showbackground\": true, \"ticks\": \"\", \"zerolinecolor\": \"white\"}, \"zaxis\": {\"backgroundcolor\": \"#E5ECF6\", \"gridcolor\": \"white\", \"gridwidth\": 2, \"linecolor\": \"white\", \"showbackground\": true, \"ticks\": \"\", \"zerolinecolor\": \"white\"}}, \"shapedefaults\": {\"line\": {\"color\": \"#2a3f5f\"}}, \"ternary\": {\"aaxis\": {\"gridcolor\": \"white\", \"linecolor\": \"white\", \"ticks\": \"\"}, \"baxis\": {\"gridcolor\": \"white\", \"linecolor\": \"white\", \"ticks\": \"\"}, \"bgcolor\": \"#E5ECF6\", \"caxis\": {\"gridcolor\": \"white\", \"linecolor\": \"white\", \"ticks\": \"\"}}, \"title\": {\"x\": 0.05}, \"xaxis\": {\"automargin\": true, \"gridcolor\": \"white\", \"linecolor\": \"white\", \"ticks\": \"\", \"zerolinecolor\": \"white\", \"zerolinewidth\": 2}, \"yaxis\": {\"automargin\": true, \"gridcolor\": \"white\", \"linecolor\": \"white\", \"ticks\": \"\", \"zerolinecolor\": \"white\", \"zerolinewidth\": 2}}}, \"title\": {\"font\": {\"size\": 25}, \"text\": \"Cyst_dice\"}, \"xaxis\": {\"anchor\": \"y\", \"domain\": [0.0, 0.98], \"tickfont\": {\"family\": \"Courier\", \"size\": 20}, \"title\": {\"font\": {\"family\": \"Courier\", \"size\": 23}, \"text\": \"log_kid\"}}, \"yaxis\": {\"anchor\": \"x\", \"domain\": [0.0, 1.0], \"tickfont\": {\"family\": \"Courier\", \"size\": 20}, \"title\": {\"font\": {\"family\": \"Courier\", \"size\": 23}, \"text\": \"log_cys\"}}},\n",
       "                        {\"responsive\": true}\n",
       "                    ).then(function(){\n",
       "                            \n",
       "var gd = document.getElementById('f9b9fcf1-01c3-41bb-ab3b-c4f14677bc38');\n",
       "var x = new MutationObserver(function (mutations, observer) {{\n",
       "        var display = window.getComputedStyle(gd).display;\n",
       "        if (!display || display === 'none') {{\n",
       "            console.log([gd, 'removed!']);\n",
       "            Plotly.purge(gd);\n",
       "            observer.disconnect();\n",
       "        }}\n",
       "}});\n",
       "\n",
       "// Listen for the removal of the full notebook cells\n",
       "var notebookContainer = gd.closest('#notebook-container');\n",
       "if (notebookContainer) {{\n",
       "    x.observe(notebookContainer, {childList: true});\n",
       "}}\n",
       "\n",
       "// Listen for the clearing of the current output cell\n",
       "var outputEl = gd.closest('.output');\n",
       "if (outputEl) {{\n",
       "    x.observe(outputEl, {childList: true});\n",
       "}}\n",
       "\n",
       "                        })\n",
       "                };\n",
       "                });\n",
       "            </script>\n",
       "        </div>"
      ]
     },
     "metadata": {},
     "output_type": "display_data"
    }
   ],
   "source": [
    "fig = px.scatter(cys_df, x=\"log_kid\", y=\"log_cys\",text='round_dice', size='round_dice',size_max=30,hover_name='cid')\n",
    "fig.update_layout(title_text=\"Cyst_dice\",titlefont={\"size\": 25},font={'size':18})\n",
    "fig.update_xaxes(title_font=dict(size=23, family='Courier'))\n",
    "fig.update_yaxes(tickfont=dict(family='Courier', size=20))\n",
    "fig.update_xaxes(tickfont=dict(family='Courier', size=20))\n",
    "fig.update_yaxes(title_font=dict(size=23, family='Courier'))\n",
    "fig.show()"
   ]
  },
  {
   "cell_type": "code",
   "execution_count": 176,
   "metadata": {},
   "outputs": [
    {
     "data": {
      "application/vnd.plotly.v1+json": {
       "config": {
        "plotlyServerURL": "https://plot.ly"
       },
       "data": [
        {
         "hoverlabel": {
          "namelength": 0
         },
         "hovertemplate": "<b>%{hovertext}</b><br><br>log_kid=%{x}<br>log_cys=%{y}<br>round_dice=%{marker.size}<br>cid=%{text}",
         "hovertext": [
          135,
          136,
          138,
          142,
          145,
          146,
          147,
          149,
          151,
          152,
          154,
          157,
          159
         ],
         "legendgroup": "",
         "marker": {
          "color": "#636efa",
          "size": [
           0.632,
           0,
           0,
           0,
           0,
           0,
           0,
           0.448,
           0.541,
           0,
           0.457,
           0.782,
           0.027
          ],
          "sizemode": "area",
          "sizeref": 0.0008688888888888889,
          "symbol": "circle"
         },
         "mode": "markers+text",
         "name": "",
         "showlegend": false,
         "text": [
          135,
          136,
          138,
          142,
          145,
          146,
          147,
          149,
          151,
          152,
          154,
          157,
          159
         ],
         "type": "scatter",
         "x": [
          5.548147325173068,
          6.26849091706603,
          5.499387371006447,
          5.594707382612499,
          5.750575500891999,
          5.785197390598324,
          5.500451921483333,
          5.57913738877138,
          5.634833829660031,
          5.54426033218881,
          5.389816153005438,
          5.976588844057581,
          5.346876941674333
         ],
         "xaxis": "x",
         "y": [
          3.8263987821876175,
          2.24551266781415,
          2.3541084391474008,
          2.841359470454855,
          3.2995072987004876,
          2.4183012913197452,
          2.214843848047698,
          3.104145550554008,
          4.742890021953482,
          2.359835482339888,
          3.03261876085072,
          5.1522761105633705,
          4.896013359121221
         ],
         "yaxis": "y"
        }
       ],
       "layout": {
        "autosize": true,
        "font": {
         "size": 18
        },
        "legend": {
         "itemsizing": "constant",
         "tracegroupgap": 0
        },
        "margin": {
         "t": 60
        },
        "template": {
         "data": {
          "bar": [
           {
            "error_x": {
             "color": "#2a3f5f"
            },
            "error_y": {
             "color": "#2a3f5f"
            },
            "marker": {
             "line": {
              "color": "#E5ECF6",
              "width": 0.5
             }
            },
            "type": "bar"
           }
          ],
          "barpolar": [
           {
            "marker": {
             "line": {
              "color": "#E5ECF6",
              "width": 0.5
             }
            },
            "type": "barpolar"
           }
          ],
          "carpet": [
           {
            "aaxis": {
             "endlinecolor": "#2a3f5f",
             "gridcolor": "white",
             "linecolor": "white",
             "minorgridcolor": "white",
             "startlinecolor": "#2a3f5f"
            },
            "baxis": {
             "endlinecolor": "#2a3f5f",
             "gridcolor": "white",
             "linecolor": "white",
             "minorgridcolor": "white",
             "startlinecolor": "#2a3f5f"
            },
            "type": "carpet"
           }
          ],
          "choropleth": [
           {
            "colorbar": {
             "outlinewidth": 0,
             "ticks": ""
            },
            "type": "choropleth"
           }
          ],
          "contour": [
           {
            "colorbar": {
             "outlinewidth": 0,
             "ticks": ""
            },
            "colorscale": [
             [
              0,
              "#0d0887"
             ],
             [
              0.1111111111111111,
              "#46039f"
             ],
             [
              0.2222222222222222,
              "#7201a8"
             ],
             [
              0.3333333333333333,
              "#9c179e"
             ],
             [
              0.4444444444444444,
              "#bd3786"
             ],
             [
              0.5555555555555556,
              "#d8576b"
             ],
             [
              0.6666666666666666,
              "#ed7953"
             ],
             [
              0.7777777777777778,
              "#fb9f3a"
             ],
             [
              0.8888888888888888,
              "#fdca26"
             ],
             [
              1,
              "#f0f921"
             ]
            ],
            "type": "contour"
           }
          ],
          "contourcarpet": [
           {
            "colorbar": {
             "outlinewidth": 0,
             "ticks": ""
            },
            "type": "contourcarpet"
           }
          ],
          "heatmap": [
           {
            "colorbar": {
             "outlinewidth": 0,
             "ticks": ""
            },
            "colorscale": [
             [
              0,
              "#0d0887"
             ],
             [
              0.1111111111111111,
              "#46039f"
             ],
             [
              0.2222222222222222,
              "#7201a8"
             ],
             [
              0.3333333333333333,
              "#9c179e"
             ],
             [
              0.4444444444444444,
              "#bd3786"
             ],
             [
              0.5555555555555556,
              "#d8576b"
             ],
             [
              0.6666666666666666,
              "#ed7953"
             ],
             [
              0.7777777777777778,
              "#fb9f3a"
             ],
             [
              0.8888888888888888,
              "#fdca26"
             ],
             [
              1,
              "#f0f921"
             ]
            ],
            "type": "heatmap"
           }
          ],
          "heatmapgl": [
           {
            "colorbar": {
             "outlinewidth": 0,
             "ticks": ""
            },
            "colorscale": [
             [
              0,
              "#0d0887"
             ],
             [
              0.1111111111111111,
              "#46039f"
             ],
             [
              0.2222222222222222,
              "#7201a8"
             ],
             [
              0.3333333333333333,
              "#9c179e"
             ],
             [
              0.4444444444444444,
              "#bd3786"
             ],
             [
              0.5555555555555556,
              "#d8576b"
             ],
             [
              0.6666666666666666,
              "#ed7953"
             ],
             [
              0.7777777777777778,
              "#fb9f3a"
             ],
             [
              0.8888888888888888,
              "#fdca26"
             ],
             [
              1,
              "#f0f921"
             ]
            ],
            "type": "heatmapgl"
           }
          ],
          "histogram": [
           {
            "marker": {
             "colorbar": {
              "outlinewidth": 0,
              "ticks": ""
             }
            },
            "type": "histogram"
           }
          ],
          "histogram2d": [
           {
            "colorbar": {
             "outlinewidth": 0,
             "ticks": ""
            },
            "colorscale": [
             [
              0,
              "#0d0887"
             ],
             [
              0.1111111111111111,
              "#46039f"
             ],
             [
              0.2222222222222222,
              "#7201a8"
             ],
             [
              0.3333333333333333,
              "#9c179e"
             ],
             [
              0.4444444444444444,
              "#bd3786"
             ],
             [
              0.5555555555555556,
              "#d8576b"
             ],
             [
              0.6666666666666666,
              "#ed7953"
             ],
             [
              0.7777777777777778,
              "#fb9f3a"
             ],
             [
              0.8888888888888888,
              "#fdca26"
             ],
             [
              1,
              "#f0f921"
             ]
            ],
            "type": "histogram2d"
           }
          ],
          "histogram2dcontour": [
           {
            "colorbar": {
             "outlinewidth": 0,
             "ticks": ""
            },
            "colorscale": [
             [
              0,
              "#0d0887"
             ],
             [
              0.1111111111111111,
              "#46039f"
             ],
             [
              0.2222222222222222,
              "#7201a8"
             ],
             [
              0.3333333333333333,
              "#9c179e"
             ],
             [
              0.4444444444444444,
              "#bd3786"
             ],
             [
              0.5555555555555556,
              "#d8576b"
             ],
             [
              0.6666666666666666,
              "#ed7953"
             ],
             [
              0.7777777777777778,
              "#fb9f3a"
             ],
             [
              0.8888888888888888,
              "#fdca26"
             ],
             [
              1,
              "#f0f921"
             ]
            ],
            "type": "histogram2dcontour"
           }
          ],
          "mesh3d": [
           {
            "colorbar": {
             "outlinewidth": 0,
             "ticks": ""
            },
            "type": "mesh3d"
           }
          ],
          "parcoords": [
           {
            "line": {
             "colorbar": {
              "outlinewidth": 0,
              "ticks": ""
             }
            },
            "type": "parcoords"
           }
          ],
          "scatter": [
           {
            "marker": {
             "colorbar": {
              "outlinewidth": 0,
              "ticks": ""
             }
            },
            "type": "scatter"
           }
          ],
          "scatter3d": [
           {
            "line": {
             "colorbar": {
              "outlinewidth": 0,
              "ticks": ""
             }
            },
            "marker": {
             "colorbar": {
              "outlinewidth": 0,
              "ticks": ""
             }
            },
            "type": "scatter3d"
           }
          ],
          "scattercarpet": [
           {
            "marker": {
             "colorbar": {
              "outlinewidth": 0,
              "ticks": ""
             }
            },
            "type": "scattercarpet"
           }
          ],
          "scattergeo": [
           {
            "marker": {
             "colorbar": {
              "outlinewidth": 0,
              "ticks": ""
             }
            },
            "type": "scattergeo"
           }
          ],
          "scattergl": [
           {
            "marker": {
             "colorbar": {
              "outlinewidth": 0,
              "ticks": ""
             }
            },
            "type": "scattergl"
           }
          ],
          "scattermapbox": [
           {
            "marker": {
             "colorbar": {
              "outlinewidth": 0,
              "ticks": ""
             }
            },
            "type": "scattermapbox"
           }
          ],
          "scatterpolar": [
           {
            "marker": {
             "colorbar": {
              "outlinewidth": 0,
              "ticks": ""
             }
            },
            "type": "scatterpolar"
           }
          ],
          "scatterpolargl": [
           {
            "marker": {
             "colorbar": {
              "outlinewidth": 0,
              "ticks": ""
             }
            },
            "type": "scatterpolargl"
           }
          ],
          "scatterternary": [
           {
            "marker": {
             "colorbar": {
              "outlinewidth": 0,
              "ticks": ""
             }
            },
            "type": "scatterternary"
           }
          ],
          "surface": [
           {
            "colorbar": {
             "outlinewidth": 0,
             "ticks": ""
            },
            "colorscale": [
             [
              0,
              "#0d0887"
             ],
             [
              0.1111111111111111,
              "#46039f"
             ],
             [
              0.2222222222222222,
              "#7201a8"
             ],
             [
              0.3333333333333333,
              "#9c179e"
             ],
             [
              0.4444444444444444,
              "#bd3786"
             ],
             [
              0.5555555555555556,
              "#d8576b"
             ],
             [
              0.6666666666666666,
              "#ed7953"
             ],
             [
              0.7777777777777778,
              "#fb9f3a"
             ],
             [
              0.8888888888888888,
              "#fdca26"
             ],
             [
              1,
              "#f0f921"
             ]
            ],
            "type": "surface"
           }
          ],
          "table": [
           {
            "cells": {
             "fill": {
              "color": "#EBF0F8"
             },
             "line": {
              "color": "white"
             }
            },
            "header": {
             "fill": {
              "color": "#C8D4E3"
             },
             "line": {
              "color": "white"
             }
            },
            "type": "table"
           }
          ]
         },
         "layout": {
          "annotationdefaults": {
           "arrowcolor": "#2a3f5f",
           "arrowhead": 0,
           "arrowwidth": 1
          },
          "colorscale": {
           "diverging": [
            [
             0,
             "#8e0152"
            ],
            [
             0.1,
             "#c51b7d"
            ],
            [
             0.2,
             "#de77ae"
            ],
            [
             0.3,
             "#f1b6da"
            ],
            [
             0.4,
             "#fde0ef"
            ],
            [
             0.5,
             "#f7f7f7"
            ],
            [
             0.6,
             "#e6f5d0"
            ],
            [
             0.7,
             "#b8e186"
            ],
            [
             0.8,
             "#7fbc41"
            ],
            [
             0.9,
             "#4d9221"
            ],
            [
             1,
             "#276419"
            ]
           ],
           "sequential": [
            [
             0,
             "#0d0887"
            ],
            [
             0.1111111111111111,
             "#46039f"
            ],
            [
             0.2222222222222222,
             "#7201a8"
            ],
            [
             0.3333333333333333,
             "#9c179e"
            ],
            [
             0.4444444444444444,
             "#bd3786"
            ],
            [
             0.5555555555555556,
             "#d8576b"
            ],
            [
             0.6666666666666666,
             "#ed7953"
            ],
            [
             0.7777777777777778,
             "#fb9f3a"
            ],
            [
             0.8888888888888888,
             "#fdca26"
            ],
            [
             1,
             "#f0f921"
            ]
           ],
           "sequentialminus": [
            [
             0,
             "#0d0887"
            ],
            [
             0.1111111111111111,
             "#46039f"
            ],
            [
             0.2222222222222222,
             "#7201a8"
            ],
            [
             0.3333333333333333,
             "#9c179e"
            ],
            [
             0.4444444444444444,
             "#bd3786"
            ],
            [
             0.5555555555555556,
             "#d8576b"
            ],
            [
             0.6666666666666666,
             "#ed7953"
            ],
            [
             0.7777777777777778,
             "#fb9f3a"
            ],
            [
             0.8888888888888888,
             "#fdca26"
            ],
            [
             1,
             "#f0f921"
            ]
           ]
          },
          "colorway": [
           "#636efa",
           "#EF553B",
           "#00cc96",
           "#ab63fa",
           "#FFA15A",
           "#19d3f3",
           "#FF6692",
           "#B6E880",
           "#FF97FF",
           "#FECB52"
          ],
          "font": {
           "color": "#2a3f5f"
          },
          "geo": {
           "bgcolor": "white",
           "lakecolor": "white",
           "landcolor": "#E5ECF6",
           "showlakes": true,
           "showland": true,
           "subunitcolor": "white"
          },
          "hoverlabel": {
           "align": "left"
          },
          "hovermode": "closest",
          "mapbox": {
           "style": "light"
          },
          "paper_bgcolor": "white",
          "plot_bgcolor": "#E5ECF6",
          "polar": {
           "angularaxis": {
            "gridcolor": "white",
            "linecolor": "white",
            "ticks": ""
           },
           "bgcolor": "#E5ECF6",
           "radialaxis": {
            "gridcolor": "white",
            "linecolor": "white",
            "ticks": ""
           }
          },
          "scene": {
           "xaxis": {
            "backgroundcolor": "#E5ECF6",
            "gridcolor": "white",
            "gridwidth": 2,
            "linecolor": "white",
            "showbackground": true,
            "ticks": "",
            "zerolinecolor": "white"
           },
           "yaxis": {
            "backgroundcolor": "#E5ECF6",
            "gridcolor": "white",
            "gridwidth": 2,
            "linecolor": "white",
            "showbackground": true,
            "ticks": "",
            "zerolinecolor": "white"
           },
           "zaxis": {
            "backgroundcolor": "#E5ECF6",
            "gridcolor": "white",
            "gridwidth": 2,
            "linecolor": "white",
            "showbackground": true,
            "ticks": "",
            "zerolinecolor": "white"
           }
          },
          "shapedefaults": {
           "line": {
            "color": "#2a3f5f"
           }
          },
          "ternary": {
           "aaxis": {
            "gridcolor": "white",
            "linecolor": "white",
            "ticks": ""
           },
           "baxis": {
            "gridcolor": "white",
            "linecolor": "white",
            "ticks": ""
           },
           "bgcolor": "#E5ECF6",
           "caxis": {
            "gridcolor": "white",
            "linecolor": "white",
            "ticks": ""
           }
          },
          "title": {
           "x": 0.05
          },
          "xaxis": {
           "automargin": true,
           "gridcolor": "white",
           "linecolor": "white",
           "ticks": "",
           "zerolinecolor": "white",
           "zerolinewidth": 2
          },
          "yaxis": {
           "automargin": true,
           "gridcolor": "white",
           "linecolor": "white",
           "ticks": "",
           "zerolinecolor": "white",
           "zerolinewidth": 2
          }
         }
        },
        "title": {
         "font": {
          "size": 25
         },
         "text": "Cyst_dice_with_size"
        },
        "xaxis": {
         "anchor": "y",
         "autorange": true,
         "domain": [
          0,
          0.98
         ],
         "range": [
          5.2893157973792775,
          6.324194866986199
         ],
         "tickfont": {
          "family": "Courier",
          "size": 20
         },
         "title": {
          "font": {
           "family": "Courier",
           "size": 23
          },
          "text": "log_kid"
         },
         "type": "linear"
        },
        "yaxis": {
         "anchor": "x",
         "autorange": true,
         "domain": [
          0,
          1
         ],
         "range": [
          2.0176411433459176,
          5.5066120726851056
         ],
         "tickfont": {
          "family": "Courier",
          "size": 20
         },
         "title": {
          "font": {
           "family": "Courier",
           "size": 23
          },
          "text": "log_cys"
         },
         "type": "linear"
        }
       }
      },
      "image/png": "[encoded data removed]",
      "text/html": [
       "<div>\n",
       "        \n",
       "        \n",
       "            <div id=\"c3c17125-7fd2-4fd1-9b69-64027841509b\" class=\"plotly-graph-div\" style=\"height:600px; width:100%;\"></div>\n",
       "            <script type=\"text/javascript\">\n",
       "                require([\"plotly\"], function(Plotly) {\n",
       "                    window.PLOTLYENV=window.PLOTLYENV || {};\n",
       "                    \n",
       "                if (document.getElementById(\"c3c17125-7fd2-4fd1-9b69-64027841509b\")) {\n",
       "                    Plotly.newPlot(\n",
       "                        'c3c17125-7fd2-4fd1-9b69-64027841509b',\n",
       "                        [{\"hoverlabel\": {\"namelength\": 0}, \"hovertemplate\": \"<b>%{hovertext}</b><br><br>log_kid=%{x}<br>log_cys=%{y}<br>round_dice=%{marker.size}<br>cid=%{text}\", \"hovertext\": [135.0, 136.0, 138.0, 142.0, 145.0, 146.0, 147.0, 149.0, 151.0, 152.0, 154.0, 157.0, 159.0], \"legendgroup\": \"\", \"marker\": {\"color\": \"#636efa\", \"size\": [0.632, 0.0, 0.0, 0.0, 0.0, 0.0, 0.0, 0.448, 0.541, 0.0, 0.457, 0.782, 0.027], \"sizemode\": \"area\", \"sizeref\": 0.0008688888888888889, \"symbol\": \"circle\"}, \"mode\": \"markers+text\", \"name\": \"\", \"showlegend\": false, \"text\": [135.0, 136.0, 138.0, 142.0, 145.0, 146.0, 147.0, 149.0, 151.0, 152.0, 154.0, 157.0, 159.0], \"type\": \"scatter\", \"x\": [5.548147325173068, 6.26849091706603, 5.499387371006447, 5.594707382612499, 5.750575500891999, 5.785197390598324, 5.500451921483333, 5.57913738877138, 5.634833829660031, 5.54426033218881, 5.389816153005438, 5.976588844057581, 5.346876941674333], \"xaxis\": \"x\", \"y\": [3.8263987821876175, 2.24551266781415, 2.3541084391474008, 2.841359470454855, 3.2995072987004876, 2.4183012913197452, 2.214843848047698, 3.104145550554008, 4.742890021953482, 2.359835482339888, 3.03261876085072, 5.1522761105633705, 4.896013359121221], \"yaxis\": \"y\"}],\n",
       "                        {\"font\": {\"size\": 18}, \"height\": 600, \"legend\": {\"itemsizing\": \"constant\", \"tracegroupgap\": 0}, \"margin\": {\"t\": 60}, \"template\": {\"data\": {\"bar\": [{\"error_x\": {\"color\": \"#2a3f5f\"}, \"error_y\": {\"color\": \"#2a3f5f\"}, \"marker\": {\"line\": {\"color\": \"#E5ECF6\", \"width\": 0.5}}, \"type\": \"bar\"}], \"barpolar\": [{\"marker\": {\"line\": {\"color\": \"#E5ECF6\", \"width\": 0.5}}, \"type\": \"barpolar\"}], \"carpet\": [{\"aaxis\": {\"endlinecolor\": \"#2a3f5f\", \"gridcolor\": \"white\", \"linecolor\": \"white\", \"minorgridcolor\": \"white\", \"startlinecolor\": \"#2a3f5f\"}, \"baxis\": {\"endlinecolor\": \"#2a3f5f\", \"gridcolor\": \"white\", \"linecolor\": \"white\", \"minorgridcolor\": \"white\", \"startlinecolor\": \"#2a3f5f\"}, \"type\": \"carpet\"}], \"choropleth\": [{\"colorbar\": {\"outlinewidth\": 0, \"ticks\": \"\"}, \"type\": \"choropleth\"}], \"contour\": [{\"colorbar\": {\"outlinewidth\": 0, \"ticks\": \"\"}, \"colorscale\": [[0.0, \"#0d0887\"], [0.1111111111111111, \"#46039f\"], [0.2222222222222222, \"#7201a8\"], [0.3333333333333333, \"#9c179e\"], [0.4444444444444444, \"#bd3786\"], [0.5555555555555556, \"#d8576b\"], [0.6666666666666666, \"#ed7953\"], [0.7777777777777778, \"#fb9f3a\"], [0.8888888888888888, \"#fdca26\"], [1.0, \"#f0f921\"]], \"type\": \"contour\"}], \"contourcarpet\": [{\"colorbar\": {\"outlinewidth\": 0, \"ticks\": \"\"}, \"type\": \"contourcarpet\"}], \"heatmap\": [{\"colorbar\": {\"outlinewidth\": 0, \"ticks\": \"\"}, \"colorscale\": [[0.0, \"#0d0887\"], [0.1111111111111111, \"#46039f\"], [0.2222222222222222, \"#7201a8\"], [0.3333333333333333, \"#9c179e\"], [0.4444444444444444, \"#bd3786\"], [0.5555555555555556, \"#d8576b\"], [0.6666666666666666, \"#ed7953\"], [0.7777777777777778, \"#fb9f3a\"], [0.8888888888888888, \"#fdca26\"], [1.0, \"#f0f921\"]], \"type\": \"heatmap\"}], \"heatmapgl\": [{\"colorbar\": {\"outlinewidth\": 0, \"ticks\": \"\"}, \"colorscale\": [[0.0, \"#0d0887\"], [0.1111111111111111, \"#46039f\"], [0.2222222222222222, \"#7201a8\"], [0.3333333333333333, \"#9c179e\"], [0.4444444444444444, \"#bd3786\"], [0.5555555555555556, \"#d8576b\"], [0.6666666666666666, \"#ed7953\"], [0.7777777777777778, \"#fb9f3a\"], [0.8888888888888888, \"#fdca26\"], [1.0, \"#f0f921\"]], \"type\": \"heatmapgl\"}], \"histogram\": [{\"marker\": {\"colorbar\": {\"outlinewidth\": 0, \"ticks\": \"\"}}, \"type\": \"histogram\"}], \"histogram2d\": [{\"colorbar\": {\"outlinewidth\": 0, \"ticks\": \"\"}, \"colorscale\": [[0.0, \"#0d0887\"], [0.1111111111111111, \"#46039f\"], [0.2222222222222222, \"#7201a8\"], [0.3333333333333333, \"#9c179e\"], [0.4444444444444444, \"#bd3786\"], [0.5555555555555556, \"#d8576b\"], [0.6666666666666666, \"#ed7953\"], [0.7777777777777778, \"#fb9f3a\"], [0.8888888888888888, \"#fdca26\"], [1.0, \"#f0f921\"]], \"type\": \"histogram2d\"}], \"histogram2dcontour\": [{\"colorbar\": {\"outlinewidth\": 0, \"ticks\": \"\"}, \"colorscale\": [[0.0, \"#0d0887\"], [0.1111111111111111, \"#46039f\"], [0.2222222222222222, \"#7201a8\"], [0.3333333333333333, \"#9c179e\"], [0.4444444444444444, \"#bd3786\"], [0.5555555555555556, \"#d8576b\"], [0.6666666666666666, \"#ed7953\"], [0.7777777777777778, \"#fb9f3a\"], [0.8888888888888888, \"#fdca26\"], [1.0, \"#f0f921\"]], \"type\": \"histogram2dcontour\"}], \"mesh3d\": [{\"colorbar\": {\"outlinewidth\": 0, \"ticks\": \"\"}, \"type\": \"mesh3d\"}], \"parcoords\": [{\"line\": {\"colorbar\": {\"outlinewidth\": 0, \"ticks\": \"\"}}, \"type\": \"parcoords\"}], \"scatter\": [{\"marker\": {\"colorbar\": {\"outlinewidth\": 0, \"ticks\": \"\"}}, \"type\": \"scatter\"}], \"scatter3d\": [{\"line\": {\"colorbar\": {\"outlinewidth\": 0, \"ticks\": \"\"}}, \"marker\": {\"colorbar\": {\"outlinewidth\": 0, \"ticks\": \"\"}}, \"type\": \"scatter3d\"}], \"scattercarpet\": [{\"marker\": {\"colorbar\": {\"outlinewidth\": 0, \"ticks\": \"\"}}, \"type\": \"scattercarpet\"}], \"scattergeo\": [{\"marker\": {\"colorbar\": {\"outlinewidth\": 0, \"ticks\": \"\"}}, \"type\": \"scattergeo\"}], \"scattergl\": [{\"marker\": {\"colorbar\": {\"outlinewidth\": 0, \"ticks\": \"\"}}, \"type\": \"scattergl\"}], \"scattermapbox\": [{\"marker\": {\"colorbar\": {\"outlinewidth\": 0, \"ticks\": \"\"}}, \"type\": \"scattermapbox\"}], \"scatterpolar\": [{\"marker\": {\"colorbar\": {\"outlinewidth\": 0, \"ticks\": \"\"}}, \"type\": \"scatterpolar\"}], \"scatterpolargl\": [{\"marker\": {\"colorbar\": {\"outlinewidth\": 0, \"ticks\": \"\"}}, \"type\": \"scatterpolargl\"}], \"scatterternary\": [{\"marker\": {\"colorbar\": {\"outlinewidth\": 0, \"ticks\": \"\"}}, \"type\": \"scatterternary\"}], \"surface\": [{\"colorbar\": {\"outlinewidth\": 0, \"ticks\": \"\"}, \"colorscale\": [[0.0, \"#0d0887\"], [0.1111111111111111, \"#46039f\"], [0.2222222222222222, \"#7201a8\"], [0.3333333333333333, \"#9c179e\"], [0.4444444444444444, \"#bd3786\"], [0.5555555555555556, \"#d8576b\"], [0.6666666666666666, \"#ed7953\"], [0.7777777777777778, \"#fb9f3a\"], [0.8888888888888888, \"#fdca26\"], [1.0, \"#f0f921\"]], \"type\": \"surface\"}], \"table\": [{\"cells\": {\"fill\": {\"color\": \"#EBF0F8\"}, \"line\": {\"color\": \"white\"}}, \"header\": {\"fill\": {\"color\": \"#C8D4E3\"}, \"line\": {\"color\": \"white\"}}, \"type\": \"table\"}]}, \"layout\": {\"annotationdefaults\": {\"arrowcolor\": \"#2a3f5f\", \"arrowhead\": 0, \"arrowwidth\": 1}, \"colorscale\": {\"diverging\": [[0, \"#8e0152\"], [0.1, \"#c51b7d\"], [0.2, \"#de77ae\"], [0.3, \"#f1b6da\"], [0.4, \"#fde0ef\"], [0.5, \"#f7f7f7\"], [0.6, \"#e6f5d0\"], [0.7, \"#b8e186\"], [0.8, \"#7fbc41\"], [0.9, \"#4d9221\"], [1, \"#276419\"]], \"sequential\": [[0.0, \"#0d0887\"], [0.1111111111111111, \"#46039f\"], [0.2222222222222222, \"#7201a8\"], [0.3333333333333333, \"#9c179e\"], [0.4444444444444444, \"#bd3786\"], [0.5555555555555556, \"#d8576b\"], [0.6666666666666666, \"#ed7953\"], [0.7777777777777778, \"#fb9f3a\"], [0.8888888888888888, \"#fdca26\"], [1.0, \"#f0f921\"]], \"sequentialminus\": [[0.0, \"#0d0887\"], [0.1111111111111111, \"#46039f\"], [0.2222222222222222, \"#7201a8\"], [0.3333333333333333, \"#9c179e\"], [0.4444444444444444, \"#bd3786\"], [0.5555555555555556, \"#d8576b\"], [0.6666666666666666, \"#ed7953\"], [0.7777777777777778, \"#fb9f3a\"], [0.8888888888888888, \"#fdca26\"], [1.0, \"#f0f921\"]]}, \"colorway\": [\"#636efa\", \"#EF553B\", \"#00cc96\", \"#ab63fa\", \"#FFA15A\", \"#19d3f3\", \"#FF6692\", \"#B6E880\", \"#FF97FF\", \"#FECB52\"], \"font\": {\"color\": \"#2a3f5f\"}, \"geo\": {\"bgcolor\": \"white\", \"lakecolor\": \"white\", \"landcolor\": \"#E5ECF6\", \"showlakes\": true, \"showland\": true, \"subunitcolor\": \"white\"}, \"hoverlabel\": {\"align\": \"left\"}, \"hovermode\": \"closest\", \"mapbox\": {\"style\": \"light\"}, \"paper_bgcolor\": \"white\", \"plot_bgcolor\": \"#E5ECF6\", \"polar\": {\"angularaxis\": {\"gridcolor\": \"white\", \"linecolor\": \"white\", \"ticks\": \"\"}, \"bgcolor\": \"#E5ECF6\", \"radialaxis\": {\"gridcolor\": \"white\", \"linecolor\": \"white\", \"ticks\": \"\"}}, \"scene\": {\"xaxis\": {\"backgroundcolor\": \"#E5ECF6\", \"gridcolor\": \"white\", \"gridwidth\": 2, \"linecolor\": \"white\", \"showbackground\": true, \"ticks\": \"\", \"zerolinecolor\": \"white\"}, \"yaxis\": {\"backgroundcolor\": \"#E5ECF6\", \"gridcolor\": \"white\", \"gridwidth\": 2, \"linecolor\": \"white\", \"showbackground\": true, \"ticks\": \"\", \"zerolinecolor\": \"white\"}, \"zaxis\": {\"backgroundcolor\": \"#E5ECF6\", \"gridcolor\": \"white\", \"gridwidth\": 2, \"linecolor\": \"white\", \"showbackground\": true, \"ticks\": \"\", \"zerolinecolor\": \"white\"}}, \"shapedefaults\": {\"line\": {\"color\": \"#2a3f5f\"}}, \"ternary\": {\"aaxis\": {\"gridcolor\": \"white\", \"linecolor\": \"white\", \"ticks\": \"\"}, \"baxis\": {\"gridcolor\": \"white\", \"linecolor\": \"white\", \"ticks\": \"\"}, \"bgcolor\": \"#E5ECF6\", \"caxis\": {\"gridcolor\": \"white\", \"linecolor\": \"white\", \"ticks\": \"\"}}, \"title\": {\"x\": 0.05}, \"xaxis\": {\"automargin\": true, \"gridcolor\": \"white\", \"linecolor\": \"white\", \"ticks\": \"\", \"zerolinecolor\": \"white\", \"zerolinewidth\": 2}, \"yaxis\": {\"automargin\": true, \"gridcolor\": \"white\", \"linecolor\": \"white\", \"ticks\": \"\", \"zerolinecolor\": \"white\", \"zerolinewidth\": 2}}}, \"title\": {\"font\": {\"size\": 25}, \"text\": \"Cyst_dice_with_size\"}, \"xaxis\": {\"anchor\": \"y\", \"domain\": [0.0, 0.98], \"tickfont\": {\"family\": \"Courier\", \"size\": 20}, \"title\": {\"font\": {\"family\": \"Courier\", \"size\": 23}, \"text\": \"log_kid\"}}, \"yaxis\": {\"anchor\": \"x\", \"domain\": [0.0, 1.0], \"tickfont\": {\"family\": \"Courier\", \"size\": 20}, \"title\": {\"font\": {\"family\": \"Courier\", \"size\": 23}, \"text\": \"log_cys\"}}},\n",
       "                        {\"responsive\": true}\n",
       "                    ).then(function(){\n",
       "                            \n",
       "var gd = document.getElementById('c3c17125-7fd2-4fd1-9b69-64027841509b');\n",
       "var x = new MutationObserver(function (mutations, observer) {{\n",
       "        var display = window.getComputedStyle(gd).display;\n",
       "        if (!display || display === 'none') {{\n",
       "            console.log([gd, 'removed!']);\n",
       "            Plotly.purge(gd);\n",
       "            observer.disconnect();\n",
       "        }}\n",
       "}});\n",
       "\n",
       "// Listen for the removal of the full notebook cells\n",
       "var notebookContainer = gd.closest('#notebook-container');\n",
       "if (notebookContainer) {{\n",
       "    x.observe(notebookContainer, {childList: true});\n",
       "}}\n",
       "\n",
       "// Listen for the clearing of the current output cell\n",
       "var outputEl = gd.closest('.output');\n",
       "if (outputEl) {{\n",
       "    x.observe(outputEl, {childList: true});\n",
       "}}\n",
       "\n",
       "                        })\n",
       "                };\n",
       "                });\n",
       "            </script>\n",
       "        </div>"
      ]
     },
     "metadata": {},
     "output_type": "display_data"
    }
   ],
   "source": [
    "fig = px.scatter(cys_df, x=\"log_kid\", y=\"log_cys\",text='cid', size='round_dice',size_max=30,hover_name='cid')\n",
    "fig.update_layout(title_text=\"Cyst_dice_with_size\",titlefont={\"size\": 25},font={'size':18})\n",
    "fig.update_xaxes(title_font=dict(size=23, family='Courier'))\n",
    "fig.update_yaxes(tickfont=dict(family='Courier', size=20))\n",
    "fig.update_xaxes(tickfont=dict(family='Courier', size=20))\n",
    "fig.update_yaxes(title_font=dict(size=23, family='Courier'))\n",
    "fig.show()"
   ]
  },
  {
   "cell_type": "code",
   "execution_count": null,
   "metadata": {},
   "outputs": [],
   "source": []
  }
 ],
 "metadata": {
  "kernelspec": {
   "display_name": "Python 3",
   "language": "python",
   "name": "python3"
  },
  "language_info": {
   "codemirror_mode": {
    "name": "ipython",
    "version": 3
   },
   "file_extension": ".py",
   "mimetype": "text/x-python",
   "name": "python",
   "nbconvert_exporter": "python",
   "pygments_lexer": "ipython3",
   "version": "3.6.8"
  }
 },
 "nbformat": 4,
 "nbformat_minor": 4
}
